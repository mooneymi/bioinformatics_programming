{
 "cells": [
  {
   "cell_type": "markdown",
   "metadata": {},
   "source": [
    "# BMI565: Bioinformatics Programming & Scripting\n",
    "\n",
    "#### (C) Michael Mooney (mooneymi@ohsu.edu)\n",
    "\n",
    "## Week 8: BioPython - Alignments and BLAST\n",
    "\n",
    "1. Sequence Alignment\n",
    "2. MUSCLE\n",
    "    - Alignment I/O\n",
    "    - `AlignInfo` module\n",
    "3. BLAST\n",
    "    - BLAST Queries Using BioPython\n",
    "\n",
    "#### Requirements\n",
    "\n",
    "- Python 2.7 or 3.x\n",
    "- `Bio` (BioPython) module (`conda install biopython`)\n",
    "- MUSCLE command-line program \n",
    "    - [https://github.com/rcedgar/muscle](https://github.com/rcedgar/muscle)\n",
    "- Data Files\n",
    "    - `./data/egfr.fasta`"
   ]
  },
  {
   "cell_type": "code",
   "execution_count": 1,
   "metadata": {},
   "outputs": [],
   "source": [
    "from __future__ import print_function, division"
   ]
  },
  {
   "cell_type": "markdown",
   "metadata": {},
   "source": [
    "## Sequence Alignment\n",
    "\n",
    "By aligning biological sequences we can identify functional, structural, or evolutionary relationships between sequences. \n",
    "\n",
    "- Pairwise alignment algorithms compare two sequences\n",
    "    - Smith-Waterman\n",
    "    - Needleman-Wunsch\n",
    "- Multiple sequence alignment (MSA) algorithms compare two or more sequences\n",
    "    - clustalw\n",
    "    - muscle\n",
    "    - tcoffee\n",
    "    \n",
    "BioPython supports both types of alignment through its `Align` module."
   ]
  },
  {
   "cell_type": "markdown",
   "metadata": {},
   "source": [
    "## MUSCLE\n",
    "\n",
    "#### Installing MUSCLE: \n",
    "\n",
    "For those using a Mac, run the following: `conda install -c bioconda muscle`\n",
    "\n",
    "Windows users can download a pre-compiled executable here: [https://github.com/rcedgar/muscle/releases/tag/v5.1](https://github.com/rcedgar/muscle/releases/tag/v5.1)\n",
    "\n",
    "MUSCLE Documentation: [https://drive5.com/muscle5/manual/index.html](https://drive5.com/muscle5/manual/index.html)\n",
    "\n",
    "The MUSCLE MSA program uses progressive alignment construction by taking the following steps:\n",
    "\n",
    "1. Perform pair-wise alignment of all sequences\n",
    "2. Construct a tree such that branches represent the most similar sequences\n",
    "3. Collapse branches into groups in order of similarity \n",
    "\n",
    "The algorithm implements three stages (draft progressive, improved progressive, and refinement) to arrive at the final alignment. Details of the algorithm can be found in the following paper:\n",
    "\n",
    "[https://bmcbioinformatics.biomedcentral.com/articles/10.1186/1471-2105-5-113](https://bmcbioinformatics.biomedcentral.com/articles/10.1186/1471-2105-5-113)"
   ]
  },
  {
   "cell_type": "code",
   "execution_count": 2,
   "metadata": {},
   "outputs": [],
   "source": [
    "## Wrappers for command-line programs, like MUSCLE, are being deprecated\n",
    "## https://github.com/biopython/biopython/issues/2877\n",
    "#from Bio.Align.Applications import MuscleCommandline\n",
    "import subprocess"
   ]
  },
  {
   "cell_type": "code",
   "execution_count": 3,
   "metadata": {},
   "outputs": [],
   "source": [
    "## Create and run MUSCLE command\n",
    "muscle_result = subprocess.run([\"muscle\", \"-align\", \"./data/egfr.fasta\", \"-output\", \"./data/egfr.afa\"], capture_output=True)"
   ]
  },
  {
   "cell_type": "code",
   "execution_count": 4,
   "metadata": {},
   "outputs": [
    {
     "data": {
      "text/plain": [
       "0"
      ]
     },
     "execution_count": 4,
     "metadata": {},
     "output_type": "execute_result"
    }
   ],
   "source": [
    "muscle_result.returncode"
   ]
  },
  {
   "cell_type": "code",
   "execution_count": 5,
   "metadata": {},
   "outputs": [
    {
     "name": "stdout",
     "output_type": "stream",
     "text": [
      "\n",
      "muscle 5.1.osx64 []  17.2Gb RAM, 8 cores\n",
      "Built Feb 22 2022 02:38:35\n",
      "(C) Copyright 2004-2021 Robert C. Edgar.\n",
      "https://drive5.com\n",
      "\n",
      "Input: 4 seqs, avg length 737, max 1210\n",
      "\n",
      "00:00 4.2Mb  CPU has 8 cores, running 8 threads\n",
      "00:00 4.4Mb    16.7% Calc posteriors\r",
      "00:00 4.7Mb   100.0% Calc posteriors\r\n",
      "00:00 134Mb    16.7% Consistency (1/2)\r",
      "00:00 134Mb   100.0% Consistency (1/2)\r\n",
      "00:00 134Mb    16.7% Consistency (2/2)\r",
      "00:00 134Mb   100.0% Consistency (2/2)\r\n",
      "00:00 134Mb    33.3% UPGMA5           \r",
      "00:00 134Mb   100.0% UPGMA5\r\n",
      "00:00 117Mb     1.0% Refining\r",
      "00:00 118Mb   100.0% Refining\r\n",
      "\n"
     ]
    }
   ],
   "source": [
    "print(muscle_result.stderr.decode())"
   ]
  },
  {
   "cell_type": "markdown",
   "metadata": {},
   "source": [
    "### Alignment I/O\n",
    "\n",
    "BioPython stores the results of a MSA in `MultipleSeqAlignment` objects. These objects can be created by reading the results of an alignment from a file using the `AlignIO` module.\n",
    "\n",
    "Supported formats: [http://biopython.org/wiki/AlignIO](http://biopython.org/wiki/AlignIO)"
   ]
  },
  {
   "cell_type": "code",
   "execution_count": 6,
   "metadata": {},
   "outputs": [
    {
     "name": "stdout",
     "output_type": "stream",
     "text": [
      "Alignment with 4 rows and 1214 columns\n",
      "MRPSGTAGAALLALLAALCPASRALEEKKVCQGTSNKLTQLGTF...SCH sp|P00533-3|EGFR_HUMAN\n",
      "MRPSGTAGAALLALLAALCPASRALEEKKVCQGTSNKLTQLGTF...--- sp|P00533-2|EGFR_HUMAN\n",
      "MRPSGTAGAALLALLAALCPASRALEEKKVCQGTSNKLTQLGTF...--- sp|P00533-4|EGFR_HUMAN\n",
      "MRPSGTAGAALLALLAALCPASRALEEKKVCQGTSNKLTQLGTF...--- sp|P00533|EGFR_HUMAN\n"
     ]
    }
   ],
   "source": [
    "from Bio import AlignIO\n",
    "\n",
    "## Read the alignment results from the ClustalW output file\n",
    "egfr_alignment = AlignIO.read(\"./data/egfr.afa\", \"fasta\")\n",
    "\n",
    "## egfr_alignment is now a BioPython MultipleSeqAlignment object\n",
    "print(egfr_alignment)"
   ]
  },
  {
   "cell_type": "code",
   "execution_count": 7,
   "metadata": {},
   "outputs": [
    {
     "name": "stdout",
     "output_type": "stream",
     "text": [
      "A\n",
      "-\n",
      "-\n",
      "A\n"
     ]
    }
   ],
   "source": [
    "for seq in egfr_alignment:\n",
    "    print(seq.seq[1209])\n",
    "    "
   ]
  },
  {
   "cell_type": "code",
   "execution_count": 8,
   "metadata": {},
   "outputs": [
    {
     "name": "stdout",
     "output_type": "stream",
     "text": [
      "Help on MultipleSeqAlignment in module Bio.Align object:\n",
      "\n",
      "class MultipleSeqAlignment(builtins.object)\n",
      " |  MultipleSeqAlignment(records, alphabet=None, annotations=None, column_annotations=None)\n",
      " |  \n",
      " |  Represents a classical multiple sequence alignment (MSA).\n",
      " |  \n",
      " |  By this we mean a collection of sequences (usually shown as rows) which\n",
      " |  are all the same length (usually with gap characters for insertions or\n",
      " |  padding). The data can then be regarded as a matrix of letters, with well\n",
      " |  defined columns.\n",
      " |  \n",
      " |  You would typically create an MSA by loading an alignment file with the\n",
      " |  AlignIO module:\n",
      " |  \n",
      " |  >>> from Bio import AlignIO\n",
      " |  >>> align = AlignIO.read(\"Clustalw/opuntia.aln\", \"clustal\")\n",
      " |  >>> print(align)\n",
      " |  Alignment with 7 rows and 156 columns\n",
      " |  TATACATTAAAGAAGGGGGATGCGGATAAATGGAAAGGCGAAAG...AGA gi|6273285|gb|AF191659.1|AF191\n",
      " |  TATACATTAAAGAAGGGGGATGCGGATAAATGGAAAGGCGAAAG...AGA gi|6273284|gb|AF191658.1|AF191\n",
      " |  TATACATTAAAGAAGGGGGATGCGGATAAATGGAAAGGCGAAAG...AGA gi|6273287|gb|AF191661.1|AF191\n",
      " |  TATACATAAAAGAAGGGGGATGCGGATAAATGGAAAGGCGAAAG...AGA gi|6273286|gb|AF191660.1|AF191\n",
      " |  TATACATTAAAGGAGGGGGATGCGGATAAATGGAAAGGCGAAAG...AGA gi|6273290|gb|AF191664.1|AF191\n",
      " |  TATACATTAAAGGAGGGGGATGCGGATAAATGGAAAGGCGAAAG...AGA gi|6273289|gb|AF191663.1|AF191\n",
      " |  TATACATTAAAGGAGGGGGATGCGGATAAATGGAAAGGCGAAAG...AGA gi|6273291|gb|AF191665.1|AF191\n",
      " |  \n",
      " |  In some respects you can treat these objects as lists of SeqRecord objects,\n",
      " |  each representing a row of the alignment. Iterating over an alignment gives\n",
      " |  the SeqRecord object for each row:\n",
      " |  \n",
      " |  >>> len(align)\n",
      " |  7\n",
      " |  >>> for record in align:\n",
      " |  ...     print(\"%s %i\" % (record.id, len(record)))\n",
      " |  ...\n",
      " |  gi|6273285|gb|AF191659.1|AF191 156\n",
      " |  gi|6273284|gb|AF191658.1|AF191 156\n",
      " |  gi|6273287|gb|AF191661.1|AF191 156\n",
      " |  gi|6273286|gb|AF191660.1|AF191 156\n",
      " |  gi|6273290|gb|AF191664.1|AF191 156\n",
      " |  gi|6273289|gb|AF191663.1|AF191 156\n",
      " |  gi|6273291|gb|AF191665.1|AF191 156\n",
      " |  \n",
      " |  You can also access individual rows as SeqRecord objects via their index:\n",
      " |  \n",
      " |  >>> print(align[0].id)\n",
      " |  gi|6273285|gb|AF191659.1|AF191\n",
      " |  >>> print(align[-1].id)\n",
      " |  gi|6273291|gb|AF191665.1|AF191\n",
      " |  \n",
      " |  And extract columns as strings:\n",
      " |  \n",
      " |  >>> print(align[:, 1])\n",
      " |  AAAAAAA\n",
      " |  \n",
      " |  Or, take just the first ten columns as a sub-alignment:\n",
      " |  \n",
      " |  >>> print(align[:, :10])\n",
      " |  Alignment with 7 rows and 10 columns\n",
      " |  TATACATTAA gi|6273285|gb|AF191659.1|AF191\n",
      " |  TATACATTAA gi|6273284|gb|AF191658.1|AF191\n",
      " |  TATACATTAA gi|6273287|gb|AF191661.1|AF191\n",
      " |  TATACATAAA gi|6273286|gb|AF191660.1|AF191\n",
      " |  TATACATTAA gi|6273290|gb|AF191664.1|AF191\n",
      " |  TATACATTAA gi|6273289|gb|AF191663.1|AF191\n",
      " |  TATACATTAA gi|6273291|gb|AF191665.1|AF191\n",
      " |  \n",
      " |  Combining this alignment slicing with alignment addition allows you to\n",
      " |  remove a section of the alignment. For example, taking just the first\n",
      " |  and last ten columns:\n",
      " |  \n",
      " |  >>> print(align[:, :10] + align[:, -10:])\n",
      " |  Alignment with 7 rows and 20 columns\n",
      " |  TATACATTAAGTGTACCAGA gi|6273285|gb|AF191659.1|AF191\n",
      " |  TATACATTAAGTGTACCAGA gi|6273284|gb|AF191658.1|AF191\n",
      " |  TATACATTAAGTGTACCAGA gi|6273287|gb|AF191661.1|AF191\n",
      " |  TATACATAAAGTGTACCAGA gi|6273286|gb|AF191660.1|AF191\n",
      " |  TATACATTAAGTGTACCAGA gi|6273290|gb|AF191664.1|AF191\n",
      " |  TATACATTAAGTATACCAGA gi|6273289|gb|AF191663.1|AF191\n",
      " |  TATACATTAAGTGTACCAGA gi|6273291|gb|AF191665.1|AF191\n",
      " |  \n",
      " |  Note - This object replaced the older Alignment object defined in module\n",
      " |  Bio.Align.Generic but is not fully backwards compatible with it.\n",
      " |  \n",
      " |  Note - This object does NOT attempt to model the kind of alignments used\n",
      " |  in next generation sequencing with multiple sequencing reads which are\n",
      " |  much shorter than the alignment, and where there is usually a consensus or\n",
      " |  reference sequence with special status.\n",
      " |  \n",
      " |  Methods defined here:\n",
      " |  \n",
      " |  __add__(self, other)\n",
      " |      Combine two alignments with the same number of rows by adding them.\n",
      " |      \n",
      " |      If you have two multiple sequence alignments (MSAs), there are two ways to think\n",
      " |      about adding them - by row or by column. Using the extend method adds by row.\n",
      " |      Using the addition operator adds by column. For example,\n",
      " |      \n",
      " |      >>> from Bio.Seq import Seq\n",
      " |      >>> from Bio.SeqRecord import SeqRecord\n",
      " |      >>> from Bio.Align import MultipleSeqAlignment\n",
      " |      >>> a1 = SeqRecord(Seq(\"AAAAC\"), id=\"Alpha\")\n",
      " |      >>> b1 = SeqRecord(Seq(\"AAA-C\"), id=\"Beta\")\n",
      " |      >>> c1 = SeqRecord(Seq(\"AAAAG\"), id=\"Gamma\")\n",
      " |      >>> a2 = SeqRecord(Seq(\"GT\"), id=\"Alpha\")\n",
      " |      >>> b2 = SeqRecord(Seq(\"GT\"), id=\"Beta\")\n",
      " |      >>> c2 = SeqRecord(Seq(\"GT\"), id=\"Gamma\")\n",
      " |      >>> left = MultipleSeqAlignment([a1, b1, c1],\n",
      " |      ...                             annotations={\"tool\": \"demo\", \"name\": \"start\"},\n",
      " |      ...                             column_annotations={\"stats\": \"CCCXC\"})\n",
      " |      >>> right = MultipleSeqAlignment([a2, b2, c2],\n",
      " |      ...                             annotations={\"tool\": \"demo\", \"name\": \"end\"},\n",
      " |      ...                             column_annotations={\"stats\": \"CC\"})\n",
      " |      \n",
      " |      Now, let's look at these two alignments:\n",
      " |      \n",
      " |      >>> print(left)\n",
      " |      Alignment with 3 rows and 5 columns\n",
      " |      AAAAC Alpha\n",
      " |      AAA-C Beta\n",
      " |      AAAAG Gamma\n",
      " |      >>> print(right)\n",
      " |      Alignment with 3 rows and 2 columns\n",
      " |      GT Alpha\n",
      " |      GT Beta\n",
      " |      GT Gamma\n",
      " |      \n",
      " |      And add them:\n",
      " |      \n",
      " |      >>> combined = left + right\n",
      " |      >>> print(combined)\n",
      " |      Alignment with 3 rows and 7 columns\n",
      " |      AAAACGT Alpha\n",
      " |      AAA-CGT Beta\n",
      " |      AAAAGGT Gamma\n",
      " |      \n",
      " |      For this to work, both alignments must have the same number of records (here\n",
      " |      they both have 3 rows):\n",
      " |      \n",
      " |      >>> len(left)\n",
      " |      3\n",
      " |      >>> len(right)\n",
      " |      3\n",
      " |      >>> len(combined)\n",
      " |      3\n",
      " |      \n",
      " |      The individual rows are SeqRecord objects, and these can be added together. Refer\n",
      " |      to the SeqRecord documentation for details of how the annotation is handled. This\n",
      " |      example is a special case in that both original alignments shared the same names,\n",
      " |      meaning when the rows are added they also get the same name.\n",
      " |      \n",
      " |      Any common annotations are preserved, but differing annotation is lost. This is\n",
      " |      the same behaviour used in the SeqRecord annotations and is designed to prevent\n",
      " |      accidental propagation of inappropriate values:\n",
      " |      \n",
      " |      >>> combined.annotations\n",
      " |      {'tool': 'demo'}\n",
      " |      \n",
      " |      Similarly any common per-column-annotations are combined:\n",
      " |      \n",
      " |      >>> combined.column_annotations\n",
      " |      {'stats': 'CCCXCCC'}\n",
      " |  \n",
      " |  __format__(self, format_spec)\n",
      " |      Return the alignment as a string in the specified file format.\n",
      " |      \n",
      " |      The format should be a lower case string supported as an output\n",
      " |      format by Bio.AlignIO (such as \"fasta\", \"clustal\", \"phylip\",\n",
      " |      \"stockholm\", etc), which is used to turn the alignment into a\n",
      " |      string.\n",
      " |      \n",
      " |      e.g.\n",
      " |      \n",
      " |      >>> from Bio.Align import MultipleSeqAlignment\n",
      " |      >>> a = SeqRecord(Seq(\"ACTGCTAGCTAG\"), id=\"Alpha\", description=\"\")\n",
      " |      >>> b = SeqRecord(Seq(\"ACT-CTAGCTAG\"), id=\"Beta\", description=\"\")\n",
      " |      >>> c = SeqRecord(Seq(\"ACTGCTAGATAG\"), id=\"Gamma\", description=\"\")\n",
      " |      >>> align = MultipleSeqAlignment([a, b, c])\n",
      " |      >>> print(format(align, \"fasta\"))\n",
      " |      >Alpha\n",
      " |      ACTGCTAGCTAG\n",
      " |      >Beta\n",
      " |      ACT-CTAGCTAG\n",
      " |      >Gamma\n",
      " |      ACTGCTAGATAG\n",
      " |      <BLANKLINE>\n",
      " |      >>> print(format(align, \"phylip\"))\n",
      " |       3 12\n",
      " |      Alpha      ACTGCTAGCT AG\n",
      " |      Beta       ACT-CTAGCT AG\n",
      " |      Gamma      ACTGCTAGAT AG\n",
      " |      <BLANKLINE>\n",
      " |  \n",
      " |  __getitem__(self, index)\n",
      " |      Access part of the alignment.\n",
      " |      \n",
      " |      Depending on the indices, you can get a SeqRecord object\n",
      " |      (representing a single row), a Seq object (for a single columns),\n",
      " |      a string (for a single characters) or another alignment\n",
      " |      (representing some part or all of the alignment).\n",
      " |      \n",
      " |      align[r,c] gives a single character as a string\n",
      " |      align[r] gives a row as a SeqRecord\n",
      " |      align[r,:] gives a row as a SeqRecord\n",
      " |      align[:,c] gives a column as a Seq\n",
      " |      \n",
      " |      align[:] and align[:,:] give a copy of the alignment\n",
      " |      \n",
      " |      Anything else gives a sub alignment, e.g.\n",
      " |      align[0:2] or align[0:2,:] uses only row 0 and 1\n",
      " |      align[:,1:3] uses only columns 1 and 2\n",
      " |      align[0:2,1:3] uses only rows 0 & 1 and only cols 1 & 2\n",
      " |      \n",
      " |      We'll use the following example alignment here for illustration:\n",
      " |      \n",
      " |      >>> from Bio.Seq import Seq\n",
      " |      >>> from Bio.SeqRecord import SeqRecord\n",
      " |      >>> from Bio.Align import MultipleSeqAlignment\n",
      " |      >>> a = SeqRecord(Seq(\"AAAACGT\"), id=\"Alpha\")\n",
      " |      >>> b = SeqRecord(Seq(\"AAA-CGT\"), id=\"Beta\")\n",
      " |      >>> c = SeqRecord(Seq(\"AAAAGGT\"), id=\"Gamma\")\n",
      " |      >>> d = SeqRecord(Seq(\"AAAACGT\"), id=\"Delta\")\n",
      " |      >>> e = SeqRecord(Seq(\"AAA-GGT\"), id=\"Epsilon\")\n",
      " |      >>> align = MultipleSeqAlignment([a, b, c, d, e])\n",
      " |      \n",
      " |      You can access a row of the alignment as a SeqRecord using an integer\n",
      " |      index (think of the alignment as a list of SeqRecord objects here):\n",
      " |      \n",
      " |      >>> first_record = align[0]\n",
      " |      >>> print(\"%s %s\" % (first_record.id, first_record.seq))\n",
      " |      Alpha AAAACGT\n",
      " |      >>> last_record = align[-1]\n",
      " |      >>> print(\"%s %s\" % (last_record.id, last_record.seq))\n",
      " |      Epsilon AAA-GGT\n",
      " |      \n",
      " |      You can also access use python's slice notation to create a sub-alignment\n",
      " |      containing only some of the SeqRecord objects:\n",
      " |      \n",
      " |      >>> sub_alignment = align[2:5]\n",
      " |      >>> print(sub_alignment)\n",
      " |      Alignment with 3 rows and 7 columns\n",
      " |      AAAAGGT Gamma\n",
      " |      AAAACGT Delta\n",
      " |      AAA-GGT Epsilon\n",
      " |      \n",
      " |      This includes support for a step, i.e. align[start:end:step], which\n",
      " |      can be used to select every second sequence:\n",
      " |      \n",
      " |      >>> sub_alignment = align[::2]\n",
      " |      >>> print(sub_alignment)\n",
      " |      Alignment with 3 rows and 7 columns\n",
      " |      AAAACGT Alpha\n",
      " |      AAAAGGT Gamma\n",
      " |      AAA-GGT Epsilon\n",
      " |      \n",
      " |      Or to get a copy of the alignment with the rows in reverse order:\n",
      " |      \n",
      " |      >>> rev_alignment = align[::-1]\n",
      " |      >>> print(rev_alignment)\n",
      " |      Alignment with 5 rows and 7 columns\n",
      " |      AAA-GGT Epsilon\n",
      " |      AAAACGT Delta\n",
      " |      AAAAGGT Gamma\n",
      " |      AAA-CGT Beta\n",
      " |      AAAACGT Alpha\n",
      " |      \n",
      " |      You can also use two indices to specify both rows and columns. Using simple\n",
      " |      integers gives you the entry as a single character string. e.g.\n",
      " |      \n",
      " |      >>> align[3, 4]\n",
      " |      'C'\n",
      " |      \n",
      " |      This is equivalent to:\n",
      " |      \n",
      " |      >>> align[3][4]\n",
      " |      'C'\n",
      " |      \n",
      " |      or:\n",
      " |      \n",
      " |      >>> align[3].seq[4]\n",
      " |      'C'\n",
      " |      \n",
      " |      To get a single column (as a string) use this syntax:\n",
      " |      \n",
      " |      >>> align[:, 4]\n",
      " |      'CCGCG'\n",
      " |      \n",
      " |      Or, to get part of a column,\n",
      " |      \n",
      " |      >>> align[1:3, 4]\n",
      " |      'CG'\n",
      " |      \n",
      " |      However, in general you get a sub-alignment,\n",
      " |      \n",
      " |      >>> print(align[1:5, 3:6])\n",
      " |      Alignment with 4 rows and 3 columns\n",
      " |      -CG Beta\n",
      " |      AGG Gamma\n",
      " |      ACG Delta\n",
      " |      -GG Epsilon\n",
      " |      \n",
      " |      This should all seem familiar to anyone who has used the NumPy\n",
      " |      array or matrix objects.\n",
      " |  \n",
      " |  __init__(self, records, alphabet=None, annotations=None, column_annotations=None)\n",
      " |      Initialize a new MultipleSeqAlignment object.\n",
      " |      \n",
      " |      Arguments:\n",
      " |       - records - A list (or iterator) of SeqRecord objects, whose\n",
      " |                   sequences are all the same length.  This may be an be an\n",
      " |                   empty list.\n",
      " |       - alphabet - For backward compatibility only; its value should always\n",
      " |                    be None.\n",
      " |       - annotations - Information about the whole alignment (dictionary).\n",
      " |       - column_annotations - Per column annotation (restricted dictionary).\n",
      " |                    This holds Python sequences (lists, strings, tuples)\n",
      " |                    whose length matches the number of columns. A typical\n",
      " |                    use would be a secondary structure consensus string.\n",
      " |      \n",
      " |      You would normally load a MSA from a file using Bio.AlignIO, but you\n",
      " |      can do this from a list of SeqRecord objects too:\n",
      " |      \n",
      " |      >>> from Bio.Seq import Seq\n",
      " |      >>> from Bio.SeqRecord import SeqRecord\n",
      " |      >>> from Bio.Align import MultipleSeqAlignment\n",
      " |      >>> a = SeqRecord(Seq(\"AAAACGT\"), id=\"Alpha\")\n",
      " |      >>> b = SeqRecord(Seq(\"AAA-CGT\"), id=\"Beta\")\n",
      " |      >>> c = SeqRecord(Seq(\"AAAAGGT\"), id=\"Gamma\")\n",
      " |      >>> align = MultipleSeqAlignment([a, b, c],\n",
      " |      ...                              annotations={\"tool\": \"demo\"},\n",
      " |      ...                              column_annotations={\"stats\": \"CCCXCCC\"})\n",
      " |      >>> print(align)\n",
      " |      Alignment with 3 rows and 7 columns\n",
      " |      AAAACGT Alpha\n",
      " |      AAA-CGT Beta\n",
      " |      AAAAGGT Gamma\n",
      " |      >>> align.annotations\n",
      " |      {'tool': 'demo'}\n",
      " |      >>> align.column_annotations\n",
      " |      {'stats': 'CCCXCCC'}\n",
      " |  \n",
      " |  __iter__(self)\n",
      " |      Iterate over alignment rows as SeqRecord objects.\n",
      " |      \n",
      " |      e.g.\n",
      " |      \n",
      " |      >>> from Bio.Align import MultipleSeqAlignment\n",
      " |      >>> a = SeqRecord(Seq(\"ACTGCTAGCTAG\"), id=\"Alpha\")\n",
      " |      >>> b = SeqRecord(Seq(\"ACT-CTAGCTAG\"), id=\"Beta\")\n",
      " |      >>> c = SeqRecord(Seq(\"ACTGCTAGATAG\"), id=\"Gamma\")\n",
      " |      >>> align = MultipleSeqAlignment([a, b, c])\n",
      " |      >>> for record in align:\n",
      " |      ...    print(record.id)\n",
      " |      ...    print(record.seq)\n",
      " |      ...\n",
      " |      Alpha\n",
      " |      ACTGCTAGCTAG\n",
      " |      Beta\n",
      " |      ACT-CTAGCTAG\n",
      " |      Gamma\n",
      " |      ACTGCTAGATAG\n",
      " |  \n",
      " |  __len__(self)\n",
      " |      Return the number of sequences in the alignment.\n",
      " |      \n",
      " |      Use len(alignment) to get the number of sequences (i.e. the number of\n",
      " |      rows), and alignment.get_alignment_length() to get the length of the\n",
      " |      longest sequence (i.e. the number of columns).\n",
      " |      \n",
      " |      This is easy to remember if you think of the alignment as being like a\n",
      " |      list of SeqRecord objects.\n",
      " |  \n",
      " |  __repr__(self)\n",
      " |      Return a representation of the object for debugging.\n",
      " |      \n",
      " |      The representation cannot be used with eval() to recreate the object,\n",
      " |      which is usually possible with simple python objects.  For example:\n",
      " |      \n",
      " |      <Bio.Align.MultipleSeqAlignment instance (2 records of length 14)\n",
      " |      at a3c184c>\n",
      " |      \n",
      " |      The hex string is the memory address of the object, see help(id).\n",
      " |      This provides a simple way to visually distinguish alignments of\n",
      " |      the same size.\n",
      " |  \n",
      " |  __str__(self)\n",
      " |      Return a multi-line string summary of the alignment.\n",
      " |      \n",
      " |      This output is intended to be readable, but large alignments are\n",
      " |      shown truncated.  A maximum of 20 rows (sequences) and 50 columns\n",
      " |      are shown, with the record identifiers.  This should fit nicely on a\n",
      " |      single screen. e.g.\n",
      " |      \n",
      " |      >>> from Bio.Seq import Seq\n",
      " |      >>> from Bio.SeqRecord import SeqRecord\n",
      " |      >>> from Bio.Align import MultipleSeqAlignment\n",
      " |      >>> a = SeqRecord(Seq(\"ACTGCTAGCTAG\"), id=\"Alpha\")\n",
      " |      >>> b = SeqRecord(Seq(\"ACT-CTAGCTAG\"), id=\"Beta\")\n",
      " |      >>> c = SeqRecord(Seq(\"ACTGCTAGATAG\"), id=\"Gamma\")\n",
      " |      >>> align = MultipleSeqAlignment([a, b, c])\n",
      " |      >>> print(align)\n",
      " |      Alignment with 3 rows and 12 columns\n",
      " |      ACTGCTAGCTAG Alpha\n",
      " |      ACT-CTAGCTAG Beta\n",
      " |      ACTGCTAGATAG Gamma\n",
      " |      \n",
      " |      See also the alignment's format method.\n",
      " |  \n",
      " |  append(self, record)\n",
      " |      Add one more SeqRecord object to the alignment as a new row.\n",
      " |      \n",
      " |      This must have the same length as the original alignment (unless this is\n",
      " |      the first record).\n",
      " |      \n",
      " |      >>> from Bio import AlignIO\n",
      " |      >>> align = AlignIO.read(\"Clustalw/opuntia.aln\", \"clustal\")\n",
      " |      >>> print(align)\n",
      " |      Alignment with 7 rows and 156 columns\n",
      " |      TATACATTAAAGAAGGGGGATGCGGATAAATGGAAAGGCGAAAG...AGA gi|6273285|gb|AF191659.1|AF191\n",
      " |      TATACATTAAAGAAGGGGGATGCGGATAAATGGAAAGGCGAAAG...AGA gi|6273284|gb|AF191658.1|AF191\n",
      " |      TATACATTAAAGAAGGGGGATGCGGATAAATGGAAAGGCGAAAG...AGA gi|6273287|gb|AF191661.1|AF191\n",
      " |      TATACATAAAAGAAGGGGGATGCGGATAAATGGAAAGGCGAAAG...AGA gi|6273286|gb|AF191660.1|AF191\n",
      " |      TATACATTAAAGGAGGGGGATGCGGATAAATGGAAAGGCGAAAG...AGA gi|6273290|gb|AF191664.1|AF191\n",
      " |      TATACATTAAAGGAGGGGGATGCGGATAAATGGAAAGGCGAAAG...AGA gi|6273289|gb|AF191663.1|AF191\n",
      " |      TATACATTAAAGGAGGGGGATGCGGATAAATGGAAAGGCGAAAG...AGA gi|6273291|gb|AF191665.1|AF191\n",
      " |      >>> len(align)\n",
      " |      7\n",
      " |      \n",
      " |      We'll now construct a dummy record to append as an example:\n",
      " |      \n",
      " |      >>> from Bio.Seq import Seq\n",
      " |      >>> from Bio.SeqRecord import SeqRecord\n",
      " |      >>> dummy = SeqRecord(Seq(\"N\"*156), id=\"dummy\")\n",
      " |      \n",
      " |      Now append this to the alignment,\n",
      " |      \n",
      " |      >>> align.append(dummy)\n",
      " |      >>> print(align)\n",
      " |      Alignment with 8 rows and 156 columns\n",
      " |      TATACATTAAAGAAGGGGGATGCGGATAAATGGAAAGGCGAAAG...AGA gi|6273285|gb|AF191659.1|AF191\n",
      " |      TATACATTAAAGAAGGGGGATGCGGATAAATGGAAAGGCGAAAG...AGA gi|6273284|gb|AF191658.1|AF191\n",
      " |      TATACATTAAAGAAGGGGGATGCGGATAAATGGAAAGGCGAAAG...AGA gi|6273287|gb|AF191661.1|AF191\n",
      " |      TATACATAAAAGAAGGGGGATGCGGATAAATGGAAAGGCGAAAG...AGA gi|6273286|gb|AF191660.1|AF191\n",
      " |      TATACATTAAAGGAGGGGGATGCGGATAAATGGAAAGGCGAAAG...AGA gi|6273290|gb|AF191664.1|AF191\n",
      " |      TATACATTAAAGGAGGGGGATGCGGATAAATGGAAAGGCGAAAG...AGA gi|6273289|gb|AF191663.1|AF191\n",
      " |      TATACATTAAAGGAGGGGGATGCGGATAAATGGAAAGGCGAAAG...AGA gi|6273291|gb|AF191665.1|AF191\n",
      " |      NNNNNNNNNNNNNNNNNNNNNNNNNNNNNNNNNNNNNNNNNNNN...NNN dummy\n",
      " |      >>> len(align)\n",
      " |      8\n",
      " |  \n",
      " |  extend(self, records)\n",
      " |      Add more SeqRecord objects to the alignment as rows.\n",
      " |      \n",
      " |      They must all have the same length as the original alignment. For\n",
      " |      example,\n",
      " |      \n",
      " |      >>> from Bio.Seq import Seq\n",
      " |      >>> from Bio.SeqRecord import SeqRecord\n",
      " |      >>> from Bio.Align import MultipleSeqAlignment\n",
      " |      >>> a = SeqRecord(Seq(\"AAAACGT\"), id=\"Alpha\")\n",
      " |      >>> b = SeqRecord(Seq(\"AAA-CGT\"), id=\"Beta\")\n",
      " |      >>> c = SeqRecord(Seq(\"AAAAGGT\"), id=\"Gamma\")\n",
      " |      >>> d = SeqRecord(Seq(\"AAAACGT\"), id=\"Delta\")\n",
      " |      >>> e = SeqRecord(Seq(\"AAA-GGT\"), id=\"Epsilon\")\n",
      " |      \n",
      " |      First we create a small alignment (three rows):\n",
      " |      \n",
      " |      >>> align = MultipleSeqAlignment([a, b, c])\n",
      " |      >>> print(align)\n",
      " |      Alignment with 3 rows and 7 columns\n",
      " |      AAAACGT Alpha\n",
      " |      AAA-CGT Beta\n",
      " |      AAAAGGT Gamma\n",
      " |      \n",
      " |      Now we can extend this alignment with another two rows:\n",
      " |      \n",
      " |      >>> align.extend([d, e])\n",
      " |      >>> print(align)\n",
      " |      Alignment with 5 rows and 7 columns\n",
      " |      AAAACGT Alpha\n",
      " |      AAA-CGT Beta\n",
      " |      AAAAGGT Gamma\n",
      " |      AAAACGT Delta\n",
      " |      AAA-GGT Epsilon\n",
      " |      \n",
      " |      Because the alignment object allows iteration over the rows as\n",
      " |      SeqRecords, you can use the extend method with a second alignment\n",
      " |      (provided its sequences have the same length as the original alignment).\n",
      " |  \n",
      " |  get_alignment_length(self)\n",
      " |      Return the maximum length of the alignment.\n",
      " |      \n",
      " |      All objects in the alignment should (hopefully) have the same\n",
      " |      length. This function will go through and find this length\n",
      " |      by finding the maximum length of sequences in the alignment.\n",
      " |      \n",
      " |      >>> from Bio.Align import MultipleSeqAlignment\n",
      " |      >>> a = SeqRecord(Seq(\"ACTGCTAGCTAG\"), id=\"Alpha\")\n",
      " |      >>> b = SeqRecord(Seq(\"ACT-CTAGCTAG\"), id=\"Beta\")\n",
      " |      >>> c = SeqRecord(Seq(\"ACTGCTAGATAG\"), id=\"Gamma\")\n",
      " |      >>> align = MultipleSeqAlignment([a, b, c])\n",
      " |      >>> align.get_alignment_length()\n",
      " |      12\n",
      " |      \n",
      " |      If you want to know the number of sequences in the alignment,\n",
      " |      use len(align) instead:\n",
      " |      \n",
      " |      >>> len(align)\n",
      " |      3\n",
      " |  \n",
      " |  sort(self, key=None, reverse=False)\n",
      " |      Sort the rows (SeqRecord objects) of the alignment in place.\n",
      " |      \n",
      " |      This sorts the rows alphabetically using the SeqRecord object id by\n",
      " |      default. The sorting can be controlled by supplying a key function\n",
      " |      which must map each SeqRecord to a sort value.\n",
      " |      \n",
      " |      This is useful if you want to add two alignments which use the same\n",
      " |      record identifiers, but in a different order. For example,\n",
      " |      \n",
      " |      >>> from Bio.Seq import Seq\n",
      " |      >>> from Bio.SeqRecord import SeqRecord\n",
      " |      >>> from Bio.Align import MultipleSeqAlignment\n",
      " |      >>> align1 = MultipleSeqAlignment([\n",
      " |      ...              SeqRecord(Seq(\"ACGT\"), id=\"Human\"),\n",
      " |      ...              SeqRecord(Seq(\"ACGG\"), id=\"Mouse\"),\n",
      " |      ...              SeqRecord(Seq(\"ACGC\"), id=\"Chicken\"),\n",
      " |      ...          ])\n",
      " |      >>> align2 = MultipleSeqAlignment([\n",
      " |      ...              SeqRecord(Seq(\"CGGT\"), id=\"Mouse\"),\n",
      " |      ...              SeqRecord(Seq(\"CGTT\"), id=\"Human\"),\n",
      " |      ...              SeqRecord(Seq(\"CGCT\"), id=\"Chicken\"),\n",
      " |      ...          ])\n",
      " |      \n",
      " |      If you simple try and add these without sorting, you get this:\n",
      " |      \n",
      " |      >>> print(align1 + align2)\n",
      " |      Alignment with 3 rows and 8 columns\n",
      " |      ACGTCGGT <unknown id>\n",
      " |      ACGGCGTT <unknown id>\n",
      " |      ACGCCGCT Chicken\n",
      " |      \n",
      " |      Consult the SeqRecord documentation which explains why you get a\n",
      " |      default value when annotation like the identifier doesn't match up.\n",
      " |      However, if we sort the alignments first, then add them we get the\n",
      " |      desired result:\n",
      " |      \n",
      " |      >>> align1.sort()\n",
      " |      >>> align2.sort()\n",
      " |      >>> print(align1 + align2)\n",
      " |      Alignment with 3 rows and 8 columns\n",
      " |      ACGCCGCT Chicken\n",
      " |      ACGTCGTT Human\n",
      " |      ACGGCGGT Mouse\n",
      " |      \n",
      " |      As an example using a different sort order, you could sort on the\n",
      " |      GC content of each sequence.\n",
      " |      \n",
      " |      >>> from Bio.SeqUtils import GC\n",
      " |      >>> print(align1)\n",
      " |      Alignment with 3 rows and 4 columns\n",
      " |      ACGC Chicken\n",
      " |      ACGT Human\n",
      " |      ACGG Mouse\n",
      " |      >>> align1.sort(key = lambda record: GC(record.seq))\n",
      " |      >>> print(align1)\n",
      " |      Alignment with 3 rows and 4 columns\n",
      " |      ACGT Human\n",
      " |      ACGC Chicken\n",
      " |      ACGG Mouse\n",
      " |      \n",
      " |      There is also a reverse argument, so if you wanted to sort by ID\n",
      " |      but backwards:\n",
      " |      \n",
      " |      >>> align1.sort(reverse=True)\n",
      " |      >>> print(align1)\n",
      " |      Alignment with 3 rows and 4 columns\n",
      " |      ACGG Mouse\n",
      " |      ACGT Human\n",
      " |      ACGC Chicken\n",
      " |  \n",
      " |  ----------------------------------------------------------------------\n",
      " |  Readonly properties defined here:\n",
      " |  \n",
      " |  substitutions\n",
      " |      Return an Array with the number of substitutions of letters in the alignment.\n",
      " |      \n",
      " |      As an example, consider a multiple sequence alignment of three DNA sequences:\n",
      " |      \n",
      " |      >>> from Bio.Seq import Seq\n",
      " |      >>> from Bio.SeqRecord import SeqRecord\n",
      " |      >>> from Bio.Align import MultipleSeqAlignment\n",
      " |      >>> seq1 = SeqRecord(Seq(\"ACGT\"), id=\"seq1\")\n",
      " |      >>> seq2 = SeqRecord(Seq(\"A--A\"), id=\"seq2\")\n",
      " |      >>> seq3 = SeqRecord(Seq(\"ACGT\"), id=\"seq3\")\n",
      " |      >>> seq4 = SeqRecord(Seq(\"TTTC\"), id=\"seq4\")\n",
      " |      >>> alignment = MultipleSeqAlignment([seq1, seq2, seq3, seq4])\n",
      " |      >>> print(alignment)\n",
      " |      Alignment with 4 rows and 4 columns\n",
      " |      ACGT seq1\n",
      " |      A--A seq2\n",
      " |      ACGT seq3\n",
      " |      TTTC seq4\n",
      " |      \n",
      " |      >>> m = alignment.substitutions\n",
      " |      >>> print(m)\n",
      " |          A   C   G   T\n",
      " |      A 3.0 0.5 0.0 2.5\n",
      " |      C 0.5 1.0 0.0 2.0\n",
      " |      G 0.0 0.0 1.0 1.0\n",
      " |      T 2.5 2.0 1.0 1.0\n",
      " |      <BLANKLINE>\n",
      " |      \n",
      " |      Note that the matrix is symmetric, with counts divided equally on both\n",
      " |      sides of the diagonal. For example, the total number of substitutions\n",
      " |      between A and T in the alignment is 3.5 + 3.5 = 7.\n",
      " |      \n",
      " |      Any weights associated with the sequences are taken into account when\n",
      " |      calculating the substitution matrix.  For example, given the following\n",
      " |      multiple sequence alignment::\n",
      " |      \n",
      " |          GTATC  0.5\n",
      " |          AT--C  0.8\n",
      " |          CTGTC  1.0\n",
      " |      \n",
      " |      For the first column we have::\n",
      " |      \n",
      " |          ('A', 'G') : 0.5 * 0.8 = 0.4\n",
      " |          ('C', 'G') : 0.5 * 1.0 = 0.5\n",
      " |          ('A', 'C') : 0.8 * 1.0 = 0.8\n",
      " |  \n",
      " |  ----------------------------------------------------------------------\n",
      " |  Data descriptors defined here:\n",
      " |  \n",
      " |  __dict__\n",
      " |      dictionary for instance variables (if defined)\n",
      " |  \n",
      " |  __weakref__\n",
      " |      list of weak references to the object (if defined)\n",
      " |  \n",
      " |  column_annotations\n",
      " |      Dictionary of per-letter-annotation for the sequence.\n",
      "\n"
     ]
    }
   ],
   "source": [
    "help(egfr_alignment)"
   ]
  },
  {
   "cell_type": "code",
   "execution_count": 9,
   "metadata": {},
   "outputs": [
    {
     "data": {
      "text/plain": [
       "4"
      ]
     },
     "execution_count": 9,
     "metadata": {},
     "output_type": "execute_result"
    }
   ],
   "source": [
    "## MultipleSeqAlignment objects are iterable objects with one element per sequence\n",
    "len(egfr_alignment)"
   ]
  },
  {
   "cell_type": "code",
   "execution_count": 10,
   "metadata": {},
   "outputs": [
    {
     "name": "stdout",
     "output_type": "stream",
     "text": [
      "MRPSGTAGAALLALLAALCPASRALEEKKVCQGTSNKLTQLGTFEDHFLSLQRMFNNCEVVLGNLEITYVQRNYDLSFLKTIQEVAGYVLIALNTVERIPLENLQIIRGNMYYENSYALAVLSNYDANKTGLKELPMRNLQEILHGAVRFSNNPALCNVESIQWRDIVSSDFLSNMSMDFQNHLGSCQKCDPSCPNGSCWGAGEENCQKLTKIICAQQCSGRCRGKSPSDCCHNQCAAGCTGPRESDCLVCRKFRDEATCKDTCPPLMLYNPTTYQMDVNPEGKYSFGATCVKKCPRNYVVTDHGSCVRACGADSYEMEEDGVRKCKKCEGPCRKVCNGIGIGEFKDSLSINATNIKHFKNCTSISGDLHILPVAFRGDSFTHTPPLDPQELDILKTVKEITGFLLIQAWPENRTDLHAFENLEIIRGRTKQHGQFSLAVVSLNITSLGLRSLKEISDGDVIISGNKNLCYANTINWKKLFGTSGQKTKIISNRGENSCKATGQVCHALCSPEGCWGPEPRDCVSCRNVSRGRECVDKCNLLEGEPREFVENSECIQCHPECLPQAMNITCTGRGPDNCIQCAHYIDGPHCVKTCPAGVMGENNTLVWKYADAGHVCHLCHPNCTYGPGNESLKA------------------------------------------------------------------ML--------------------------------------------------------------------------------------------FCLFK--------------------------------------------------------------------------------------------------------------------------------------------------------------------------------------------------------------------------------------------------------------LSSCNQSNDGSVSHQSGSPAAQ-----------------------------------ESCLGWIPSL-------------------------LPSEFQL--G-----------------------------------WGGCSHLHAWPSASVIITASSCH\n",
      "MRPSGTAGAALLALLAALCPASRALEEKKVCQGTSNKLTQLGTFEDHFLSLQRMFNNCEVVLGNLEITYVQRNYDLSFLKTIQEVAGYVLIALNTVERIPLENLQIIRGNMYYENSYALAVLSNYDANKTGLKELPMRNLQEILHGAVRFSNNPALCNVESIQWRDIVSSDFLSNMSMDFQNHLGSCQKCDPSCPNGSCWGAGEENCQKLTKIICAQQCSGRCRGKSPSDCCHNQCAAGCTGPRESDCLVCRKFRDEATCKDTCPPLMLYNPTTYQMDVNPEGKYSFGATCVKKCPRNYVVTDHGSCVRACGADSYEMEEDGVRKCKKCEGPCRKVCNGIGIGEFKDSLSINATNIKHFKNCTSISGDLHILPVAFRGDSFTHTPPLDPQELDILKTVKEITGLS-----------------------------------------------------------------------------------------------------------------------------------------------------------------------------------------------------------------------------------------------------------------------------------------------------------------------------------------------------------------------------------------------------------------------------------------------------------------------------------------------------------------------------------------------------------------------------------------------------------------------------------------------------------------------------------------------------------------------------------------------------------------------------------------------------------------------------------------\n",
      "MRPSGTAGAALLALLAALCPASRALEEKKVCQGTSNKLTQLGTFEDHFLSLQRMFNNCEVVLGNLEITYVQRNYDLSFLKTIQEVAGYVLIALNTVERIPLENLQIIRGNMYYENSYALAVLSNYDANKTGLKELPMRNLQEILHGAVRFSNNPALCNVESIQWRDIVSSDFLSNMSMDFQNHLGSCQKCDPSCPNGSCWGAGEENCQKLTKIICAQQCSGRCRGKSPSDCCHNQCAAGCTGPRESDCLVCRKFRDEATCKDTCPPLMLYNPTTYQMDVNPEGKYSFGATCVKKCPRNYVVTDHGSCVRACGADSYEMEEDGVRKCKKCEGPCRKVCNGIGIGEFKDSLSINATNIKHFKNCTSISGDLHILPVAFRGDSFTHTPPLDPQELDILKTVKEITGFLLIQAWPENRTDLHAFENLEIIRGRTKQHGQFSLAVVSLNITSLGLRSLKEISDGDVIISGNKNLCYANTINWKKLFGTSGQKTKIISNRGENSCKATGQVCHALCSPEGCWGPEPRDCVSCRNVSRGRECVDKCNLLEGEPREFVENSECIQCHPECLPQAMNITCTGRGPDNCIQCAHYIDGPHCVKTCPAGVMGENNTLVWKYADAGHVCHLCHPNCTYGS----------------------------------------------------------------------------------------------------------------------------------------------------------------------------------------------------------------------------------------------------------------------------------------------------------------------------------------------------------------------------------------------------------------------------------------------------------------------------------------------------------------------------------------------------------------------------------------------------------\n",
      "MRPSGTAGAALLALLAALCPASRALEEKKVCQGTSNKLTQLGTFEDHFLSLQRMFNNCEVVLGNLEITYVQRNYDLSFLKTIQEVAGYVLIALNTVERIPLENLQIIRGNMYYENSYALAVLSNYDANKTGLKELPMRNLQEILHGAVRFSNNPALCNVESIQWRDIVSSDFLSNMSMDFQNHLGSCQKCDPSCPNGSCWGAGEENCQKLTKIICAQQCSGRCRGKSPSDCCHNQCAAGCTGPRESDCLVCRKFRDEATCKDTCPPLMLYNPTTYQMDVNPEGKYSFGATCVKKCPRNYVVTDHGSCVRACGADSYEMEEDGVRKCKKCEGPCRKVCNGIGIGEFKDSLSINATNIKHFKNCTSISGDLHILPVAFRGDSFTHTPPLDPQELDILKTVKEITGFLLIQAWPENRTDLHAFENLEIIRGRTKQHGQFSLAVVSLNITSLGLRSLKEISDGDVIISGNKNLCYANTINWKKLFGTSGQKTKIISNRGENSCKATGQVCHALCSPEGCWGPEPRDCVSCRNVSRGRECVDKCNLLEGEPREFVENSECIQCHPECLPQAMNITCTGRGPDNCIQCAHYIDGPHCVKTCPAGVMGENNTLVWKYADAGHVCHLCHPNCTYGCTGPGLEGCPTNGPKIPSIATGMVGALLLLLVVALGIGLFMRRRHIVRKRTLRRLLQERELVEPLTPSGEAPNQALLRILKETEFKKIKVLGSGAFGTVYKGLWIPEGEKVKIPVAIKELREATSPKANKEILDEAYVMASVDNPHVCRLLGICLTSTVQLITQLMPFGCLLDYVREHKDNIGSQYLLNWCVQIAKGMNYLEDRRLVHRDLAARNVLVKTPQHVKITDFGLAKLLGAEEKEYHAEGGKVPIKWMALESILHRIYTHQSDVWSYGVTVWELMTFGSKPYDGIPASEISSILEKGERLPQPPICTIDVYMIMVKCWMIDADSRPKFRELIIEFSKMARDPQRYLVIQGDERMHLPSPTDSNFYRALMDEEDMDDVVDADEYLIPQQGFFSSPSTSRTPLLSSLSATSNNSTVACIDRNGLQSCPIKEDSFLQRYSSDPTGALTEDSIDDTFLPVPEYINQSVPKRPAGSVQNPVYHNQPLNPAPSRDPHYQDPHSTAVGNPEYLNTVQPTCVNSTFDSPAHWAQKGSHQISLDNPDYQQDFFPKEAKPNGIFKGSTAENAEYLRVAPQSSEFIGA----\n"
     ]
    }
   ],
   "source": [
    "## iterate through an alignment object\n",
    "for seq in egfr_alignment:\n",
    "    print(seq.seq)"
   ]
  },
  {
   "cell_type": "code",
   "execution_count": 11,
   "metadata": {},
   "outputs": [
    {
     "data": {
      "text/plain": [
       "SeqRecord(seq=Seq('MRPSGTAGAALLALLAALCPASRALEEKKVCQGTSNKLTQLGTFEDHFLSLQRM...SCH'), id='sp|P00533-3|EGFR_HUMAN', name='sp|P00533-3|EGFR_HUMAN', description='sp|P00533-3|EGFR_HUMAN Isoform 3 of Epidermal growth factor receptor OS=Homo sapiens GN=EGFR', dbxrefs=[])"
      ]
     },
     "execution_count": 11,
     "metadata": {},
     "output_type": "execute_result"
    }
   ],
   "source": [
    "## Use indices to retrieve sequences\n",
    "egfr_alignment[0]"
   ]
  },
  {
   "cell_type": "code",
   "execution_count": 12,
   "metadata": {},
   "outputs": [
    {
     "data": {
      "text/plain": [
       "'---T'"
      ]
     },
     "execution_count": 12,
     "metadata": {},
     "output_type": "execute_result"
    }
   ],
   "source": [
    "## Use slice notation to retrieve columns of the alignment\n",
    "## For instance, to see agreement at a specific location\n",
    "egfr_alignment[:,750]"
   ]
  },
  {
   "cell_type": "code",
   "execution_count": 13,
   "metadata": {},
   "outputs": [
    {
     "name": "stdout",
     "output_type": "stream",
     "text": [
      "Alignment with 4 rows and 25 columns\n",
      "------------------------- sp|P00533-3|EGFR_HUMAN\n",
      "------------------------- sp|P00533-2|EGFR_HUMAN\n",
      "------------------------- sp|P00533-4|EGFR_HUMAN\n",
      "TSPKANKEILDEAYVMASVDNPHVC sp|P00533|EGFR_HUMAN\n"
     ]
    }
   ],
   "source": [
    "print(egfr_alignment[:,750:775])"
   ]
  },
  {
   "cell_type": "markdown",
   "metadata": {},
   "source": [
    "#### Reading and Writing Alignments\n",
    "\n",
    "Similar to SeqIO, we can read very large alignment files using a generator returned from the `AlignIO.parse()` method. Alignments can also be written to file in a variety of formats."
   ]
  },
  {
   "cell_type": "code",
   "execution_count": 14,
   "metadata": {},
   "outputs": [
    {
     "name": "stdout",
     "output_type": "stream",
     "text": [
      "Alignment with 4 rows and 1214 columns\n",
      "MRPSGTAGAALLALLAALCPASRALEEKKVCQGTSNKLTQLGTF...SCH sp|P00533-3|EGFR_HUMAN\n",
      "MRPSGTAGAALLALLAALCPASRALEEKKVCQGTSNKLTQLGTF...--- sp|P00533-2|EGFR_HUMAN\n",
      "MRPSGTAGAALLALLAALCPASRALEEKKVCQGTSNKLTQLGTF...--- sp|P00533-4|EGFR_HUMAN\n",
      "MRPSGTAGAALLALLAALCPASRALEEKKVCQGTSNKLTQLGTF...--- sp|P00533|EGFR_HUMAN\n"
     ]
    }
   ],
   "source": [
    "## Use a generator to read an alignment file\n",
    "alignments = AlignIO.parse(\"./data/egfr.afa\", \"fasta\")\n",
    "\n",
    "for alignment in alignments:\n",
    "    print(alignment)"
   ]
  },
  {
   "cell_type": "code",
   "execution_count": 15,
   "metadata": {},
   "outputs": [
    {
     "data": {
      "text/plain": [
       "1"
      ]
     },
     "execution_count": 15,
     "metadata": {},
     "output_type": "execute_result"
    }
   ],
   "source": [
    "## Write an alignment to a file\n",
    "AlignIO.write(egfr_alignment, \"example.stk\", \"stockholm\")"
   ]
  },
  {
   "cell_type": "markdown",
   "metadata": {},
   "source": [
    "### `AlignInfo` module\n",
    "\n",
    "The `AlignInfo` module allows the generation of a consensus sequence resulting from an alignment. The consensus sequence contains the most common letter at each sequence position.\n",
    "\n",
    "`AlignInfo` contains two methods for generating a consensus sequence:\n",
    "\n",
    "`dumb_consensus()` counts the number of matches at a particular position. If a letter count exceeds a threshold it is included in the consensus, otherwise an ambiguous character is included.\n",
    "\n",
    "`gap_consensus()` is the same as `dumb_consensus()` except that it allows gaps."
   ]
  },
  {
   "cell_type": "code",
   "execution_count": 16,
   "metadata": {},
   "outputs": [],
   "source": [
    "from Bio.Align import AlignInfo"
   ]
  },
  {
   "cell_type": "code",
   "execution_count": 17,
   "metadata": {},
   "outputs": [],
   "source": [
    "summary = AlignInfo.SummaryInfo(egfr_alignment)"
   ]
  },
  {
   "cell_type": "code",
   "execution_count": 18,
   "metadata": {},
   "outputs": [
    {
     "name": "stdout",
     "output_type": "stream",
     "text": [
      "Help on method dumb_consensus in module Bio.Align.AlignInfo:\n",
      "\n",
      "dumb_consensus(threshold=0.7, ambiguous='X', require_multiple=False) method of Bio.Align.AlignInfo.SummaryInfo instance\n",
      "    Output a fast consensus sequence of the alignment.\n",
      "    \n",
      "    This doesn't do anything fancy at all. It will just go through the\n",
      "    sequence residue by residue and count up the number of each type\n",
      "    of residue (ie. A or G or T or C for DNA) in all sequences in the\n",
      "    alignment. If the percentage of the most common residue type is\n",
      "    greater then the passed threshold, then we will add that residue type,\n",
      "    otherwise an ambiguous character will be added.\n",
      "    \n",
      "    This could be made a lot fancier (ie. to take a substitution matrix\n",
      "    into account), but it just meant for a quick and dirty consensus.\n",
      "    \n",
      "    Arguments:\n",
      "     - threshold - The threshold value that is required to add a particular\n",
      "       atom.\n",
      "     - ambiguous - The ambiguous character to be added when the threshold is\n",
      "       not reached.\n",
      "     - require_multiple - If set as True, this will require that more than\n",
      "       1 sequence be part of an alignment to put it in the consensus (ie.\n",
      "       not just 1 sequence and gaps).\n",
      "\n"
     ]
    }
   ],
   "source": [
    "help(summary.dumb_consensus)"
   ]
  },
  {
   "cell_type": "code",
   "execution_count": 19,
   "metadata": {},
   "outputs": [
    {
     "data": {
      "text/plain": [
       "Seq('MRPSGTAGAALLALLAALCPASRALEEKKVCQGTSNKLTQLGTFEDHFLSLQRM...SCH')"
      ]
     },
     "execution_count": 19,
     "metadata": {},
     "output_type": "execute_result"
    }
   ],
   "source": [
    "summary.dumb_consensus(threshold=0.6, ambiguous='X')"
   ]
  },
  {
   "cell_type": "code",
   "execution_count": 20,
   "metadata": {},
   "outputs": [
    {
     "data": {
      "text/plain": [
       "'MRPSGTAGAALLALLAALCPASRALEEKKVCQGTSNKLTQLGTFEDHFLSLQRMFNNCEVVLGNLEITYVQRNYDLSFLKTIQEVAGYVLIALNTVERIPLENLQIIRGNMYYENSYALAVLSNYDANKTGLKELPMRNLQEILHGAVRFSNNPALCNVESIQWRDIVSSDFLSNMSMDFQNHLGSCQKCDPSCPNGSCWGAGEENCQKLTKIICAQQCSGRCRGKSPSDCCHNQCAAGCTGPRESDCLVCRKFRDEATCKDTCPPLMLYNPTTYQMDVNPEGKYSFGATCVKKCPRNYVVTDHGSCVRACGADSYEMEEDGVRKCKKCEGPCRKVCNGIGIGEFKDSLSINATNIKHFKNCTSISGDLHILPVAFRGDSFTHTPPLDPQELDILKTVKEITGFLLIQAWPENRTDLHAFENLEIIRGRTKQHGQFSLAVVSLNITSLGLRSLKEISDGDVIISGNKNLCYANTINWKKLFGTSGQKTKIISNRGENSCKATGQVCHALCSPEGCWGPEPRDCVSCRNVSRGRECVDKCNLLEGEPREFVENSECIQCHPECLPQAMNITCTGRGPDNCIQCAHYIDGPHCVKTCPAGVMGENNTLVWKYADAGHVCHLCHPNCTYGXXXXXLXXCPTNGPKIPSIATGMVGALLLLLVVALGIGLFMRRRHIVRKRTLRRLLQERELVEPLTPSGEAPNQXLLRILKETEFKKIKVLGSGAFGTVYKGLWIPEGEKVKIPVAIKELREATSPKANKEILDEAYVMASVDNPHVCRLLGICLTSTVQLITQLMPFXCLXXYVREHKDNIGSQYLLNWCVQIAKGMNYLEDRRLVHRDLAARNVLVKTPQHVKITDFGLAKLLGAEEKEYHAEGGKVPIKWMALESILHRIYTHQSDVWSYGVTVWELMTFGSKPYDGIPASEISSILEKGERLPQPPICTIDVYMIMVKCWMIDADSRPKFRELIIEFSKMARDPQRYLVIQGDERMHLPSPTDSNFYRALMDEEDMDDVVDADEYLIPQQGFFSSPSTSRTPLLSSLSATSNNSTVACIDRNGLXSCXXXXDXXXXXXSXXPXXXLTEDSIDDTFLPVPEYINQSVPKRPAGSVQNPVYHXXXLXXXPSXDPHYQDPHSTAVGNPEYLNTVQPTCXXSXFXXPAXWAQKGSHQISLDNPDYQQDFFPKEAKPNGIFKGSTXXXXXXLXXXPXXSXXIXASSCH'"
      ]
     },
     "execution_count": 20,
     "metadata": {},
     "output_type": "execute_result"
    }
   ],
   "source": [
    "## View the dumb_consensus sequence\n",
    "str(summary.dumb_consensus(threshold=0.6, ambiguous='X'))"
   ]
  },
  {
   "cell_type": "code",
   "execution_count": 21,
   "metadata": {},
   "outputs": [
    {
     "data": {
      "text/plain": [
       "'MRPSGTAGAALLALLAALCPASRALEEKKVCQGTSNKLTQLGTFEDHFLSLQRMFNNCEVVLGNLEITYVQRNYDLSFLKTIQEVAGYVLIALNTVERIPLENLQIIRGNMYYENSYALAVLSNYDANKTGLKELPMRNLQEILHGAVRFSNNPALCNVESIQWRDIVSSDFLSNMSMDFQNHLGSCQKCDPSCPNGSCWGAGEENCQKLTKIICAQQCSGRCRGKSPSDCCHNQCAAGCTGPRESDCLVCRKFRDEATCKDTCPPLMLYNPTTYQMDVNPEGKYSFGATCVKKCPRNYVVTDHGSCVRACGADSYEMEEDGVRKCKKCEGPCRKVCNGIGIGEFKDSLSINATNIKHFKNCTSISGDLHILPVAFRGDSFTHTPPLDPQELDILKTVKEITGFLLIQAWPENRTDLHAFENLEIIRGRTKQHGQFSLAVVSLNITSLGLRSLKEISDGDVIISGNKNLCYANTINWKKLFGTSGQKTKIISNRGENSCKATGQVCHALCSPEGCWGPEPRDCVSCRNVSRGRECVDKCNLLEGEPREFVENSECIQCHPECLPQAMNITCTGRGPDNCIQCAHYIDGPHCVKTCPAGVMGENNTLVWKYADAGHVCHLCHPNCTYGXXXXXXXX------------------------------------------------------------------XX--------------------------------------------------------------------------------------------XXXXX--------------------------------------------------------------------------------------------------------------------------------------------------------------------------------------------------------------------------------------------------------------XXXXXXXXXXXXXXXXXXXXXX-----------------------------------XXXXXXXXXX-------------------------XXXXXXX--X-----------------------------------XXXXXXXXXXXXXXXXXXX----'"
      ]
     },
     "execution_count": 21,
     "metadata": {},
     "output_type": "execute_result"
    }
   ],
   "source": [
    "## View the gap_consensus sequence\n",
    "str(summary.gap_consensus(threshold=0.6, ambiguous='X'))"
   ]
  },
  {
   "cell_type": "markdown",
   "metadata": {},
   "source": [
    "## BLAST: Basic Local Alignment Search Tool\n",
    "\n",
    "- Developed in 1990 by researchers at NCBI, Penn State, and University of Arizona (biologists and computer scientists)\n",
    "- Emphasizes speed over accuracy, which is necessary when searching databases containing hundreds of millions of sequences\n",
    "- [http://blast.ncbi.nlm.nih.gov/Blast.cgi](http://blast.ncbi.nlm.nih.gov/Blast.cgi)"
   ]
  },
  {
   "cell_type": "markdown",
   "metadata": {},
   "source": [
    "#### The BLAST Algorithm\n",
    "\n",
    "1. Break query sequence into \"words\" (substrings)\n",
    "2. Search a list of indexed words for similarity\n",
    "3. Use thresholding to eliminate poor matches\n",
    "4. Search database for sequences associated with high-scoring \"words\"\n",
    "5. Extend matching alignments and score the sequence's similarity to quantify high-scoring sequence pairs (HSPs)\n",
    "6. Combine HSPs if mapping to the same database sequence\n",
    "7. Display scores and Smith-Waterman alignment for high-scoring matches\n",
    "\n",
    "The results of the algorithm is an E-value for each matching sequence. The E-value represents the probability of getting the alignment by chance (a p-value corrected for multiple testing).\n",
    "\n",
    "Details about the sequence similarity scores can be found here: [http://www.ncbi.nlm.nih.gov/BLAST/tutorial/Altschul-1.html](http://www.ncbi.nlm.nih.gov/BLAST/tutorial/Altschul-1.html)"
   ]
  },
  {
   "cell_type": "markdown",
   "metadata": {},
   "source": [
    "### BLAST Queries Using BioPython\n",
    "\n",
    "BioPython supports running BLAST queries either locally or over the internet. To run BLAST locally you will need to install the algorithm and sequence databases on your machine. The advantages of running queries locally are improved performance (faster) and customizable databases. Use the following module for local BLAST:\n",
    "\n",
    "    from Bio.Blast.Applications import NcbiblastpCommandline\n",
    "    \n",
    "We will focus on running BLAST queries over the internet, which requires less initial setup and provides access to NCBI's sequence databases. The `qblast()` method in the `Bio.Blast.NCBIWWW` module can be used to submit BLAST queries. The method takes three parameters:\n",
    "\n",
    "1. The blast program (indicates the type of query)\n",
    "    - blastp: amino acid sequence queried against protein database\n",
    "    - blastn: nucleotide sequence queried against nucleotide database\n",
    "    - blastx: translated nucleotide sequence queried against protein database\n",
    "2. The database to search\n",
    "    - [https://ftp.ncbi.nlm.nih.gov/pub/factsheets/HowTo_BLASTGuide.pdf](https://ftp.ncbi.nlm.nih.gov/pub/factsheets/HowTo_BLASTGuide.pdf)\n",
    "3. The query sequence (a string)\n",
    "\n",
    "The `qblast()` method returns XML formatted results."
   ]
  },
  {
   "cell_type": "code",
   "execution_count": 22,
   "metadata": {},
   "outputs": [],
   "source": [
    "from Bio.Blast import NCBIWWW"
   ]
  },
  {
   "cell_type": "code",
   "execution_count": 23,
   "metadata": {},
   "outputs": [
    {
     "data": {
      "text/plain": [
       "'MRPSGTAGAALLALLAALCPASRALEEKKVCQGTSNKLTQLGTFEDHFLSLQRMFNNCEVVLGNLEITYVQRNYDLSFLKTIQEVAGYVLIALNTVERIPLENLQIIRGNMYYENSYALAVLSNYDANKTGLKELPMRNLQEILHGAVRFSNNPALCNVESIQWRDIVSSDFLSNMSMDFQNHLGSCQKCDPSCPNGSCWGAGEENCQKLTKIICAQQCSGRCRGKSPSDCCHNQCAAGCTGPRESDCLVCRKFRDEATCKDTCPPLMLYNPTTYQMDVNPEGKYSFGATCVKKCPRNYVVTDHGSCVRACGADSYEMEEDGVRKCKKCEGPCRKVCNGIGIGEFKDSLSINATNIKHFKNCTSISGDLHILPVAFRGDSFTHTPPLDPQELDILKTVKEITGFLLIQAWPENRTDLHAFENLEIIRGRTKQHGQFSLAVVSLNITSLGLRSLKEISDGDVIISGNKNLCYANTINWKKLFGTSGQKTKIISNRGENSCKATGQVCHALCSPEGCWGPEPRDCVSCRNVSRGRECVDKCNLLEGEPREFVENSECIQCHPECLPQAMNITCTGRGPDNCIQCAHYIDGPHCVKTCPAGVMGENNTLVWKYADAGHVCHLCHPNCTYGXXXXXLXXCPTNGPKIPSIATGMVGALLLLLVVALGIGLFMRRRHIVRKRTLRRLLQERELVEPLTPSGEAPNQXLLRILKETEFKKIKVLGSGAFGTVYKGLWIPEGEKVKIPVAIKELREATSPKANKEILDEAYVMASVDNPHVCRLLGICLTSTVQLITQLMPFXCLXXYVREHKDNIGSQYLLNWCVQIAKGMNYLEDRRLVHRDLAARNVLVKTPQHVKITDFGLAKLLGAEEKEYHAEGGKVPIKWMALESILHRIYTHQSDVWSYGVTVWELMTFGSKPYDGIPASEISSILEKGERLPQPPICTIDVYMIMVKCWMIDADSRPKFRELIIEFSKMARDPQRYLVIQGDERMHLPSPTDSNFYRALMDEEDMDDVVDADEYLIPQQGFFSSPSTSRTPLLSSLSATSNNSTVACIDRNGLXSCXXXXDXXXXXXSXXPXXXLTEDSIDDTFLPVPEYINQSVPKRPAGSVQNPVYHXXXLXXXPSXDPHYQDPHSTAVGNPEYLNTVQPTCXXSXFXXPAXWAQKGSHQISLDNPDYQQDFFPKEAKPNGIFKGSTXXXXXXLXXXPXXSXXIXASSCH'"
      ]
     },
     "execution_count": 23,
     "metadata": {},
     "output_type": "execute_result"
    }
   ],
   "source": [
    "## Get a query sequence\n",
    "seq = str(summary.dumb_consensus(threshold=0.6, ambiguous='X'))\n",
    "seq"
   ]
  },
  {
   "cell_type": "code",
   "execution_count": 24,
   "metadata": {},
   "outputs": [],
   "source": [
    "## WARNING -- this may take a while to run\n",
    "## Run a BLAST query\n",
    "result_handle = NCBIWWW.qblast('blastp', 'nr', seq)\n",
    "\n",
    "## Write XML results to file\n",
    "fh = open(\"blast_results.xml\", 'w')\n",
    "fh.write(result_handle.read())\n",
    "fh.close()"
   ]
  },
  {
   "cell_type": "markdown",
   "metadata": {},
   "source": [
    "#### Reading BLAST XML Results"
   ]
  },
  {
   "cell_type": "code",
   "execution_count": 25,
   "metadata": {},
   "outputs": [],
   "source": [
    "## Import module for parsing BLAST XML results\n",
    "from Bio.Blast import NCBIXML\n",
    "\n",
    "## Read BLAST results\n",
    "fh = open('blast_results.xml')\n",
    "blast_record = NCBIXML.read(fh)\n",
    "fh.close()"
   ]
  },
  {
   "cell_type": "code",
   "execution_count": 26,
   "metadata": {},
   "outputs": [
    {
     "data": {
      "text/plain": [
       "50"
      ]
     },
     "execution_count": 26,
     "metadata": {},
     "output_type": "execute_result"
    }
   ],
   "source": [
    "## Get descriptions of matches\n",
    "len(blast_record.descriptions)"
   ]
  },
  {
   "cell_type": "code",
   "execution_count": 27,
   "metadata": {},
   "outputs": [
    {
     "name": "stdout",
     "output_type": "stream",
     "text": [
      "ref|NP_005219.2| epidermal growth factor receptor isoform a precursor [Homo sapiens] >sp|P00533.2| RecName: Full=Epidermal growth factor receptor; AltName: Full=Proto-oncogene c-ErbB-1; AltName: Full=Receptor tyrosine-protein kinase erbB-1; Flags: Precursor [Homo sapiens] >gb|AAX41052.1| epidermal growth factor receptor [synthetic construct] >gb|AAG35789.1| p170 epidermal growth factor receptor [Homo sapiens] >gb|AAS83109.1| epidermal growth factor receptor (erythroblastic leukemia viral (v-erb-b) oncogene homolog, avian) [Homo sapiens] >gb|AAX41053.1| epidermal growth factor receptor [synthetic construct] >gb|EAW50962.1| epidermal growth factor receptor (erythroblastic leukemia viral (v-erb-b) oncogene homolog, avian), isoform CRA_a [Homo sapiens]\n",
      "5989.0\n",
      "0.0 \n",
      "\n",
      "dbj|BAI46646.1| epidermal growth factor receptor, partial [synthetic construct]\n",
      "5987.0\n",
      "0.0 \n",
      "\n",
      "pdb|7SYD|A Chain A, Epidermal growth factor receptor [Homo sapiens] >pdb|7SYD|B Chain B, Epidermal growth factor receptor [Homo sapiens] >pdb|7SYE|A Chain A, Epidermal growth factor receptor [Homo sapiens] >pdb|7SYE|B Chain B, Epidermal growth factor receptor [Homo sapiens] >pdb|7SZ5|A Chain A, Epidermal growth factor receptor [Homo sapiens] >pdb|7SZ5|B Chain B, Epidermal growth factor receptor [Homo sapiens] >pdb|7SZ7|A Chain A, Epidermal growth factor receptor [Homo sapiens] >pdb|7SZ7|B Chain B, Epidermal growth factor receptor [Homo sapiens]\n",
      "5986.0\n",
      "0.0 \n",
      "\n"
     ]
    }
   ],
   "source": [
    "for description in blast_record.descriptions[0:3]:\n",
    "    print(description.title)\n",
    "    print(description.score)\n",
    "    print(description.e, '\\n')"
   ]
  },
  {
   "cell_type": "code",
   "execution_count": 28,
   "metadata": {},
   "outputs": [
    {
     "data": {
      "text/plain": [
       "50"
      ]
     },
     "execution_count": 28,
     "metadata": {},
     "output_type": "execute_result"
    }
   ],
   "source": [
    "## Get alignment info about matches\n",
    "len(blast_record.alignments)"
   ]
  },
  {
   "cell_type": "code",
   "execution_count": 29,
   "metadata": {},
   "outputs": [
    {
     "name": "stdout",
     "output_type": "stream",
     "text": [
      "ref|NP_005219.2| epidermal growth factor receptor isoform a precursor [Homo sapiens] >sp|P00533.2| RecName: Full=Epidermal growth factor receptor; AltName: Full=Proto-oncogene c-ErbB-1; AltName: Full=Receptor tyrosine-protein kinase erbB-1; Flags: Precursor [Homo sapiens] >gb|AAX41052.1| epidermal growth factor receptor [synthetic construct] >gb|AAG35789.1| p170 epidermal growth factor receptor [Homo sapiens] >gb|AAS83109.1| epidermal growth factor receptor (erythroblastic leukemia viral (v-erb-b) oncogene homolog, avian) [Homo sapiens] >gb|AAX41053.1| epidermal growth factor receptor [synthetic construct] >gb|EAW50962.1| epidermal growth factor receptor (erythroblastic leukemia viral (v-erb-b) oncogene homolog, avian), isoform CRA_a [Homo sapiens]\n",
      "5989.0\n",
      "Query:  MRPSGTAGAALLALLAALCPASRALEEKKVCQGTSNKLTQLGTFEDHFLSLQRMFNNCEVVLGNLEITYVQRNYDLSFLKTIQEVAGYVLIALNTVERIPLENLQIIRGNMYYENSYALAVLSNYDANKTGLKELPMRNLQEILHGAVRFSNNPALCNVESIQWRDIVSSDFLSNMSMDFQNHLGSCQKCDPSCPNGSCWGAGEENCQKLTKIICAQQCSGRCRGKSPSDCCHNQCAAGCTGPRESDCLVCRKFRDEATCKDTCPPLMLYNPTTYQMDVNPEGKYSFGATCVKKCPRNYVVTDHGSCVRACGADSYEMEEDGVRKCKKCEGPCRKVCNGIGIGEFKDSLSINATNIKHFKNCTSISGDLHILPVAFRGDSFTHTPPLDPQELDILKTVKEITGFLLIQAWPENRTDLHAFENLEIIRGRTKQHGQFSLAVVSLNITSLGLRSLKEISDGDVIISGNKNLCYANTINWKKLFGTSGQKTKIISNRGENSCKATGQVCHALCSPEGCWGPEPRDCVSCRNVSRGRECVDKCNLLEGEPREFVENSECIQCHPECLPQAMNITCTGRGPDNCIQCAHYIDGPHCVKTCPAGVMGENNTLVWKYADAGHVCHLCHPNCTYGXXXXXLXXCPTNGPKIPSIATGMVGALLLLLVVALGIGLFMRRRHIVRKRTLRRLLQERELVEPLTPSGEAPNQXLLRILKETEFKKIKVLGSGAFGTVYKGLWIPEGEKVKIPVAIKELREATSPKANKEILDEAYVMASVDNPHVCRLLGICLTSTVQLITQLMPFXCLXXYVREHKDNIGSQYLLNWCVQIAKGMNYLEDRRLVHRDLAARNVLVKTPQHVKITDFGLAKLLGAEEKEYHAEGGKVPIKWMALESILHRIYTHQSDVWSYGVTVWELMTFGSKPYDGIPASEISSILEKGERLPQPPICTIDVYMIMVKCWMIDADSRPKFRELIIEFSKMARDPQRYLVIQGDERMHLPSPTDSNFYRALMDEEDMDDVVDADEYLIPQQGFFSSPSTSRTPLLSSLSATSNNSTVACIDRNGLXSCXXXXDXXXXXXSXXPXXXLTEDSIDDTFLPVPEYINQSVPKRPAGSVQNPVYHXXXLXXXPSXDPHYQDPHSTAVGNPEYLNTVQPTCXXSXFXXPAXWAQKGSHQISLDNPDYQQDFFPKEAKPNGIFKGSTXXXXXXLXXXPXXSXXIXA \n",
      "\n",
      "Match:  MRPSGTAGAALLALLAALCPASRALEEKKVCQGTSNKLTQLGTFEDHFLSLQRMFNNCEVVLGNLEITYVQRNYDLSFLKTIQEVAGYVLIALNTVERIPLENLQIIRGNMYYENSYALAVLSNYDANKTGLKELPMRNLQEILHGAVRFSNNPALCNVESIQWRDIVSSDFLSNMSMDFQNHLGSCQKCDPSCPNGSCWGAGEENCQKLTKIICAQQCSGRCRGKSPSDCCHNQCAAGCTGPRESDCLVCRKFRDEATCKDTCPPLMLYNPTTYQMDVNPEGKYSFGATCVKKCPRNYVVTDHGSCVRACGADSYEMEEDGVRKCKKCEGPCRKVCNGIGIGEFKDSLSINATNIKHFKNCTSISGDLHILPVAFRGDSFTHTPPLDPQELDILKTVKEITGFLLIQAWPENRTDLHAFENLEIIRGRTKQHGQFSLAVVSLNITSLGLRSLKEISDGDVIISGNKNLCYANTINWKKLFGTSGQKTKIISNRGENSCKATGQVCHALCSPEGCWGPEPRDCVSCRNVSRGRECVDKCNLLEGEPREFVENSECIQCHPECLPQAMNITCTGRGPDNCIQCAHYIDGPHCVKTCPAGVMGENNTLVWKYADAGHVCHLCHPNCTYG     L  CPTNGPKIPSIATGMVGALLLLLVVALGIGLFMRRRHIVRKRTLRRLLQERELVEPLTPSGEAPNQ LLRILKETEFKKIKVLGSGAFGTVYKGLWIPEGEKVKIPVAIKELREATSPKANKEILDEAYVMASVDNPHVCRLLGICLTSTVQLITQLMPF CL  YVREHKDNIGSQYLLNWCVQIAKGMNYLEDRRLVHRDLAARNVLVKTPQHVKITDFGLAKLLGAEEKEYHAEGGKVPIKWMALESILHRIYTHQSDVWSYGVTVWELMTFGSKPYDGIPASEISSILEKGERLPQPPICTIDVYMIMVKCWMIDADSRPKFRELIIEFSKMARDPQRYLVIQGDERMHLPSPTDSNFYRALMDEEDMDDVVDADEYLIPQQGFFSSPSTSRTPLLSSLSATSNNSTVACIDRNGL SC    D      S  P   LTEDSIDDTFLPVPEYINQSVPKRPAGSVQNPVYH   L   PS DPHYQDPHSTAVGNPEYLNTVQPTC  S F  PA WAQKGSHQISLDNPDYQQDFFPKEAKPNGIFKGST      L   P  S  I A \n",
      "\n",
      "Subject:  MRPSGTAGAALLALLAALCPASRALEEKKVCQGTSNKLTQLGTFEDHFLSLQRMFNNCEVVLGNLEITYVQRNYDLSFLKTIQEVAGYVLIALNTVERIPLENLQIIRGNMYYENSYALAVLSNYDANKTGLKELPMRNLQEILHGAVRFSNNPALCNVESIQWRDIVSSDFLSNMSMDFQNHLGSCQKCDPSCPNGSCWGAGEENCQKLTKIICAQQCSGRCRGKSPSDCCHNQCAAGCTGPRESDCLVCRKFRDEATCKDTCPPLMLYNPTTYQMDVNPEGKYSFGATCVKKCPRNYVVTDHGSCVRACGADSYEMEEDGVRKCKKCEGPCRKVCNGIGIGEFKDSLSINATNIKHFKNCTSISGDLHILPVAFRGDSFTHTPPLDPQELDILKTVKEITGFLLIQAWPENRTDLHAFENLEIIRGRTKQHGQFSLAVVSLNITSLGLRSLKEISDGDVIISGNKNLCYANTINWKKLFGTSGQKTKIISNRGENSCKATGQVCHALCSPEGCWGPEPRDCVSCRNVSRGRECVDKCNLLEGEPREFVENSECIQCHPECLPQAMNITCTGRGPDNCIQCAHYIDGPHCVKTCPAGVMGENNTLVWKYADAGHVCHLCHPNCTYGCTGPGLEGCPTNGPKIPSIATGMVGALLLLLVVALGIGLFMRRRHIVRKRTLRRLLQERELVEPLTPSGEAPNQALLRILKETEFKKIKVLGSGAFGTVYKGLWIPEGEKVKIPVAIKELREATSPKANKEILDEAYVMASVDNPHVCRLLGICLTSTVQLITQLMPFGCLLDYVREHKDNIGSQYLLNWCVQIAKGMNYLEDRRLVHRDLAARNVLVKTPQHVKITDFGLAKLLGAEEKEYHAEGGKVPIKWMALESILHRIYTHQSDVWSYGVTVWELMTFGSKPYDGIPASEISSILEKGERLPQPPICTIDVYMIMVKCWMIDADSRPKFRELIIEFSKMARDPQRYLVIQGDERMHLPSPTDSNFYRALMDEEDMDDVVDADEYLIPQQGFFSSPSTSRTPLLSSLSATSNNSTVACIDRNGLQSCPIKEDSFLQRYSSDPTGALTEDSIDDTFLPVPEYINQSVPKRPAGSVQNPVYHNQPLNPAPSRDPHYQDPHSTAVGNPEYLNTVQPTCVNSTFDSPAHWAQKGSHQISLDNPDYQQDFFPKEAKPNGIFKGSTAENAEYLRVAPQSSEFIGA \n",
      "\n",
      "dbj|BAI46646.1| epidermal growth factor receptor, partial [synthetic construct]\n",
      "5987.0\n",
      "Query:  MRPSGTAGAALLALLAALCPASRALEEKKVCQGTSNKLTQLGTFEDHFLSLQRMFNNCEVVLGNLEITYVQRNYDLSFLKTIQEVAGYVLIALNTVERIPLENLQIIRGNMYYENSYALAVLSNYDANKTGLKELPMRNLQEILHGAVRFSNNPALCNVESIQWRDIVSSDFLSNMSMDFQNHLGSCQKCDPSCPNGSCWGAGEENCQKLTKIICAQQCSGRCRGKSPSDCCHNQCAAGCTGPRESDCLVCRKFRDEATCKDTCPPLMLYNPTTYQMDVNPEGKYSFGATCVKKCPRNYVVTDHGSCVRACGADSYEMEEDGVRKCKKCEGPCRKVCNGIGIGEFKDSLSINATNIKHFKNCTSISGDLHILPVAFRGDSFTHTPPLDPQELDILKTVKEITGFLLIQAWPENRTDLHAFENLEIIRGRTKQHGQFSLAVVSLNITSLGLRSLKEISDGDVIISGNKNLCYANTINWKKLFGTSGQKTKIISNRGENSCKATGQVCHALCSPEGCWGPEPRDCVSCRNVSRGRECVDKCNLLEGEPREFVENSECIQCHPECLPQAMNITCTGRGPDNCIQCAHYIDGPHCVKTCPAGVMGENNTLVWKYADAGHVCHLCHPNCTYGXXXXXLXXCPTNGPKIPSIATGMVGALLLLLVVALGIGLFMRRRHIVRKRTLRRLLQERELVEPLTPSGEAPNQXLLRILKETEFKKIKVLGSGAFGTVYKGLWIPEGEKVKIPVAIKELREATSPKANKEILDEAYVMASVDNPHVCRLLGICLTSTVQLITQLMPFXCLXXYVREHKDNIGSQYLLNWCVQIAKGMNYLEDRRLVHRDLAARNVLVKTPQHVKITDFGLAKLLGAEEKEYHAEGGKVPIKWMALESILHRIYTHQSDVWSYGVTVWELMTFGSKPYDGIPASEISSILEKGERLPQPPICTIDVYMIMVKCWMIDADSRPKFRELIIEFSKMARDPQRYLVIQGDERMHLPSPTDSNFYRALMDEEDMDDVVDADEYLIPQQGFFSSPSTSRTPLLSSLSATSNNSTVACIDRNGLXSCXXXXDXXXXXXSXXPXXXLTEDSIDDTFLPVPEYINQSVPKRPAGSVQNPVYHXXXLXXXPSXDPHYQDPHSTAVGNPEYLNTVQPTCXXSXFXXPAXWAQKGSHQISLDNPDYQQDFFPKEAKPNGIFKGSTXXXXXXLXXXPXXSXXIXA \n",
      "\n",
      "Match:  MRPSGTAGAALLALLAALCPASRALEEKKVCQGTSNKLTQLGTFEDHFLSLQRMFNNCEVVLGNLEITYVQRNYDLSFLKTIQEVAGYVLIALNTVERIPLENLQIIRGNMYYENSYALAVLSNYDANKTGLKELPMRNLQEILHGAVRFSNNPALCNVESIQWRDIVSSDFLSNMSMDFQNHLGSCQKCDPSCPNGSCWGAGEENCQKLTKIICAQQCSGRCRGKSPSDCCHNQCAAGCTGPRESDCLVCRKFRDEATCKDTCPPLMLYNPTTYQMDVNPEGKYSFGATCVKKCPRNYVVTDHGSCVRACGADSYEMEEDGVRKCKKCEGPCRKVCNGIGIGEFKDSLSINATNIKHFKNCTSISGDLHILPVAFRGDSFTHTPPLDPQELDILKTVKEITGFLLIQAWPENRTDLHAFENLEIIRGRTKQHGQFSLAVVSLNITSLGLRSLKEISDGDVIISGNKNLCYANTINWKKLFGTSGQKTKIISNRGENSCKATGQVCHALCSPEGCWGPEP+DCVSCRNVSRGRECVDKCNLLEGEPREFVENSECIQCHPECLPQAMNITCTGRGPDNCIQCAHYIDGPHCVKTCPAGVMGENNTLVWKYADAGHVCHLCHPNCTYG     L  CPTNGPKIPSIATGMVGALLLLLVVALGIGLFMRRRHIVRKRTLRRLLQERELVEPLTPSGEAPNQ LLRILKETEFKKIKVLGSGAFGTVYKGLWIPEGEKVKIPVAIKELREATSPKANKEILDEAYVMASVDNPHVCRLLGICLTSTVQLITQLMPF CL  YVREHKDNIGSQYLLNWCVQIAKGMNYLEDRRLVHRDLAARNVLVKTPQHVKITDFGLAKLLGAEEKEYHAEGGKVPIKWMALESILHRIYTHQSDVWSYGVTVWELMTFGSKPYDGIPASEISSILEKGERLPQPPICTIDVYMIMVKCWMIDADSRPKFRELIIEFSKMARDPQRYLVIQGDERMHLPSPTDSNFYRALMDEEDMDDVVDADEYLIPQQGFFSSPSTSRTPLLSSLSATSNNSTVACIDRNGL SC    D      S  P   LTEDSIDDTFLPVPEYINQSVPKRPAGSVQNPVYH   L   PS DPHYQDPHSTAVGNPEYLNTVQPTC  S F  PA WAQKGSHQISLDNPDYQQDFFPKEAKPNGIFKGST      L   P  S  I A \n",
      "\n",
      "Subject:  MRPSGTAGAALLALLAALCPASRALEEKKVCQGTSNKLTQLGTFEDHFLSLQRMFNNCEVVLGNLEITYVQRNYDLSFLKTIQEVAGYVLIALNTVERIPLENLQIIRGNMYYENSYALAVLSNYDANKTGLKELPMRNLQEILHGAVRFSNNPALCNVESIQWRDIVSSDFLSNMSMDFQNHLGSCQKCDPSCPNGSCWGAGEENCQKLTKIICAQQCSGRCRGKSPSDCCHNQCAAGCTGPRESDCLVCRKFRDEATCKDTCPPLMLYNPTTYQMDVNPEGKYSFGATCVKKCPRNYVVTDHGSCVRACGADSYEMEEDGVRKCKKCEGPCRKVCNGIGIGEFKDSLSINATNIKHFKNCTSISGDLHILPVAFRGDSFTHTPPLDPQELDILKTVKEITGFLLIQAWPENRTDLHAFENLEIIRGRTKQHGQFSLAVVSLNITSLGLRSLKEISDGDVIISGNKNLCYANTINWKKLFGTSGQKTKIISNRGENSCKATGQVCHALCSPEGCWGPEPKDCVSCRNVSRGRECVDKCNLLEGEPREFVENSECIQCHPECLPQAMNITCTGRGPDNCIQCAHYIDGPHCVKTCPAGVMGENNTLVWKYADAGHVCHLCHPNCTYGCTGPGLEGCPTNGPKIPSIATGMVGALLLLLVVALGIGLFMRRRHIVRKRTLRRLLQERELVEPLTPSGEAPNQALLRILKETEFKKIKVLGSGAFGTVYKGLWIPEGEKVKIPVAIKELREATSPKANKEILDEAYVMASVDNPHVCRLLGICLTSTVQLITQLMPFGCLLDYVREHKDNIGSQYLLNWCVQIAKGMNYLEDRRLVHRDLAARNVLVKTPQHVKITDFGLAKLLGAEEKEYHAEGGKVPIKWMALESILHRIYTHQSDVWSYGVTVWELMTFGSKPYDGIPASEISSILEKGERLPQPPICTIDVYMIMVKCWMIDADSRPKFRELIIEFSKMARDPQRYLVIQGDERMHLPSPTDSNFYRALMDEEDMDDVVDADEYLIPQQGFFSSPSTSRTPLLSSLSATSNNSTVACIDRNGLQSCPIKEDSFLQRYSSDPTGALTEDSIDDTFLPVPEYINQSVPKRPAGSVQNPVYHNQPLNPAPSRDPHYQDPHSTAVGNPEYLNTVQPTCVNSTFDSPAHWAQKGSHQISLDNPDYQQDFFPKEAKPNGIFKGSTAENAEYLRVAPQSSEFIGA \n",
      "\n"
     ]
    }
   ],
   "source": [
    "for alignment in blast_record.alignments[0:2]:\n",
    "    print(alignment.title)\n",
    "    for hsp in alignment.hsps:\n",
    "        print(hsp.score)\n",
    "        print(\"Query: \", hsp.query, '\\n')\n",
    "        print(\"Match: \", hsp.match, '\\n')\n",
    "        print(\"Subject: \", hsp.sbjct, '\\n')"
   ]
  },
  {
   "cell_type": "markdown",
   "metadata": {},
   "source": [
    "## References\n",
    "\n",
    "- Python for Bioinformatics, Sebastian Bassi, CRC Press (2010)\n",
    "- [http://biopython.org/DIST/docs/tutorial/Tutorial.html](http://biopython.org/DIST/docs/tutorial/Tutorial.html)\n",
    "- [http://biopython.org/DIST/docs/api/](http://biopython.org/DIST/docs/api/)\n",
    "- Peter Cock et al. Biopython: freely available Python tools for computational molecular biology and bioinformatics, <i>Bioinformatics</i> (2009)\n",
    "\n",
    "#### Last Updated: 19-Sep-2022"
   ]
  }
 ],
 "metadata": {
  "anaconda-cloud": {},
  "kernelspec": {
   "display_name": "Python 3 (ipykernel)",
   "language": "python",
   "name": "python3"
  },
  "language_info": {
   "codemirror_mode": {
    "name": "ipython",
    "version": 3
   },
   "file_extension": ".py",
   "mimetype": "text/x-python",
   "name": "python",
   "nbconvert_exporter": "python",
   "pygments_lexer": "ipython3",
   "version": "3.10.6"
  }
 },
 "nbformat": 4,
 "nbformat_minor": 1
}
