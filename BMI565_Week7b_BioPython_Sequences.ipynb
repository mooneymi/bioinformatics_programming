{
 "cells": [
  {
   "cell_type": "markdown",
   "metadata": {},
   "source": [
    "# BMI565: Bioinformatics Programming & Scripting\n",
    "\n",
    "#### (C) Michael Mooney (mooneymi@ohsu.edu)\n",
    "\n",
    "## Week 7: BioPython - Sequence Objects\n",
    "\n",
    "1. BioPython History\n",
    "2. Alphabet Objects\n",
    "3. Sequence Objects\n",
    "4. Sequence Records\n",
    "5. Sequence I/O\n",
    "    - Reading Sequences\n",
    "    - Writing Sequences\n",
    "    - Converting Sequence Formats\n",
    "\n",
    "#### Requirements\n",
    "\n",
    "- Python 2.7 or 3.x\n",
    "- `Bio` (BioPython) module (`conda install biopython`)\n",
    "- Data Files:\n",
    "    - `./data/P00533.fasta`\n",
    "    - `./data/egfr.fasta`\n",
    "    - `./data/egfr.gb`"
   ]
  },
  {
   "cell_type": "code",
   "execution_count": 1,
   "metadata": {},
   "outputs": [],
   "source": [
    "from __future__ import print_function, division"
   ]
  },
  {
   "cell_type": "markdown",
   "metadata": {},
   "source": [
    "## BioPython History\n",
    "\n",
    "BioPython is a collection of Python modules developed to address bioinformatics problems.\n",
    "\n",
    "- BioPython is free\n",
    "- First released in 1999 by Jeff Chang and Brad Chapman\n",
    "- Original design goals for BioPython:\n",
    "    - import and parse biological data in to a computer usable format from a variety of sources (Entrez, PubMed, fasta, etc.)\n",
    "    - use Python strengths in OOP to represent biological sequences\n",
    "    - provide standardized tools for analyzing biological data (vizualization, statistics, machine-learning)"
   ]
  },
  {
   "cell_type": "markdown",
   "metadata": {},
   "source": [
    "\n",
    "\n",
    "[http://biopython.org/DIST/docs/tutorial/Tutorial.html](http://biopython.org/DIST/docs/tutorial/Tutorial.html)"
   ]
  },
  {
   "cell_type": "markdown",
   "metadata": {
    "heading_collapsed": true
   },
   "source": [
    "## Alphabet Objects (Removed in Sep. 2020)\n",
    "\n",
    "[https://biopython.org/wiki/Alphabet](https://biopython.org/wiki/Alphabet)\n",
    "\n",
    "You can now record molecule type in the `annotations` attribute of `SeqRecord` objects."
   ]
  },
  {
   "cell_type": "markdown",
   "metadata": {
    "hidden": true
   },
   "source": [
    "***For Biopython versions < 1.78**\n",
    "\n",
    "Alphabets are used to describe specific types of biological sequences. The `Bio.Alphabet.IUPAC` module provides basic definitions of DNA, RNA, and protein sequences.\n",
    "\n",
    "Alphabet objects:\n",
    "- Are based on IUPAC (International Union of Pure and Applied Chemistry) rules for naming organic compounds\n",
    "- [http://www.bioinformatics.org/sms/iupac.html](http://www.bioinformatics.org/sms/iupac.html)\n",
    "- Constrains allowable sequence data\n",
    "- Allows code to make safe assumptions about sequence content"
   ]
  },
  {
   "cell_type": "code",
   "execution_count": null,
   "metadata": {
    "hidden": true
   },
   "outputs": [],
   "source": [
    "from Bio.Alphabet import IUPAC\n",
    "print(\"DNA: \" + IUPAC.unambiguous_dna.letters)\n",
    "print(\"Ambiguous DNA: \" + IUPAC.ambiguous_dna.letters)\n",
    "print(\"RNA: \" + IUPAC.unambiguous_rna.letters)\n",
    "print(\"Ambiguous RNA: \" + IUPAC.ambiguous_rna.letters)\n",
    "print(\"Protein: \" + IUPAC.protein.letters)"
   ]
  },
  {
   "cell_type": "markdown",
   "metadata": {},
   "source": [
    "## Sequence Objects\n",
    "\n",
    "The `Seq` object is BioPython's core class for biological sequences. `Seq` objects behave similarly to strings but have additional methods specific to biological sequences."
   ]
  },
  {
   "cell_type": "code",
   "execution_count": 2,
   "metadata": {},
   "outputs": [
    {
     "data": {
      "text/plain": [
       "7"
      ]
     },
     "execution_count": 2,
     "metadata": {},
     "output_type": "execute_result"
    }
   ],
   "source": [
    "from Bio.Seq import Seq\n",
    "myseq = Seq(\"CCTATGT\")\n",
    "len(myseq)"
   ]
  },
  {
   "cell_type": "code",
   "execution_count": 3,
   "metadata": {},
   "outputs": [
    {
     "data": {
      "text/plain": [
       "Seq('CCT')"
      ]
     },
     "execution_count": 3,
     "metadata": {},
     "output_type": "execute_result"
    }
   ],
   "source": [
    "myseq[0:3]"
   ]
  },
  {
   "cell_type": "code",
   "execution_count": 4,
   "metadata": {},
   "outputs": [
    {
     "data": {
      "text/plain": [
       "'CCTATGT'"
      ]
     },
     "execution_count": 4,
     "metadata": {},
     "output_type": "execute_result"
    }
   ],
   "source": [
    "str(myseq)"
   ]
  },
  {
   "cell_type": "code",
   "execution_count": 5,
   "metadata": {},
   "outputs": [
    {
     "data": {
      "text/plain": [
       "Seq('CCUAUGU')"
      ]
     },
     "execution_count": 5,
     "metadata": {},
     "output_type": "execute_result"
    }
   ],
   "source": [
    "rnaseq = myseq.transcribe()\n",
    "rnaseq"
   ]
  },
  {
   "cell_type": "markdown",
   "metadata": {},
   "source": [
    "### Sequence Object Methods\n",
    "\n",
    "<table align=\"left\">\n",
    "<tr><td style=\"text-align:center\"><b>Method</b></td><td><b>Description</b></td></tr>\n",
    "<tr><td style=\"text-align:center\"><code>Seq.transcribe()</code></td><td>Returns the mRNA sequence for a transcribed DNA sequence</td></tr>\n",
    "<tr><td style=\"text-align:center\"><code>Seq.translate()</code></td><td>Returns amino acid sequence from transcribed and translated DNA sequence</td></tr>\n",
    "<tr><td style=\"text-align:center\"><code>Seq.complement()</code></td><td>Returns the complement of a DNA or RNA sequence</td></tr>\n",
    "<tr><td style=\"text-align:center\"><code>Seq.back_transcribe()</code></td><td>Returns a DNA sequence from an RNA sequence</td></tr>\n",
    "<tr><td style=\"text-align:center\"><code>Seq.reverse_complement()</code></td><td>Returns the reverse complement of a DNA or RNA sequence</td></tr>\n",
    "<tr><td style=\"text-align:center\"><code>Seq.find(\"CG\")</code></td><td>Returns the index of the first match of the specified substring; behaves the same as the <code>find()</code> method for Python strings.</td></tr>\n",
    "<tr><td style=\"text-align:center\"><code>Seq.count(\"G\")</code></td><td>Returns the number of non-overlaping matches</td></tr>\n",
    "<tr><td style=\"text-align:center\"><code>str(Seq)</code></td><td>Returns a string version of the sequence</td></tr>\n",
    "</table>"
   ]
  },
  {
   "cell_type": "code",
   "execution_count": 6,
   "metadata": {},
   "outputs": [
    {
     "data": {
      "text/plain": [
       "'CCTATGT'"
      ]
     },
     "execution_count": 6,
     "metadata": {},
     "output_type": "execute_result"
    }
   ],
   "source": [
    "str(myseq)"
   ]
  },
  {
   "cell_type": "code",
   "execution_count": 7,
   "metadata": {},
   "outputs": [
    {
     "data": {
      "text/plain": [
       "Seq('CCTATGT')"
      ]
     },
     "execution_count": 7,
     "metadata": {},
     "output_type": "execute_result"
    }
   ],
   "source": [
    "rnaseq.back_transcribe()"
   ]
  },
  {
   "cell_type": "code",
   "execution_count": 8,
   "metadata": {},
   "outputs": [
    {
     "data": {
      "text/plain": [
       "3"
      ]
     },
     "execution_count": 8,
     "metadata": {},
     "output_type": "execute_result"
    }
   ],
   "source": [
    "myseq.find(\"AT\")"
   ]
  },
  {
   "cell_type": "code",
   "execution_count": 9,
   "metadata": {},
   "outputs": [
    {
     "name": "stdout",
     "output_type": "stream",
     "text": [
      "Help on method find in module Bio.Seq:\n",
      "\n",
      "find(sub, start=None, end=None) method of Bio.Seq.Seq instance\n",
      "    Return the lowest index in the sequence where subsequence sub is found.\n",
      "    \n",
      "    With optional arguments start and end, return the lowest index in the\n",
      "    sequence such that the subsequence sub is contained within the sequence\n",
      "    region [start:end].\n",
      "    \n",
      "    Arguments:\n",
      "     - sub - a string or another Seq or MutableSeq object to search for\n",
      "     - start - optional integer, slice start\n",
      "     - end - optional integer, slice end\n",
      "    \n",
      "    Returns -1 if the subsequence is NOT found.\n",
      "    \n",
      "    e.g. Locating the first typical start codon, AUG, in an RNA sequence:\n",
      "    \n",
      "    >>> from Bio.Seq import Seq\n",
      "    >>> my_rna = Seq(\"GUCAUGGCCAUUGUAAUGGGCCGCUGAAAGGGUGCCCGAUAGUUG\")\n",
      "    >>> my_rna.find(\"AUG\")\n",
      "    3\n",
      "    \n",
      "    The next typical start codon can then be found by starting the search\n",
      "    at position 4:\n",
      "    \n",
      "    >>> my_rna.find(\"AUG\", 4)\n",
      "    15\n",
      "\n"
     ]
    }
   ],
   "source": [
    "help(myseq.find)"
   ]
  },
  {
   "cell_type": "code",
   "execution_count": 10,
   "metadata": {},
   "outputs": [
    {
     "data": {
      "text/plain": [
       "3"
      ]
     },
     "execution_count": 10,
     "metadata": {},
     "output_type": "execute_result"
    }
   ],
   "source": [
    "myseq.count(\"T\")"
   ]
  },
  {
   "cell_type": "markdown",
   "metadata": {},
   "source": [
    "### Mutable `Seq` Objects\n",
    "\n",
    "`Seq` objects are not mutable. Use the class `MutableSeq` for mutable sequence objects."
   ]
  },
  {
   "cell_type": "code",
   "execution_count": 11,
   "metadata": {},
   "outputs": [
    {
     "data": {
      "text/plain": [
       "MutableSeq('CCTATGT')"
      ]
     },
     "execution_count": 11,
     "metadata": {},
     "output_type": "execute_result"
    }
   ],
   "source": [
    "from Bio.Seq import MutableSeq \n",
    "mutseq = MutableSeq(myseq)\n",
    "mutseq"
   ]
  },
  {
   "cell_type": "code",
   "execution_count": 12,
   "metadata": {},
   "outputs": [
    {
     "data": {
      "text/plain": [
       "MutableSeq('TCTATGTAAATGC')"
      ]
     },
     "execution_count": 12,
     "metadata": {},
     "output_type": "execute_result"
    }
   ],
   "source": [
    "mutseq[0] = \"T\"\n",
    "mutseq.extend(\"AAATGC\")\n",
    "mutseq"
   ]
  },
  {
   "cell_type": "code",
   "execution_count": 13,
   "metadata": {},
   "outputs": [
    {
     "data": {
      "text/plain": [
       "Seq('TCTATGTAAATGC')"
      ]
     },
     "execution_count": 13,
     "metadata": {},
     "output_type": "execute_result"
    }
   ],
   "source": [
    "## Create a Seq object from a MutableSeq object\n",
    "newseq = Seq(mutseq)\n",
    "newseq"
   ]
  },
  {
   "cell_type": "markdown",
   "metadata": {},
   "source": [
    "## Sequence Records\n",
    "\n",
    "`SeqRecord` objects support additional annotation information associated with a biological sequence (genomic annotation).\n",
    "\n",
    "- Structural Annotations:\n",
    "    - ORFs\n",
    "    - Gene structure\n",
    "    - Coding regions\n",
    "    - Genomic location\n",
    "    - Regulatory motifs\n",
    "- Functional Annotations:\n",
    "    - Biological/biochemical functions\n",
    "    - Molecular interactions\n",
    "    - Regulation\n",
    "    - Expression\n",
    "    - Pathways"
   ]
  },
  {
   "cell_type": "markdown",
   "metadata": {},
   "source": [
    "#### `SeqRecord` Attributes\n",
    "<br />\n",
    "<table align=\"left\">\n",
    "<tr><td style=\"text-align:center\"><b>Attribute</b></td><td><b>Description</b></td></tr>\n",
    "<tr><td style=\"text-align:center\"><code>seq</code></td><td>The sequence itself, typically a <code>Seq</code> object</td></tr>\n",
    "<tr><td style=\"text-align:center\"><code>id</code></td><td>The primary sequence ID (a string)</td></tr>\n",
    "<tr><td style=\"text-align:center\"><code>name</code></td><td>The common name for the sequence (a string)</td></tr>\n",
    "<tr><td style=\"text-align:center\"><code>description</code></td><td>A human readable description of the sequence (a string)</td></tr>\n",
    "<tr><td style=\"text-align:center\"><code>letter_annotation</code></td><td>Per-letter annotations (e.g. quality scores). These annotations are stored as a dictionary, where keys describe the annotation and values are a sequence (list, tuple, string) of the same length as the <code>Seq</code> object.</td></tr>\n",
    "<tr><td style=\"text-align:center\"><code>annotations</code></td><td>A dictionary containing addtional information about the sequence</td></tr>\n",
    "<tr><td style=\"text-align:center\"><code>features</code></td><td>A list containing <code>SeqFeature</code> objects. <code>SeqFeatures</code> allow structured annotation of specific locations within a biological sequence (e.g. exons, binding sites, etc.) (<a href=\"http://biopython.org/DIST/docs/tutorial/Tutorial.html#sec%3Aseq_features\">http://biopython.org/DIST/docs/tutorial/Tutorial.html#sec%3Aseq_features</a>)</td></tr>\n",
    "<tr><td style=\"text-align:center\"><code>dbxrefs</code></td><td>A list of database cross-references as strings</td></tr>\n",
    "</table>"
   ]
  },
  {
   "cell_type": "code",
   "execution_count": 14,
   "metadata": {},
   "outputs": [],
   "source": [
    "from Bio.SeqRecord import SeqRecord"
   ]
  },
  {
   "cell_type": "code",
   "execution_count": 15,
   "metadata": {},
   "outputs": [],
   "source": [
    "## Create a sequence\n",
    "simpleseq = Seq(\"AAAGCT\")\n",
    "\n",
    "## Create a sequence record\n",
    "simpleseq_rec1 = SeqRecord(simpleseq)"
   ]
  },
  {
   "cell_type": "code",
   "execution_count": 16,
   "metadata": {},
   "outputs": [
    {
     "name": "stdout",
     "output_type": "stream",
     "text": [
      "ID: 4321\n",
      "Name: <unknown name>\n",
      "Description: A simple sequence example\n",
      "Number of features: 0\n",
      "Seq('AAAGCT')\n",
      "\n",
      "ID: 4321\n",
      "Name: <unknown name>\n",
      "Description: A simple sequence example\n",
      "Number of features: 0\n",
      "Seq('AAAGCT')\n"
     ]
    }
   ],
   "source": [
    "## Set sequence record attributes\n",
    "simpleseq_rec1.id = \"4321\"\n",
    "simpleseq_rec1.description = \"A simple sequence example\"\n",
    "\n",
    "## Alternatively, we can set attributes when we create the record\n",
    "simpleseq_rec2 = SeqRecord(simpleseq, id=\"4321\", description=\"A simple sequence example\")\n",
    "\n",
    "print(simpleseq_rec1)\n",
    "print()\n",
    "print(simpleseq_rec2)"
   ]
  },
  {
   "cell_type": "code",
   "execution_count": 17,
   "metadata": {},
   "outputs": [
    {
     "name": "stdout",
     "output_type": "stream",
     "text": [
      "{'Organism': 'Homo sapiens', 'molecule_type': 'DNA'}\n",
      "{'qualities': [40, 40, 38, 10, 20, 40]}\n"
     ]
    }
   ],
   "source": [
    "## Set other SeqRecord attributes\n",
    "simpleseq_rec1.annotations[\"Organism\"] = \"Homo sapiens\"\n",
    "simpleseq_rec1.annotations[\"molecule_type\"] = \"DNA\"\n",
    "print(simpleseq_rec1.annotations)\n",
    "\n",
    "simpleseq_rec1.letter_annotations[\"qualities\"] = [40,40,38,10,20,40]\n",
    "print(simpleseq_rec1.letter_annotations)"
   ]
  },
  {
   "cell_type": "code",
   "execution_count": 18,
   "metadata": {},
   "outputs": [
    {
     "data": {
      "text/plain": [
       "Seq('AAAGCT')"
      ]
     },
     "execution_count": 18,
     "metadata": {},
     "output_type": "execute_result"
    }
   ],
   "source": [
    "simpleseq_rec1.seq"
   ]
  },
  {
   "cell_type": "code",
   "execution_count": 19,
   "metadata": {},
   "outputs": [
    {
     "name": "stdout",
     "output_type": "stream",
     "text": [
      ">4321 A simple sequence example\n",
      "AAAGCT\n",
      "\n"
     ]
    }
   ],
   "source": [
    "## Print the SeqRecord in a specified format\n",
    "print(simpleseq_rec1.format(\"fasta\"))"
   ]
  },
  {
   "cell_type": "markdown",
   "metadata": {},
   "source": [
    "## Sequence I/O\n",
    "\n",
    "The `SeqIO` module provides tools for working with various sequence file formats. This module allows you to read and parse sequence files, convert between file formats and write sequence records to a file.\n",
    "\n",
    "Supported formats:\n",
    "[http://biopython.org/wiki/SeqIO](http://biopython.org/wiki/SeqIO)\n",
    "\n",
    "<b>** It is important to note that not all sequence formats are perfectly compatible. For instance, some formats may require quality scores, or may enforce length limits on identifiers, etc. Also, information may not be perfectly preserved when converting to another format and then back to the original format.</b>"
   ]
  },
  {
   "cell_type": "markdown",
   "metadata": {},
   "source": [
    "### Reading Sequences"
   ]
  },
  {
   "cell_type": "code",
   "execution_count": 20,
   "metadata": {},
   "outputs": [
    {
     "name": "stdout",
     "output_type": "stream",
     "text": [
      "ID: sp|P00533|EGFR_HUMAN\n",
      "Name: sp|P00533|EGFR_HUMAN\n",
      "Description: sp|P00533|EGFR_HUMAN Epidermal growth factor receptor OS=Homo sapiens GN=EGFR PE=1 SV=2\n",
      "Number of features: 0\n",
      "Seq('MRPSGTAGAALLALLAALCPASRALEEKKVCQGTSNKLTQLGTFEDHFLSLQRM...IGA')\n"
     ]
    }
   ],
   "source": [
    "from Bio import SeqIO\n",
    "\n",
    "## open a sequence file\n",
    "fh = open(\"./data/P00533.fasta\", 'r')\n",
    "\n",
    "## SeqIO.read() will parse the file and return a sequence record object\n",
    "fasta_rec = SeqIO.read(fh, \"fasta\")\n",
    "print(fasta_rec)\n",
    "\n",
    "## close the file\n",
    "fh.close()"
   ]
  },
  {
   "cell_type": "code",
   "execution_count": 21,
   "metadata": {},
   "outputs": [
    {
     "name": "stdout",
     "output_type": "stream",
     "text": [
      "Number of records:  4\n",
      "ID: sp|P00533-4|EGFR_HUMAN\n",
      "Name: sp|P00533-4|EGFR_HUMAN\n",
      "Description: sp|P00533-4|EGFR_HUMAN Isoform 4 of Epidermal growth factor receptor OS=Homo sapiens GN=EGFR\n",
      "Number of features: 0\n",
      "Seq('MRPSGTAGAALLALLAALCPASRALEEKKVCQGTSNKLTQLGTFEDHFLSLQRM...YGS')\n"
     ]
    }
   ],
   "source": [
    "## Read multiple sequences from a single file \n",
    "record_list = []\n",
    "\n",
    "with open(\"./data/egfr.fasta\") as fh:\n",
    "    ## SeqIO.parse() returns a generator that yields a SeqRecord for each sequence in the file\n",
    "    records = SeqIO.parse(fh, \"fasta\")\n",
    "    \n",
    "    for record in records:\n",
    "        record_list.append(record)\n",
    "\n",
    "print(\"Number of records: \", len(record_list))\n",
    "print(record_list[3])"
   ]
  },
  {
   "cell_type": "markdown",
   "metadata": {},
   "source": [
    "### Writing Sequences"
   ]
  },
  {
   "cell_type": "code",
   "execution_count": 22,
   "metadata": {},
   "outputs": [],
   "source": [
    "## Write a SeqRecord to a file\n",
    "fh = open('newseq.fasta', 'w')\n",
    "SeqIO.write(simpleseq_rec1, fh, \"fasta\")\n",
    "fh.close()"
   ]
  },
  {
   "cell_type": "code",
   "execution_count": 23,
   "metadata": {},
   "outputs": [],
   "source": [
    "## SeqIO.write() can also take a list of sequence records\n",
    "fh = open('newseq2.fasta', 'w')\n",
    "SeqIO.write(record_list, fh, \"fasta\")\n",
    "fh.close()"
   ]
  },
  {
   "cell_type": "markdown",
   "metadata": {},
   "source": [
    "### Converting Between Sequence Formats\n",
    "\n",
    "SeqIO file formats:\n",
    "[http://biopython.org/wiki/SeqIO](http://biopython.org/wiki/SeqIO)"
   ]
  },
  {
   "cell_type": "code",
   "execution_count": 24,
   "metadata": {},
   "outputs": [
    {
     "name": "stdout",
     "output_type": "stream",
     "text": [
      "ID: NM_005228.3\n",
      "Name: NM_005228\n",
      "Description: Homo sapiens epidermal growth factor receptor (EGFR), transcript variant 1, mRNA\n",
      "Number of features: 70\n",
      "/molecule_type=mRNA\n",
      "/topology=linear\n",
      "/data_file_division=PRI\n",
      "/date=08-NOV-2014\n",
      "/accessions=['NM_005228']\n",
      "/sequence_version=3\n",
      "/gi=41327737\n",
      "/keywords=['RefSeq']\n",
      "/source=Homo sapiens (human)\n",
      "/organism=Homo sapiens\n",
      "/taxonomy=['Eukaryota', 'Metazoa', 'Chordata', 'Craniata', 'Vertebrata', 'Euteleostomi', 'Mammalia', 'Eutheria', 'Euarchontoglires', 'Primates', 'Haplorrhini', 'Catarrhini', 'Hominidae', 'Homo']\n",
      "/references=[Reference(title='Cellular migration and invasion uncoupled: increased migration is not an inexorable consequence of epithelial-to-mesenchymal transition', ...), Reference(title='EGF receptor uses SOS1 to drive constitutive activation of NFkappaB in cancer cells', ...), Reference(title='Associations between mutations and histologic patterns of mucin in lung adenocarcinoma: invasive mucinous pattern and extracellular mucin are associated with KRAS mutation', ...), Reference(title='Epidermal growth factor receptor (EGFR) mutation testing, from bench to practice: a single institute experience', ...), Reference(title='[Comparative characteristics of genetic aberrations in glioblastomas in children and adults]', ...), Reference(title='The SH2 and SH3 domain-containing Nck protein is oncogenic and a common target for phosphorylation by different surface receptors', ...), Reference(title='Identification of the two major epidermal growth factor-induced tyrosine phosphorylation sites in the microvillar core protein ezrin', ...), Reference(title='The SH2 and SH3 domain-containing protein GRB2 links receptor tyrosine kinases to ras signaling', ...), Reference(title='Two chromosome 7 dinucleotide repeat polymorphisms at gene loci epidermal growth factor receptor (EGFR) and pro alpha 2 (I) collagen (COL1A2)', ...), Reference(title='Mechanism of desensitization of the epidermal growth factor receptor protein-tyrosine kinase', ...)]\n",
      "/comment=REVIEWED REFSEQ: This record has been curated by NCBI staff. The\n",
      "reference sequence was derived from AW163038.1, X00588.1,\n",
      "AF125253.1, AU137334.1, CB160831.1, AL598260.1, AI217671.1 and\n",
      "AW295229.1.\n",
      "This sequence is a reference standard in the RefSeqGene project.\n",
      "On Jan 26, 2004 this sequence version replaced gi:29725608.\n",
      "Summary: The protein encoded by this gene is a transmembrane\n",
      "glycoprotein that is a member of the protein kinase superfamily.\n",
      "This protein is a receptor for members of the epidermal growth\n",
      "factor family. EGFR is a cell surface protein that binds to\n",
      "epidermal growth factor. Binding of the protein to a ligand induces\n",
      "receptor dimerization and tyrosine autophosphorylation and leads to\n",
      "cell proliferation. Mutations in this gene are associated with lung\n",
      "cancer. Multiple alternatively spliced transcript variants that\n",
      "encode different protein isoforms have been found for this gene.\n",
      "[provided by RefSeq, Jul 2010].\n",
      "Transcript Variant: This variant (1) is the longest transcript and\n",
      "it encodes the longest isoform (a).\n",
      "Publication Note:  This RefSeq record includes a subset of the\n",
      "publications that are available for this gene. Please see the Gene\n",
      "record to access additional publications.\n",
      "COMPLETENESS: complete on the 3' end.\n",
      "/structured_comment=OrderedDict([('Evidence-Data', OrderedDict([('Transcript exon combination', 'X00588.1, BC070081.1 [ECO:0000332]'), ('RNAseq introns', 'single sample supports all introns ERS025084, ERS025087 [ECO:0000348]')]))])\n",
      "Seq('CCCCGGCGCAGCGCGGCCGCAGCAGCCTCCGCCCCCCGCACGGTGTGAGCGCCC...AAA')\n"
     ]
    }
   ],
   "source": [
    "## Read a file in GenBank format\n",
    "fh = open('./data/egfr.gb', 'r')\n",
    "egfr_rec = SeqIO.read(fh, \"genbank\")\n",
    "print(egfr_rec)\n",
    "fh.close()"
   ]
  },
  {
   "cell_type": "code",
   "execution_count": 25,
   "metadata": {},
   "outputs": [
    {
     "name": "stdout",
     "output_type": "stream",
     "text": [
      ">NM_005228.3 Homo sapiens epidermal growth factor receptor (EGFR), transcript variant 1, mRNA\n",
      "CCCCGGCGCAGCGCGGCCGCAGCAGCCTCCGCCCCCCGCACGGTGTGAGCGCCCGACGCG\n",
      "GCCGAGGCGGCCGGAGTCCCGAGCTAGCCCCGGCGGCCGCCGCCGCCCAGACCGGACGAC\n",
      "AGGCCACCTCGTCGGCGTCCGCCCGAGTCCCCGCCTCGCCGCCAACGCCACAACCACCGC\n",
      "GCACGGCCCCCTGACTCCGTCCAGTATTGATCGGGAGAGCCGGAGCGAGCTCTTCGGGGA\n",
      "GCAGCGATGCGACCCTCCGGGACGGCCGGGGCAGCGCTCCTGGCGCTGCTGGCTGCGCTC\n",
      "TGCCCGGCGAGTCGGGCTCTGGAGGAAAAGAAAGTTTGCCAAGGCACGAGTAACAAGCTC\n",
      "ACGCAGTTGGGCACTTTTGAAGATCATTTTCTCAGCCTCCAGAGGATGTTCAATAACTGT\n",
      "GAGGTGGTCCTTGGGAATTTGGAAATTACCTATGTGCAGAGGAATTATGATCTTTCCTTC\n",
      "TTAAAGACCATCCAGGAGGTGGCTGGTTATGTCCTCATTGCCCTCAACACAGTGGAGCGA\n",
      "ATTCCTTTGGAAAACCTGCAGATCATCAGAGGAAATATGTACTACGAAAATTCCTATGCC\n",
      "TTAGCAGTCTTATCTAACTATGATGCAAATAAAACCGGACTGAAGGAGCTGCCCATGAGA\n",
      "AATTTACAGGAAATCCTGCATGGCGCCGTGCGGTTCAGCAACAACCCTGCCCTGTGCAAC\n",
      "GTGGAGAGCATCCAGTGGCGGGACATAGTCAGCAGTGACTTTCTCAGCAACATGTCGATG\n",
      "GACTTCCAGAACCACCTGGGCAGCTGCCAAAAGTGTGATCCAAGCTGTCCCAATGGGAGC\n",
      "TGCTGGGGTGCAGGAGAGGAGAACTGCCAGAAACTGACCAAAATCATCTGTGCCCAGCAG\n",
      "TGCTCCGGGCGCTGCCGTGGCAAGTCCCCCAGTGACTGCTGCCACAACCAGTGTGCTGCA\n",
      "GGCTGCACAGGCCCCCGGGAGAGCGACTGCCTGGTCTGCCGCAAATTCCGAGACGAAGCC\n",
      "ACGTGCAAGGACACCTGCCCCCCACTCATGCTCTACAACCCCACCACGTACCAGATGGAT\n",
      "GTGAACCCCGAGGGCAAATACAGCTTTGGTGCCACCTGCGTGAAGAAGTGTCCCCGTAAT\n",
      "TATGTGGTGACAGATCACGGCTCGTGCGTCCGAGCCTGTGGGGCCGACAGCTATGAGATG\n",
      "GAGGAAGACGGCGTCCGCAAGTGTAAGAAGTGCGAAGGGCCTTGCCGCAAAGTGTGTAAC\n",
      "GGAATAGGTATTGGTGAATTTAAAGACTCACTCTCCATAAATGCTACGAATATTAAACAC\n",
      "TTCAAAAACTGCACCTCCATCAGTGGCGATCTCCACATCCTGCCGGTGGCATTTAGGGGT\n",
      "GACTCCTTCACACATACTCCTCCTCTGGATCCACAGGAACTGGATATTCTGAAAACCGTA\n",
      "AAGGAAATCACAGGGTTTTTGCTGATTCAGGCTTGGCCTGAAAACAGGACGGACCTCCAT\n",
      "GCCTTTGAGAACCTAGAAATCATACGCGGCAGGACCAAGCAACATGGTCAGTTTTCTCTT\n",
      "GCAGTCGTCAGCCTGAACATAACATCCTTGGGATTACGCTCCCTCAAGGAGATAAGTGAT\n",
      "GGAGATGTGATAATTTCAGGAAACAAAAATTTGTGCTATGCAAATACAATAAACTGGAAA\n",
      "AAACTGTTTGGGACCTCCGGTCAGAAAACCAAAATTATAAGCAACAGAGGTGAAAACAGC\n",
      "TGCAAGGCCACAGGCCAGGTCTGCCATGCCTTGTGCTCCCCCGAGGGCTGCTGGGGCCCG\n",
      "GAGCCCAGGGACTGCGTCTCTTGCCGGAATGTCAGCCGAGGCAGGGAATGCGTGGACAAG\n",
      "TGCAACCTTCTGGAGGGTGAGCCAAGGGAGTTTGTGGAGAACTCTGAGTGCATACAGTGC\n",
      "CACCCAGAGTGCCTGCCTCAGGCCATGAACATCACCTGCACAGGACGGGGACCAGACAAC\n",
      "TGTATCCAGTGTGCCCACTACATTGACGGCCCCCACTGCGTCAAGACCTGCCCGGCAGGA\n",
      "GTCATGGGAGAAAACAACACCCTGGTCTGGAAGTACGCAGACGCCGGCCATGTGTGCCAC\n",
      "CTGTGCCATCCAAACTGCACCTACGGATGCACTGGGCCAGGTCTTGAAGGCTGTCCAACG\n",
      "AATGGGCCTAAGATCCCGTCCATCGCCACTGGGATGGTGGGGGCCCTCCTCTTGCTGCTG\n",
      "GTGGTGGCCCTGGGGATCGGCCTCTTCATGCGAAGGCGCCACATCGTTCGGAAGCGCACG\n",
      "CTGCGGAGGCTGCTGCAGGAGAGGGAGCTTGTGGAGCCTCTTACACCCAGTGGAGAAGCT\n",
      "CCCAACCAAGCTCTCTTGAGGATCTTGAAGGAAACTGAATTCAAAAAGATCAAAGTGCTG\n",
      "GGCTCCGGTGCGTTCGGCACGGTGTATAAGGGACTCTGGATCCCAGAAGGTGAGAAAGTT\n",
      "AAAATTCCCGTCGCTATCAAGGAATTAAGAGAAGCAACATCTCCGAAAGCCAACAAGGAA\n",
      "ATCCTCGATGAAGCCTACGTGATGGCCAGCGTGGACAACCCCCACGTGTGCCGCCTGCTG\n",
      "GGCATCTGCCTCACCTCCACCGTGCAGCTCATCACGCAGCTCATGCCCTTCGGCTGCCTC\n",
      "CTGGACTATGTCCGGGAACACAAAGACAATATTGGCTCCCAGTACCTGCTCAACTGGTGT\n",
      "GTGCAGATCGCAAAGGGCATGAACTACTTGGAGGACCGTCGCTTGGTGCACCGCGACCTG\n",
      "GCAGCCAGGAACGTACTGGTGAAAACACCGCAGCATGTCAAGATCACAGATTTTGGGCTG\n",
      "GCCAAACTGCTGGGTGCGGAAGAGAAAGAATACCATGCAGAAGGAGGCAAAGTGCCTATC\n",
      "AAGTGGATGGCATTGGAATCAATTTTACACAGAATCTATACCCACCAGAGTGATGTCTGG\n",
      "AGCTACGGGGTGACCGTTTGGGAGTTGATGACCTTTGGATCCAAGCCATATGACGGAATC\n",
      "CCTGCCAGCGAGATCTCCTCCATCCTGGAGAAAGGAGAACGCCTCCCTCAGCCACCCATA\n",
      "TGTACCATCGATGTCTACATGATCATGGTCAAGTGCTGGATGATAGACGCAGATAGTCGC\n",
      "CCAAAGTTCCGTGAGTTGATCATCGAATTCTCCAAAATGGCCCGAGACCCCCAGCGCTAC\n",
      "CTTGTCATTCAGGGGGATGAAAGAATGCATTTGCCAAGTCCTACAGACTCCAACTTCTAC\n",
      "CGTGCCCTGATGGATGAAGAAGACATGGACGACGTGGTGGATGCCGACGAGTACCTCATC\n",
      "CCACAGCAGGGCTTCTTCAGCAGCCCCTCCACGTCACGGACTCCCCTCCTGAGCTCTCTG\n",
      "AGTGCAACCAGCAACAATTCCACCGTGGCTTGCATTGATAGAAATGGGCTGCAAAGCTGT\n",
      "CCCATCAAGGAAGACAGCTTCTTGCAGCGATACAGCTCAGACCCCACAGGCGCCTTGACT\n",
      "GAGGACAGCATAGACGACACCTTCCTCCCAGTGCCTGAATACATAAACCAGTCCGTTCCC\n",
      "AAAAGGCCCGCTGGCTCTGTGCAGAATCCTGTCTATCACAATCAGCCTCTGAACCCCGCG\n",
      "CCCAGCAGAGACCCACACTACCAGGACCCCCACAGCACTGCAGTGGGCAACCCCGAGTAT\n",
      "CTCAACACTGTCCAGCCCACCTGTGTCAACAGCACATTCGACAGCCCTGCCCACTGGGCC\n",
      "CAGAAAGGCAGCCACCAAATTAGCCTGGACAACCCTGACTACCAGCAGGACTTCTTTCCC\n",
      "AAGGAAGCCAAGCCAAATGGCATCTTTAAGGGCTCCACAGCTGAAAATGCAGAATACCTA\n",
      "AGGGTCGCGCCACAAAGCAGTGAATTTATTGGAGCATGACCACGGAGGATAGTATGAGCC\n",
      "CTAAAAATCCAGACTCTTTCGATACCCAGGACCAAGCCACAGCAGGTCCTCCATCCCAAC\n",
      "AGCCATGCCCGCATTAGCTCTTAGACCCACAGACTGGTTTTGCAACGTTTACACCGACTA\n",
      "GCCAGGAAGTACTTCCACCTCGGGCACATTTTGGGAAGTTGCATTCCTTTGTCTTCAAAC\n",
      "TGTGAAGCATTTACAGAAACGCATCCAGCAAGAATATTGTCCCTTTGAGCAGAAATTTAT\n",
      "CTTTCAAAGAGGTATATTTGAAAAAAAAAAAAAGTATATGTGAGGATTTTTATTGATTGG\n",
      "GGATCTTGGAGTTTTTCATTGTCGCTATTGATTTTTACTTCAATGGGCTCTTCCAACAAG\n",
      "GAAGAAGCTTGCTGGTAGCACTTGCTACCCTGAGTTCATCCAGGCCCAACTGTGAGCAAG\n",
      "GAGCACAAGCCACAAGTCTTCCAGAGGATGCTTGATTCCAGTGGTTCTGCTTCAAGGCTT\n",
      "CCACTGCAAAACACTAAAGATCCAAGAAGGCCTTCATGGCCCCAGCAGGCCGGATCGGTA\n",
      "CTGTATCAAGTCATGGCAGGTACAGTAGGATAAGCCACTCTGTCCCTTCCTGGGCAAAGA\n",
      "AGAAACGGAGGGGATGGAATTCTTCCTTAGACTTACTTTTGTAAAAATGTCCCCACGGTA\n",
      "CTTACTCCCCACTGATGGACCAGTGGTTTCCAGTCATGAGCGTTAGACTGACTTGTTTGT\n",
      "CTTCCATTCCATTGTTTTGAAACTCAGTATGCTGCCCCTGTCTTGCTGTCATGAAATCAG\n",
      "CAAGAGAGGATGACACATCAAATAATAACTCGGATTCCAGCCCACATTGGATTCATCAGC\n",
      "ATTTGGACCAATAGCCCACAGCTGAGAATGTGGAATACCTAAGGATAGCACCGCTTTTGT\n",
      "TCTCGCAAAAACGTATCTCCTAATTTGAGGCTCAGATGAAATGCATCAGGTCCTTTGGGG\n",
      "CATAGATCAGAAGACTACAAAAATGAAGCTGCTCTGAAATCTCCTTTAGCCATCACCCCA\n",
      "ACCCCCCAAAATTAGTTTGTGTTACTTATGGAAGATAGTTTTCTCCTTTTACTTCACTTC\n",
      "AAAAGCTTTTTACTCAAAGAGTATATGTTCCCTCCAGGTCAGCTGCCCCCAAACCCCCTC\n",
      "CTTACGCTTTGTCACACAAAAAGTGTCTCTGCCTTGAGTCATCTATTCAAGCACTTACAG\n",
      "CTCTGGCCACAACAGGGCATTTTACAGGTGCGAATGACAGTAGCATTATGAGTAGTGTGG\n",
      "AATTCAGGTAGTAAATATGAAACTAGGGTTTGAAATTGATAATGCTTTCACAACATTTGC\n",
      "AGATGTTTTAGAAGGAAAAAAGTTCCTTCCTAAAATAATTTCTCTACAATTGGAAGATTG\n",
      "GAAGATTCAGCTAGTTAGGAGCCCACCTTTTTTCCTAATCTGTGTGTGCCCTGTAACCTG\n",
      "ACTGGTTAACAGCAGTCCTTTGTAAACAGTGTTTTAAACTCTCCTAGTCAATATCCACCC\n",
      "CATCCAATTTATCAAGGAAGAAATGGTTCAGAAAATATTTTCAGCCTACAGTTATGTTCA\n",
      "GTCACACACACATACAAAATGTTCCTTTTGCTTTTAAAGTAATTTTTGACTCCCAGATCA\n",
      "GTCAGAGCCCCTACAGCATTGTTAAGAAAGTATTTGATTTTTGTCTCAATGAAAATAAAA\n",
      "CTATATTCATTTCCACTCTAAAAAAAAAAAAAAAAA\n",
      "\n"
     ]
    }
   ],
   "source": [
    "## View the record in fasta format\n",
    "print(egfr_rec.format(\"fasta\"))"
   ]
  },
  {
   "cell_type": "code",
   "execution_count": 26,
   "metadata": {},
   "outputs": [],
   "source": [
    "## Write the record in fasta format\n",
    "fh = open('egfr_mrna.fasta', 'w')\n",
    "SeqIO.write(egfr_rec, fh, \"fasta\")\n",
    "fh.close()"
   ]
  },
  {
   "cell_type": "code",
   "execution_count": 27,
   "metadata": {},
   "outputs": [
    {
     "name": "stdout",
     "output_type": "stream",
     "text": [
      "Help on function convert in module Bio.SeqIO:\n",
      "\n",
      "convert(in_file, in_format, out_file, out_format, molecule_type=None)\n",
      "    Convert between two sequence file formats, return number of records.\n",
      "    \n",
      "    Arguments:\n",
      "     - in_file - an input handle or filename\n",
      "     - in_format - input file format, lower case string\n",
      "     - out_file - an output handle or filename\n",
      "     - out_format - output file format, lower case string\n",
      "     - molecule_type - optional molecule type to apply, string containing\n",
      "       \"DNA\", \"RNA\" or \"protein\".\n",
      "    \n",
      "    **NOTE** - If you provide an output filename, it will be opened which will\n",
      "    overwrite any existing file without warning.\n",
      "    \n",
      "    The idea here is that while doing this will work::\n",
      "    \n",
      "        from Bio import SeqIO\n",
      "        records = SeqIO.parse(in_handle, in_format)\n",
      "        count = SeqIO.write(records, out_handle, out_format)\n",
      "    \n",
      "    it is shorter to write::\n",
      "    \n",
      "        from Bio import SeqIO\n",
      "        count = SeqIO.convert(in_handle, in_format, out_handle, out_format)\n",
      "    \n",
      "    Also, Bio.SeqIO.convert is faster for some conversions as it can make some\n",
      "    optimisations.\n",
      "    \n",
      "    For example, going from a filename to a handle:\n",
      "    \n",
      "    >>> from Bio import SeqIO\n",
      "    >>> from io import StringIO\n",
      "    >>> handle = StringIO(\"\")\n",
      "    >>> SeqIO.convert(\"Quality/example.fastq\", \"fastq\", handle, \"fasta\")\n",
      "    3\n",
      "    >>> print(handle.getvalue())\n",
      "    >EAS54_6_R1_2_1_413_324\n",
      "    CCCTTCTTGTCTTCAGCGTTTCTCC\n",
      "    >EAS54_6_R1_2_1_540_792\n",
      "    TTGGCAGGCCAAGGCCGATGGATCA\n",
      "    >EAS54_6_R1_2_1_443_348\n",
      "    GTTGCTTCTGGCGTGGGTGGGGGGG\n",
      "    <BLANKLINE>\n",
      "    \n",
      "    Note some formats like SeqXML require you to specify the molecule type\n",
      "    when it cannot be determined by the parser:\n",
      "    \n",
      "    >>> from Bio import SeqIO\n",
      "    >>> from io import BytesIO\n",
      "    >>> handle = BytesIO()\n",
      "    >>> SeqIO.convert(\"Quality/example.fastq\", \"fastq\", handle, \"seqxml\", \"DNA\")\n",
      "    3\n",
      "\n"
     ]
    }
   ],
   "source": [
    "## BioPython 1.52 introduced SeqIO.convert()\n",
    "help(SeqIO.convert)"
   ]
  },
  {
   "cell_type": "code",
   "execution_count": 28,
   "metadata": {},
   "outputs": [
    {
     "data": {
      "text/plain": [
       "1"
      ]
     },
     "execution_count": 28,
     "metadata": {},
     "output_type": "execute_result"
    }
   ],
   "source": [
    "## Convert the sequence from GenBank to fasta using SeqIO.convert()\n",
    "## Output file will be overwritten if it exists\n",
    "## Returns the number of records converted\n",
    "SeqIO.convert(\"./data/egfr.gb\", \"genbank\", \"egfr_mrna.fasta\", \"fasta\")"
   ]
  },
  {
   "cell_type": "markdown",
   "metadata": {},
   "source": [
    "## In-Class Exercises"
   ]
  },
  {
   "cell_type": "code",
   "execution_count": 29,
   "metadata": {},
   "outputs": [],
   "source": [
    "## Exercise 1.\n",
    "## Create a sequence record by reading from a GenBank file \n",
    "## (use './data/egfr.gb').\n",
    "## Create a new sequence object holding the translated protein sequence.\n",
    "## Write the protein sequence to a file in fasta format.\n",
    "##\n"
   ]
  },
  {
   "cell_type": "markdown",
   "metadata": {},
   "source": [
    "## References\n",
    "\n",
    "- Python for Bioinformatics, Sebastian Bassi, CRC Press (2010)\n",
    "- [http://biopython.org/DIST/docs/tutorial/Tutorial.html](http://biopython.org/DIST/docs/tutorial/Tutorial.html)\n",
    "- [http://biopython.org/DIST/docs/api/](http://biopython.org/DIST/docs/api/)\n",
    "- Peter Cock et al. Biopython: freely available Python tools for computational molecular biology and bioinformatics, <i>Bioinformatics</i> (2009)\n",
    "\n",
    "#### Last Updated: 15-Sep-2022"
   ]
  }
 ],
 "metadata": {
  "anaconda-cloud": {},
  "kernelspec": {
   "display_name": "Python 3 (ipykernel)",
   "language": "python",
   "name": "python3"
  },
  "language_info": {
   "codemirror_mode": {
    "name": "ipython",
    "version": 3
   },
   "file_extension": ".py",
   "mimetype": "text/x-python",
   "name": "python",
   "nbconvert_exporter": "python",
   "pygments_lexer": "ipython3",
   "version": "3.10.6"
  }
 },
 "nbformat": 4,
 "nbformat_minor": 1
}
