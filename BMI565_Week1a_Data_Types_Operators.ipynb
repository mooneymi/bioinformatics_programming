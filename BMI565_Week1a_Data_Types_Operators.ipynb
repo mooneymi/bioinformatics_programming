{
 "cells": [
  {
   "cell_type": "markdown",
   "metadata": {},
   "source": [
    "# BMI565: Bioinformatics Programming & Scripting\n",
    "\n",
    "#### (C) Michael Mooney (mooneymi@ohsu.edu)\n",
    "\n",
    "## Week 1: Documentation and Data Types\n",
    "\n",
    "1. Introduction and Why Python?\n",
    "2. Help, Documentation, Code Organization\n",
    "    - Help\n",
    "    - Comments and Docstrings\n",
    "3. None and Logical Values\n",
    "4. Numeric Data Types\n",
    "    - Numeric Operators\n",
    "5. Sequence Data Types\n",
    "    - Lists\n",
    "    - Tuples\n",
    "    - Sets\n",
    "    - Strings\n",
    "    - String Formatting\n",
    "6. Mapping Data Types\n",
    "    - Dictionaries\n",
    "7. A Quick Note on Python 2.7 vs. Python 3\n",
    "\n",
    "#### Requirements\n",
    "- Python 2.7 or 3.x\n",
    "- Miscellaneous Files\n",
    "    - `./images/sequencing_vs_compute.jpg`\n",
    "    - `./images/EBI.png`"
   ]
  },
  {
   "cell_type": "markdown",
   "metadata": {},
   "source": [
    "## References for Jupyter Notebooks"
   ]
  },
  {
   "cell_type": "markdown",
   "metadata": {},
   "source": [
    "[https://jupyter-notebook.readthedocs.io/en/latest/user-documentation.html](https://jupyter-notebook.readthedocs.io/en/latest/user-documentation.html)\n",
    "\n",
    "Notebook Extensions: [https://jupyter-contrib-nbextensions.readthedocs.io/en/latest/index.html](https://jupyter-contrib-nbextensions.readthedocs.io/en/latest/index.html)"
   ]
  },
  {
   "cell_type": "markdown",
   "metadata": {},
   "source": [
    "## Introduction and Why Python?"
   ]
  },
  {
   "cell_type": "markdown",
   "metadata": {},
   "source": [
    "- <b>Bioinformatics:</b> The application of computer science in the fields of biology and medicine\n",
    "- <b>Programming:</b> The process of designing, writing, testing, debugging, and maintaining a list of computer instructions\n",
    "- <b>Scripting:</b> Creating a list of computer instructions that call one or more stand-alone applications"
   ]
  },
  {
   "cell_type": "markdown",
   "metadata": {},
   "source": [
    "### Computational demands in molecular biology are increasing\n",
    "<img src=\"images/sequencing_vs_compute.jpg\" width=\"500\" height=\"500\" align=\"left\" />"
   ]
  },
  {
   "cell_type": "markdown",
   "metadata": {},
   "source": [
    "<img src=\"images/EBI.png\" width=\"500\" height=\"500\" align=\"left\" />"
   ]
  },
  {
   "cell_type": "markdown",
   "metadata": {},
   "source": [
    "### Compiled vs. Interpreted Languages\n",
    "\n",
    "<table align=\"left\">\n",
    "<tr><td style=\"text-align:center\"><b>Compiled Languages (e.g. C++)</b></td><td style=\"text-align:center\"><b>Interpreted Languages (e.g. Python)</b></td></tr>\n",
    "<tr><td style=\"text-align:center\">Code is converted from a high-level language<br /> and runs as machine code</td><td style=\"text-align:center\">Code runs on an interpreter and is converted <br />to machine code one instruction at a time</td></tr>\n",
    "<tr><td style=\"text-align:center\">Code is machine specific</td><td style=\"text-align:center\">Code is portable; can run on multiple platforms</td></tr>\n",
    "<tr><td style=\"text-align:center\">Tends to run faster</td><td style=\"text-align:center\">Smaller executable (program) size</td></tr>\n",
    "<tr><td style=\"text-align:center\">You can distribute standalone executables</td><td style=\"text-align:center\">An interpreter must be installed</td></tr>\n",
    "<tr><td style=\"text-align:center\">You need to recompile code after making changes</td><td style=\"text-align:center\">No need to recompile</td></tr>\n",
    "</table>"
   ]
  },
  {
   "cell_type": "markdown",
   "metadata": {},
   "source": [
    "### Python for Scientific Computing\n",
    "\n",
    "#### Some Python History\n",
    "- Created by Guido van Rossum (1989)\n",
    "- Originally created as a means to automate system admin tasks\n",
    "    - C programs took too long to write\n",
    "- van Rossum was a Monty Python fan!\n",
    "- Python became open source in 1991 (version .9)"
   ]
  },
  {
   "cell_type": "markdown",
   "metadata": {},
   "source": [
    "#### Scientific Computing\n",
    "\n",
    "There is a large community of Python developers creating tools for scientific applications. Here are a few:"
   ]
  },
  {
   "cell_type": "markdown",
   "metadata": {},
   "source": [
    "- Numpy and Scipy\n",
    "    * Tools for working with large data arrays, Optimization, Linear Algebra, etc.\n",
    "    * [http://www.scipy.org](http://www.scipy.org)\n",
    "- BioPython\n",
    "    * Bioinformatics and Computational Biology\n",
    "    * [http://biopython.org/wiki/Biopython](http://biopython.org/wiki/Biopython)\n",
    "- Matplotlib\n",
    "    * Data Presentation, Plotting\n",
    "    * [http://matplotlib.sourceforge.net/](http://matplotlib.sourceforge.net/)\n",
    "- Scikit-learn\n",
    "    * Statistics and Machine Learning\n",
    "    * [http://scikit-learn.org/stable/](http://scikit-learn.org/stable/)"
   ]
  },
  {
   "cell_type": "markdown",
   "metadata": {},
   "source": [
    "### Writing and Running a Python Program\n",
    "\n",
    "A Python program is simply a text file containing commands that can be interpreted by the Python interpreter. It is convention to use the `.py` file extension. A Python program can be created with any text editor, but integrated development environments (IDEs) can make coding easier. IDEs have features such as syntax coloring, automatic indentation, code completion, etc. that can save you time and reduce errors. IDLE is the \"official\" Python IDE that is packaged with Python installations. Eclipse, Spyder, PyCharm, and Xcode are other examples of IDEs.\n",
    "\n",
    "Below is an example of a very simple Python program, which simply prints the message \"Hello, world!\" to the screen. The first line is called a \"shebang\" or \"hashbang\", which tells the operating system the location of the Python interpreter. \n",
    "\n",
    "    #!/usr/bin/env python\n",
    "    \n",
    "    print(\"Hello, world!\")\n",
    "\n",
    "<u>Try it out</u>: Copy and paste the above two lines into a text file and save it as `hello_world.py`. Then run the program by opening a terminal, changing to the the file's location and typing the following at the command-line:\n",
    "\n",
    "    python hello_world.py\n",
    "\n",
    "Alternatively, you can call the program directly, without explicitly calling the Python interpreter (this requires that the shebang be present on the first line). First you will need to make the file executable (using the `chmod` command), then you can call the program directly:\n",
    "\n",
    "    chmod 755 hello_world.py\n",
    "    ./hello_world.py"
   ]
  },
  {
   "cell_type": "markdown",
   "metadata": {},
   "source": [
    "### Running a Python Program from a Notebook\n",
    "\n",
    "Jupyter \"magics\" provide additional functionality to the notebooks (more info at the link below). One such magic is the `%run` magic, which allows you to execute a script as if it were run on the command-line. Another option is to use the special command `!`, which gives you access to the underlying shell. With `!` you can run any shell command, not just a python script (see examples below). It's important to note that neither of these options are valid Python syntax, so they will produce errors if run in a standard Python script or interactive session.\n",
    "\n",
    "*Results may vary on Windows machines.\n",
    "\n",
    "[https://ipython.readthedocs.io/en/stable/interactive/magics.html](https://ipython.readthedocs.io/en/stable/interactive/magics.html)"
   ]
  },
  {
   "cell_type": "code",
   "execution_count": 1,
   "metadata": {},
   "outputs": [
    {
     "name": "stdout",
     "output_type": "stream",
     "text": [
      "Hello, world!\n"
     ]
    }
   ],
   "source": [
    "%run hello_world.py"
   ]
  },
  {
   "cell_type": "code",
   "execution_count": 2,
   "metadata": {},
   "outputs": [
    {
     "name": "stdout",
     "output_type": "stream",
     "text": [
      "Hello, world!\r\n"
     ]
    }
   ],
   "source": [
    "!python hello_world.py"
   ]
  },
  {
   "cell_type": "code",
   "execution_count": 3,
   "metadata": {},
   "outputs": [
    {
     "name": "stdout",
     "output_type": "stream",
     "text": [
      "/Users/mooneymi/Documents/github/bioinformatics_programming\r\n"
     ]
    }
   ],
   "source": [
    "!pwd"
   ]
  },
  {
   "cell_type": "markdown",
   "metadata": {},
   "source": [
    "## Python Coding Conventions\n",
    "\n",
    "[https://www.python.org/dev/peps/pep-0008/](https://www.python.org/dev/peps/pep-0008/)\n",
    "\n",
    "Python's Style Guide is great resource to help you improve the consistency and readability of your code. However, there is no single set of rules accepted by the entire coding community. Often there are project-specific style guides for large development projects. For instance, Google and Numpy have their own style guides."
   ]
  },
  {
   "cell_type": "markdown",
   "metadata": {},
   "source": [
    "## Python Help and Code Documentation"
   ]
  },
  {
   "cell_type": "markdown",
   "metadata": {},
   "source": [
    "Python's `help()` function can provide documentation about functions, modules, methods, etc. \n",
    "\n",
    "<a href=\"https://docs.python.org/2/\">Python's Online Documentation</a> is a great resource. \n",
    "\n",
    "And, of course, Google will provide plenty of information, examples, etc."
   ]
  },
  {
   "cell_type": "code",
   "execution_count": 4,
   "metadata": {},
   "outputs": [
    {
     "name": "stdout",
     "output_type": "stream",
     "text": [
      "Help on built-in function len in module builtins:\n",
      "\n",
      "len(obj, /)\n",
      "    Return the number of items in a container.\n",
      "\n"
     ]
    }
   ],
   "source": [
    "## For help on any function simply call help() with the function name \n",
    "## as the parameter. For example, what does the len() function do?\n",
    "help(len)"
   ]
  },
  {
   "cell_type": "code",
   "execution_count": 5,
   "metadata": {},
   "outputs": [
    {
     "name": "stdout",
     "output_type": "stream",
     "text": [
      "Hello\n"
     ]
    }
   ],
   "source": [
    "print(\"Hello\")"
   ]
  },
  {
   "cell_type": "markdown",
   "metadata": {},
   "source": [
    "### Comments:  Please use them!"
   ]
  },
  {
   "cell_type": "markdown",
   "metadata": {},
   "source": [
    "Any text following a # is ignored by the python interpreter. Surrounding text with \"\"\" can be used to create multi-line comments.\n",
    "\n",
    "Comments can be purely descriptive (e.g. used to explain how code works), but can also serve a purpose when testing or debugging code. For instance, commenting out sections of your code can help you narrow down where an error is occuring.\n",
    "\n",
    "It is a good idea to write descriptive comments as you code, rather than going back after code is already written. Please use comments thoroughly so it is easy for others to interpret your code. \n",
    "\n",
    "All code submitted for homework assignments should include a block of comments at the top of the file that includes the following information:\n",
    "\n",
    "    \"\"\"\n",
    "    Your Name\n",
    "    Assignment Number\n",
    "    Date Submitted/Written\n",
    "    A short description of what the code does\n",
    "    \n",
    "    Usage:\n",
    "    An example of how the script should be run (e.g. python myscript.py input_data.txt)\n",
    "    \"\"\""
   ]
  },
  {
   "cell_type": "code",
   "execution_count": 6,
   "metadata": {},
   "outputs": [
    {
     "name": "stdout",
     "output_type": "stream",
     "text": [
      "Hello\n"
     ]
    }
   ],
   "source": [
    "print(\"Hello\")\n",
    "#print(\"Good-bye\")"
   ]
  },
  {
   "cell_type": "markdown",
   "metadata": {},
   "source": [
    "### Docstrings"
   ]
  },
  {
   "cell_type": "markdown",
   "metadata": {},
   "source": [
    "Docstrings are a good way to document your code. A docstring is a string literal that occurs as the first statement in a module, function, class or method definition. The info in a docstring will be shown when `help()` is called on the function, module, etc."
   ]
  },
  {
   "cell_type": "code",
   "execution_count": 7,
   "metadata": {},
   "outputs": [],
   "source": [
    "def hello_world(n=1):\n",
    "    \"\"\"\n",
    "    This function prints the message \"Hello, world!\" a specified number of times.\n",
    "    \"\"\"\n",
    "    for i in range(n):\n",
    "        print(\"Hello, world!\")\n"
   ]
  },
  {
   "cell_type": "code",
   "execution_count": 8,
   "metadata": {},
   "outputs": [
    {
     "name": "stdout",
     "output_type": "stream",
     "text": [
      "Hello, world!\n",
      "Hello, world!\n",
      "Hello, world!\n"
     ]
    }
   ],
   "source": [
    "hello_world(3)"
   ]
  },
  {
   "cell_type": "code",
   "execution_count": 9,
   "metadata": {},
   "outputs": [
    {
     "name": "stdout",
     "output_type": "stream",
     "text": [
      "Help on function hello_world in module __main__:\n",
      "\n",
      "hello_world(n=1)\n",
      "    This function prints the message \"Hello, world!\" a specified number of times.\n",
      "\n"
     ]
    }
   ],
   "source": [
    "help(hello_world)"
   ]
  },
  {
   "cell_type": "markdown",
   "metadata": {},
   "source": [
    "There are a number of very useful style guides for creating docstrings. Automated documentation programs, such as [Sphinx](http://sphinx-doc.org/), can parse docstrings that follow these guidelines, and allow you to quickly create web documentation of your programs. I highly recommend you get used to writing thorough docstrings in a standard format, so that your code is well documented.\n",
    "\n",
    "[Google Style Guide](http://sphinxcontrib-napoleon.readthedocs.org/en/latest/example_google.html#example-google)\n",
    "\n",
    "[Numpy Style Guide](http://sphinxcontrib-napoleon.readthedocs.org/en/latest/example_numpy.html#example-numpy)\n",
    "\n",
    "A quick example of a Google-style docstring for a function:\n",
    "\n",
    "    def hello_world(n=1):\n",
    "        \"\"\"\n",
    "        This function prints the message \"Hello, world!\" a specified number of times.\n",
    "        \n",
    "        Args:\n",
    "            n (int): The number of times to print the message.\n",
    "            \n",
    "        Returns:\n",
    "            None\n",
    "        \n",
    "        \"\"\"\n"
   ]
  },
  {
   "cell_type": "markdown",
   "metadata": {},
   "source": [
    "## Python Data Types\n",
    "\n",
    "## None and Logical Values"
   ]
  },
  {
   "cell_type": "markdown",
   "metadata": {},
   "source": [
    "`None` is the Python NULL value. NONE or none will not be interpreted as the `None` value.\n",
    "\n",
    "`None` is the default return value for Python functions (e.g. when no return value is specified)."
   ]
  },
  {
   "cell_type": "code",
   "execution_count": 10,
   "metadata": {},
   "outputs": [
    {
     "name": "stdout",
     "output_type": "stream",
     "text": [
      "Hello, world!\n"
     ]
    }
   ],
   "source": [
    "x = hello_world()"
   ]
  },
  {
   "cell_type": "code",
   "execution_count": 11,
   "metadata": {},
   "outputs": [
    {
     "name": "stdout",
     "output_type": "stream",
     "text": [
      "x == None\n",
      "x is None\n"
     ]
    }
   ],
   "source": [
    "if x == None:\n",
    "    ## This usually works\n",
    "    print(\"x == None\")\n",
    "if x is None:\n",
    "    ## But this is the prefered way to compare to None\n",
    "    print(\"x is None\")\n"
   ]
  },
  {
   "cell_type": "markdown",
   "metadata": {},
   "source": [
    "Logical values are specified with `True` or `False`. Again, these values must be specified exactly as `True` or `False` (e.g. not TRUE or true)."
   ]
  },
  {
   "cell_type": "code",
   "execution_count": 12,
   "metadata": {},
   "outputs": [
    {
     "name": "stdout",
     "output_type": "stream",
     "text": [
      "True\n"
     ]
    }
   ],
   "source": [
    "x = True\n",
    "if x:\n",
    "    print(\"True\")\n",
    "\n",
    "if not x:\n",
    "    print(\"False\")"
   ]
  },
  {
   "cell_type": "markdown",
   "metadata": {},
   "source": [
    "### Logical Operators\n",
    "\n",
    "<table align=\"left\">\n",
    "<tr><td style=\"text-align:center\"><b>Operation</b></td><td><b>Description</b></td></tr>\n",
    "<tr><td style=\"text-align:center\"><code>x and y</code></td><td><code>True</code>if both<code>x</code>and<code>y</code>are<code>True</code></td></tr>\n",
    "<tr><td style=\"text-align:center\"><code>x or y</code></td><td><code>True</code>if<code>x</code>or<code>y</code>is<code>True</code></td></tr>\n",
    "<tr><td style=\"text-align:center\"><code>not x</code></td><td><code>True</code>if<code>x</code>is<code>False</code></td></tr>\n",
    "<tr><td style=\"text-align:center\"><code>all(s)</code></td><td><code>True</code>only if all elements of<code>s</code>are<code>True</code></td></tr>\n",
    "<tr><td style=\"text-align:center\"><code>any(s)</code></td><td><code>True</code>if any elements of<code>s</code>are<code>True</code></td></tr>\n",
    "</table>"
   ]
  },
  {
   "cell_type": "code",
   "execution_count": 13,
   "metadata": {},
   "outputs": [
    {
     "data": {
      "text/plain": [
       "True"
      ]
     },
     "execution_count": 13,
     "metadata": {},
     "output_type": "execute_result"
    }
   ],
   "source": [
    "(True and False) or (True and not False)"
   ]
  },
  {
   "cell_type": "code",
   "execution_count": 14,
   "metadata": {},
   "outputs": [
    {
     "data": {
      "text/plain": [
       "False"
      ]
     },
     "execution_count": 14,
     "metadata": {},
     "output_type": "execute_result"
    }
   ],
   "source": [
    "## The all() function returns True if all elements are True\n",
    "all([True, True, False])"
   ]
  },
  {
   "cell_type": "code",
   "execution_count": 15,
   "metadata": {},
   "outputs": [
    {
     "data": {
      "text/plain": [
       "True"
      ]
     },
     "execution_count": 15,
     "metadata": {},
     "output_type": "execute_result"
    }
   ],
   "source": [
    "## The any() function returns True if any elements are True\n",
    "any([False, False, True])"
   ]
  },
  {
   "cell_type": "markdown",
   "metadata": {},
   "source": [
    "## Numeric Data Types"
   ]
  },
  {
   "cell_type": "markdown",
   "metadata": {},
   "source": [
    "- `int` - Integer<br />\n",
    "- `float` - Floating point<br />\n",
    "- `complex` - Complex numbers: these have `.real` and `.imag` components (each are floating point numbers)"
   ]
  },
  {
   "cell_type": "markdown",
   "metadata": {},
   "source": [
    "### Numeric Operators"
   ]
  },
  {
   "cell_type": "markdown",
   "metadata": {},
   "source": [
    "<table align=\"left\">\n",
    "<tr><td style=\"text-align:center\"><b>Operator</b></td><td style=\"text-align:center\"><b>Example</b></td><td><b>Description</b></td></tr>\n",
    "<tr><td style=\"text-align:center\"><code>*</code></td><td style=\"text-align:center\"><code>x * y</code></td><td>Multiplication of<code>x</code>and<code>y</code></td></tr>\n",
    "<tr><td style=\"text-align:center\"><code>/</code></td><td style=\"text-align:center\"><code>x / y</code></td><td>Quotient of<code>x</code>and<code>y</code></td></tr>\n",
    "<tr><td style=\"text-align:center\"><code>//</code></td><td style=\"text-align:center\"><code>x // y</code></td><td>Floored quotient of<code>x</code>and<code>y</code></td></tr>\n",
    "<tr><td style=\"text-align:center\"><code>%</code></td><td style=\"text-align:center\"><code>x % y</code></td><td>Remainder of<code>x / y</code></td></tr>\n",
    "<tr><td style=\"text-align:center\"><code>**</code></td><td style=\"text-align:center\"><code>x ** y</code></td><td><code>x</code>to the power<code>y</code></td></tr>\n",
    "<tr><td style=\"text-align:center\"><code>+</code></td><td style=\"text-align:center\"><code>x + y</code></td><td>Addition of<code>x</code>and<code>y</code></td></tr>\n",
    "<tr><td style=\"text-align:center\"><code>-</code></td><td style=\"text-align:center\"><code>x - y</code></td><td>Difference of<code>x</code>and<code>y</code></td></tr>\n",
    "<tr><td style=\"text-align:center\"><code>-</code></td><td style=\"text-align:center\"><code>-x</code></td><td>Negation of<code>x</code></td></tr>\n",
    "</table>"
   ]
  },
  {
   "cell_type": "markdown",
   "metadata": {},
   "source": [
    "### Other Numeric Operations\n",
    "<table align=\"left\">\n",
    "<tr><td style=\"text-align:center\"><b>Operation</b></td><td><b>Description</b></td></tr>\n",
    "<tr><td style=\"text-align:center\"><code>abs(x)</code></td><td>Absolute value of<code>x</code></td></tr>\n",
    "<tr><td style=\"text-align:center\"><code>pow(x, y)</code></td><td><code>x</code>to the power<code>y</code></td></tr>\n",
    "<tr><td style=\"text-align:center\"><code>divmod(x)</code></td><td>The pair<code>(x / y, x % y)</code></td></tr>\n",
    "<tr><td style=\"text-align:center\"><code>int(x)</code></td><td><code>x</code>converted to integer</td></tr>\n",
    "<tr><td style=\"text-align:center\"><code>float(x)</code></td><td><code>x</code>converted to float</td></tr>\n",
    "<tr><td style=\"text-align:center\"><code>complex(re,im)</code></td><td>A complex number with real part<code>re</code>and imaginary part<code>im</code>(defaults to 0)</td></tr>\n",
    "<tr><td style=\"text-align:center\"><code>c.conjugate(c)</code></td><td>The conjugate of the complex number<code>c</code></td></tr>\n",
    "</table>"
   ]
  },
  {
   "cell_type": "code",
   "execution_count": 16,
   "metadata": {},
   "outputs": [
    {
     "data": {
      "text/plain": [
       "0.8333333333333334"
      ]
     },
     "execution_count": 16,
     "metadata": {},
     "output_type": "execute_result"
    }
   ],
   "source": [
    "## Division (see section below about differences \n",
    "## between Python 2.7 and Python 3)\n",
    "5/6"
   ]
  },
  {
   "cell_type": "code",
   "execution_count": 17,
   "metadata": {},
   "outputs": [
    {
     "data": {
      "text/plain": [
       "0.8333333333333334"
      ]
     },
     "execution_count": 17,
     "metadata": {},
     "output_type": "execute_result"
    }
   ],
   "source": [
    "## For Python 2.7, convert one of the operands \n",
    "## to a float for floating point division\n",
    "float(5)/6"
   ]
  },
  {
   "cell_type": "code",
   "execution_count": 18,
   "metadata": {},
   "outputs": [
    {
     "data": {
      "text/plain": [
       "0.8333333333333334"
      ]
     },
     "execution_count": 18,
     "metadata": {},
     "output_type": "execute_result"
    }
   ],
   "source": [
    "5.0/6"
   ]
  },
  {
   "cell_type": "markdown",
   "metadata": {},
   "source": [
    "### Operator Precedence\n",
    "\n",
    "1. `()`\n",
    "2. `**`\n",
    "3. `+/-` (negation)\n",
    "4. `*,/,//,%`\n",
    "5. `+,- ` (addition and subtraction)\n",
    "6. `not`\n",
    "7. `and`\n",
    "8. `or`"
   ]
  },
  {
   "cell_type": "markdown",
   "metadata": {},
   "source": [
    "### Comparison Operators\n",
    "<table align=\"left\">\n",
    "<tr><td style=\"text-align:center\"><b>Operator</b></td><td style=\"text-align:center\"><b>Example</b></td><td><b>Description</b></td></tr>\n",
    "<tr><td style=\"text-align:center\"><code><</code></td><td style=\"text-align:center\"><code>x < y</code></td><td><code>x</code>less than<code>y</code></td></tr>\n",
    "<tr><td style=\"text-align:center\"><code>><code></td><td style=\"text-align:center\"><code>x > y</code></td><td><code>x</code>greater than<code>y</code></td></tr>\n",
    "<tr><td style=\"text-align:center\"><code>==</code></td><td style=\"text-align:center\"><code>x == y</code></td><td><code>x</code>equals<code>y</code></td></tr>\n",
    "<tr><td style=\"text-align:center\"><code><=</code></td><td style=\"text-align:center\"><code>x <= y</code></td><td><code>x</code>less than or equal to<code>y</code></td></tr>\n",
    "<tr><td style=\"text-align:center\"><code>>=</code></td><td style=\"text-align:center\"><code>x >= y</code></td><td><code>x</code>greater than or equal to<code>y</code></td></tr>\n",
    "<tr><td style=\"text-align:center\"><code>!=</code></td><td style=\"text-align:center\"><code>x != y</code></td><td><code>x</code>not equal to<code>y</code></td></tr>\n",
    "</table>"
   ]
  },
  {
   "cell_type": "markdown",
   "metadata": {},
   "source": [
    "## Sequence Data Types"
   ]
  },
  {
   "cell_type": "markdown",
   "metadata": {},
   "source": [
    "### Lists"
   ]
  },
  {
   "cell_type": "markdown",
   "metadata": {},
   "source": [
    "Lists are ordered collections of data. Python lists are mutable data types, which means the individual elements of a list can be modified.\n",
    "\n",
    "#### List methods\n",
    "<table align=\"left\">\n",
    "<tr><td style=\"text-align:center\"><b>Method</b></td><td><b>Description</b></td></tr>\n",
    "    <tr><td style=\"text-align:center\"><code>l.append(x)</code></td><td>Appends <code>x</code> to the end of the list <code>l</code></td></tr>\n",
    "<tr><td style=\"text-align:center\"><code>l.extend(y)</code></td><td>Appends each element of the list <code>y</code> to the end of <code>l</code>.</td></tr>\n",
    "<tr><td style=\"text-align:center\"><code>l.insert(i, x)</code></td><td>Inserts <code>x</code> at index <code>i</code></td></tr>\n",
    "<tr><td style=\"text-align:center\"><code>l.sort()</code></td><td>Sorts the list <code>l</code></td></tr>\n",
    "<tr><td style=\"text-align:center\"><code>l.pop([i])</code></td><td>Removes the element at position <code>i</code> and returns it. If <code>i</code> is not given, the last element will be removed.</td></tr>\n",
    "<tr><td style=\"text-align:center\"><code>l.reverse()</code></td><td>Reverses the list <code>l</code></td></tr>\n",
    "<tr><td style=\"text-align:center\"><code>l.index(x)</code></td><td>Returns the index of <code>x</code></td></tr>\n",
    "<tr><td style=\"text-align:center\"><code>l.remove(x)</code></td><td>Removes the first instance of <code>x</code> in the list</td></tr>\n",
    "</table>"
   ]
  },
  {
   "cell_type": "markdown",
   "metadata": {},
   "source": [
    "\\*\\* Note: Methods such as `list.append()`, `list.extend()`, etc. perform in-place operations, and do not return the updated list. They return `None`. So be careful about assigning the results of these methods to a variable and expecting a list.\n",
    "\n",
    "see [https://docs.python.org/2/tutorial/datastructures.html](https://docs.python.org/2/tutorial/datastructures.html) for more details"
   ]
  },
  {
   "cell_type": "code",
   "execution_count": 19,
   "metadata": {},
   "outputs": [
    {
     "name": "stdout",
     "output_type": "stream",
     "text": [
      "Help on method_descriptor:\n",
      "\n",
      "index(self, value, start=0, stop=9223372036854775807, /)\n",
      "    Return first index of value.\n",
      "    \n",
      "    Raises ValueError if the value is not present.\n",
      "\n"
     ]
    }
   ],
   "source": [
    "help(list.index)"
   ]
  },
  {
   "cell_type": "code",
   "execution_count": 20,
   "metadata": {},
   "outputs": [
    {
     "name": "stdout",
     "output_type": "stream",
     "text": [
      "Help on method_descriptor:\n",
      "\n",
      "sort(self, /, *, key=None, reverse=False)\n",
      "    Sort the list in ascending order and return None.\n",
      "    \n",
      "    The sort is in-place (i.e. the list itself is modified) and stable (i.e. the\n",
      "    order of two equal elements is maintained).\n",
      "    \n",
      "    If a key function is given, apply it once to each list item and sort them,\n",
      "    ascending or descending, according to their function values.\n",
      "    \n",
      "    The reverse flag can be set to sort in descending order.\n",
      "\n"
     ]
    }
   ],
   "source": [
    "help(list.sort)"
   ]
  },
  {
   "cell_type": "code",
   "execution_count": 21,
   "metadata": {},
   "outputs": [
    {
     "data": {
      "text/plain": [
       "[1, 2, 3.5, 'A', 'B', 'C']"
      ]
     },
     "execution_count": 21,
     "metadata": {},
     "output_type": "execute_result"
    }
   ],
   "source": [
    "## Lists can contain multiple different data types\n",
    "list1 = [1,2,3.5,'A','B','C']\n",
    "list1"
   ]
  },
  {
   "cell_type": "code",
   "execution_count": 22,
   "metadata": {},
   "outputs": [
    {
     "name": "stdout",
     "output_type": "stream",
     "text": [
      "x is None\n"
     ]
    }
   ],
   "source": [
    "x = list1.append('D')\n",
    "if x is None:\n",
    "    print(\"x is None\")"
   ]
  },
  {
   "cell_type": "code",
   "execution_count": 23,
   "metadata": {},
   "outputs": [
    {
     "data": {
      "text/plain": [
       "[1, 2, 3.5, 'A', 'B', 'C', 'D']"
      ]
     },
     "execution_count": 23,
     "metadata": {},
     "output_type": "execute_result"
    }
   ],
   "source": [
    "list1"
   ]
  },
  {
   "cell_type": "code",
   "execution_count": 24,
   "metadata": {},
   "outputs": [
    {
     "data": {
      "text/plain": [
       "7"
      ]
     },
     "execution_count": 24,
     "metadata": {},
     "output_type": "execute_result"
    }
   ],
   "source": [
    "## Use the len() function to get the length of any \n",
    "## sequence variable (list, string, tuple, etc.)\n",
    "len(list1)"
   ]
  },
  {
   "cell_type": "code",
   "execution_count": 25,
   "metadata": {},
   "outputs": [
    {
     "data": {
      "text/plain": [
       "1"
      ]
     },
     "execution_count": 25,
     "metadata": {},
     "output_type": "execute_result"
    }
   ],
   "source": [
    "## You can access list elements with an index (starting with 0)\n",
    "list1[0]"
   ]
  },
  {
   "cell_type": "code",
   "execution_count": 26,
   "metadata": {},
   "outputs": [
    {
     "data": {
      "text/plain": [
       "[1, 2, 3.5]"
      ]
     },
     "execution_count": 26,
     "metadata": {},
     "output_type": "execute_result"
    }
   ],
   "source": [
    "## You can access a subset of a list using slice notation\n",
    "## The first index is inclusive, and the second is exclusive, \n",
    "## so [0:3] will give you the first, second and third elements\n",
    "list1[0:3]"
   ]
  },
  {
   "cell_type": "code",
   "execution_count": 27,
   "metadata": {},
   "outputs": [
    {
     "data": {
      "text/plain": [
       "[1, 3.5, 'B']"
      ]
     },
     "execution_count": 27,
     "metadata": {},
     "output_type": "execute_result"
    }
   ],
   "source": [
    "## You can also specify a 'step' to get, for instance,\n",
    "## every second element in the list. [0:-1:2] will give you\n",
    "## the first, third, fifth, etc. element excluding the last \n",
    "## element of the list [-1].\n",
    "list1[0:5:2]"
   ]
  },
  {
   "cell_type": "code",
   "execution_count": 28,
   "metadata": {},
   "outputs": [
    {
     "data": {
      "text/plain": [
       "[1, 2, 3.5, 'A', 'B', 'C', 'D']"
      ]
     },
     "execution_count": 28,
     "metadata": {},
     "output_type": "execute_result"
    }
   ],
   "source": [
    "list1"
   ]
  },
  {
   "cell_type": "code",
   "execution_count": 29,
   "metadata": {},
   "outputs": [
    {
     "data": {
      "text/plain": [
       "'D'"
      ]
     },
     "execution_count": 29,
     "metadata": {},
     "output_type": "execute_result"
    }
   ],
   "source": [
    "## A negative index starts from the end of the list \n",
    "## (-1 being the last element)\n",
    "list1[-1]"
   ]
  },
  {
   "cell_type": "code",
   "execution_count": 30,
   "metadata": {},
   "outputs": [
    {
     "data": {
      "text/plain": [
       "[1, 2, 3.5, 'A', 'B', 'C', 'D']"
      ]
     },
     "execution_count": 30,
     "metadata": {},
     "output_type": "execute_result"
    }
   ],
   "source": [
    "## To specify the entire list don't enter start or end indices\n",
    "list1[:]"
   ]
  },
  {
   "cell_type": "markdown",
   "metadata": {},
   "source": [
    "### Copying Lists\n",
    "\n",
    "When you assign a list variable to another variable, you are simply creating a reference to the first list. This means that if the values of the first list are changed, so are the values of the second list. To create a new list that is a copy of another list, you should use the `list()` function or slice notation (see below). The `copy.deepcopy()` method can be used to copy lists of objects."
   ]
  },
  {
   "cell_type": "code",
   "execution_count": 31,
   "metadata": {},
   "outputs": [
    {
     "data": {
      "text/plain": [
       "[1, 2, 3, 4]"
      ]
     },
     "execution_count": 31,
     "metadata": {},
     "output_type": "execute_result"
    }
   ],
   "source": [
    "## Create a new list\n",
    "A = [1,2,3,4]\n",
    "## Assign list A to a new variable name\n",
    "B = A\n",
    "B"
   ]
  },
  {
   "cell_type": "code",
   "execution_count": 32,
   "metadata": {},
   "outputs": [
    {
     "data": {
      "text/plain": [
       "[1, 2, 3, 4]"
      ]
     },
     "execution_count": 32,
     "metadata": {},
     "output_type": "execute_result"
    }
   ],
   "source": [
    "## Create a copy of list A\n",
    "C = list(A)\n",
    "C"
   ]
  },
  {
   "cell_type": "code",
   "execution_count": 33,
   "metadata": {},
   "outputs": [
    {
     "data": {
      "text/plain": [
       "[1, 2, 3, 4]"
      ]
     },
     "execution_count": 33,
     "metadata": {},
     "output_type": "execute_result"
    }
   ],
   "source": [
    "## Another way to create a copy of list A\n",
    "D = A[:]\n",
    "D"
   ]
  },
  {
   "cell_type": "code",
   "execution_count": 34,
   "metadata": {},
   "outputs": [
    {
     "data": {
      "text/plain": [
       "[1, 2, 16, 4]"
      ]
     },
     "execution_count": 34,
     "metadata": {},
     "output_type": "execute_result"
    }
   ],
   "source": [
    "## Change the value of the third element in list A\n",
    "A[2] = 16\n",
    "A"
   ]
  },
  {
   "cell_type": "code",
   "execution_count": 35,
   "metadata": {},
   "outputs": [
    {
     "data": {
      "text/plain": [
       "[1, 2, 16, 4]"
      ]
     },
     "execution_count": 35,
     "metadata": {},
     "output_type": "execute_result"
    }
   ],
   "source": [
    "## The value of list B changes also! List B is simply a reference \n",
    "## to list A (a new name for the same entity).\n",
    "B"
   ]
  },
  {
   "cell_type": "code",
   "execution_count": 36,
   "metadata": {},
   "outputs": [
    {
     "data": {
      "text/plain": [
       "[1, 2, 3, 4]"
      ]
     },
     "execution_count": 36,
     "metadata": {},
     "output_type": "execute_result"
    }
   ],
   "source": [
    "## List C is a new list (a copy of A) and its values did not change\n",
    "C"
   ]
  },
  {
   "cell_type": "code",
   "execution_count": 37,
   "metadata": {},
   "outputs": [
    {
     "data": {
      "text/plain": [
       "[1, 2, 3, 4]"
      ]
     },
     "execution_count": 37,
     "metadata": {},
     "output_type": "execute_result"
    }
   ],
   "source": [
    "## Same for list D\n",
    "D"
   ]
  },
  {
   "cell_type": "code",
   "execution_count": 38,
   "metadata": {},
   "outputs": [
    {
     "data": {
      "text/plain": [
       "[[1, 2, 16, 4], [1, 2, 3, 4]]"
      ]
     },
     "execution_count": 38,
     "metadata": {},
     "output_type": "execute_result"
    }
   ],
   "source": [
    "## Make a list of lists\n",
    "E = [A, C]\n",
    "E"
   ]
  },
  {
   "cell_type": "code",
   "execution_count": 39,
   "metadata": {},
   "outputs": [
    {
     "data": {
      "text/plain": [
       "16"
      ]
     },
     "execution_count": 39,
     "metadata": {},
     "output_type": "execute_result"
    }
   ],
   "source": [
    "## Use multiple indices to indicate, for example, the first element \n",
    "## of the first list\n",
    "E[0][2]"
   ]
  },
  {
   "cell_type": "code",
   "execution_count": 40,
   "metadata": {},
   "outputs": [],
   "source": [
    "## When using list() to create a copy of a list that contains objects \n",
    "## a new list will be created, but the elements of the list will\n",
    "## still be references to the original objects\n",
    "F = list(E)"
   ]
  },
  {
   "cell_type": "code",
   "execution_count": 41,
   "metadata": {},
   "outputs": [
    {
     "data": {
      "text/plain": [
       "[[1, 2, 16, 4], [1, 2, 3, 4]]"
      ]
     },
     "execution_count": 41,
     "metadata": {},
     "output_type": "execute_result"
    }
   ],
   "source": [
    "## Using the deepcopy() method will create a copy of a list and any \n",
    "## objects (e.g. other lists) that are elements of that list\n",
    "import copy\n",
    "G = copy.deepcopy(E)\n",
    "G"
   ]
  },
  {
   "cell_type": "code",
   "execution_count": 42,
   "metadata": {},
   "outputs": [
    {
     "data": {
      "text/plain": [
       "[1, 2, 3, 20]"
      ]
     },
     "execution_count": 42,
     "metadata": {},
     "output_type": "execute_result"
    }
   ],
   "source": [
    "## Change the last element of list C\n",
    "C[-1] = 20\n",
    "C"
   ]
  },
  {
   "cell_type": "code",
   "execution_count": 43,
   "metadata": {},
   "outputs": [
    {
     "data": {
      "text/plain": [
       "[[1, 2, 16, 4], [1, 2, 3, 20]]"
      ]
     },
     "execution_count": 43,
     "metadata": {},
     "output_type": "execute_result"
    }
   ],
   "source": [
    "## The value of F changes (the second list is still a reference to C)\n",
    "F"
   ]
  },
  {
   "cell_type": "code",
   "execution_count": 44,
   "metadata": {},
   "outputs": [
    {
     "data": {
      "text/plain": [
       "[[1, 2, 16, 4], [1, 2, 3, 4]]"
      ]
     },
     "execution_count": 44,
     "metadata": {},
     "output_type": "execute_result"
    }
   ],
   "source": [
    "## But the value of G does not change, since all elements were \n",
    "## copied using the deepcopy() method\n",
    "G"
   ]
  },
  {
   "cell_type": "markdown",
   "metadata": {},
   "source": [
    "### Sets"
   ]
  },
  {
   "cell_type": "markdown",
   "metadata": {},
   "source": [
    "Sets are unordered collections of unique (non-duplicate) items. Sets are mutable, and are very useful for comparing collections of items.\n",
    "\n",
    "#### Set Methods\n",
    "\n",
    "<table align=\"left\">\n",
    "<tr><td style=\"text-align:center\"><b>Method</b></td><td style=\"text-align:center\"><b>Equivalent To</b></td><td><b>Description</b></td></tr>\n",
    "<tr><td style=\"text-align:center\"><code>s.union(x)</code></td><td style=\"text-align:center\"><code>s | x</code></td><td>Returns a new set containing the elements of<code>s</code>and the elements of<code>x</code></td></tr>\n",
    "<tr><td style=\"text-align:center\"><code>s.intersection(x)</code></td><td style=\"text-align:center\"><code>s & x</code></td><td>Returns a new set containing only the elements in both<code>s</code>and<code>x</code></td></tr>\n",
    "<tr><td style=\"text-align:center\"><code>s.difference(x)</code></td><td style=\"text-align:center\"><code>s - x</code></td><td>Returns a new set containing elements in<code>s</code>but not in<code>x</code></td></tr>\n",
    "<tr><td style=\"text-align:center\"><code>s.symmetric_difference(x)</code></td><td style=\"text-align:center\"><code>s ^ x</code></td><td>Returns a set containing elements in either<code>s</code>or<code>x</code>, but not both</td></tr>\n",
    "<tr><td style=\"text-align:center\"><code>s.issubset(x)</code></td><td style=\"text-align:center\"><code>s <= x</code></td><td>Returns<code>True</code>if<code>x</code>contains all elements of<code>s</code></td></tr>\n",
    "<tr><td style=\"text-align:center\"><code>s.issuperset(x)</code></td><td style=\"text-align:center\"><code>s >= x</code></td><td>Returns<code>True</code>if<code>s</code>contains all elements of<code>x</code></td></tr>\n",
    "</table>"
   ]
  },
  {
   "cell_type": "markdown",
   "metadata": {},
   "source": [
    "#### Other Set Operations\n",
    "<table align=\"left\">\n",
    "<tr><td style=\"text-align:center\"><b>Operation</b></td><td><b>Description</b></td></tr>\n",
    "<tr><td style=\"text-align:center\"><code>s.add(y)</code></td><td>Adds the value<code>y</code>to the set<code>s</code></td></tr>\n",
    "<tr><td style=\"text-align:center\"><code>s.remove(y)</code></td><td>Removes the value<code>y</code>from<code>s</code>. Returns an error if<code>y</code>is not in<code>s</code>.</td></tr>\n",
    "<tr><td style=\"text-align:center\"><code>s.discard(y)</code></td><td>Removes the value<code>y</code>from<code>s</code>if present</td></tr>\n",
    "<tr><td style=\"text-align:center\"><code>s.update(z)</code></td><td>Updates the set<code>s</code>by adding all elements from set<code>z</code></td></tr>\n",
    "<tr><td style=\"text-align:center\"><code>s.clear()</code></td><td>Removes all elements from<code>s</code></td></tr>\n",
    "</table>"
   ]
  },
  {
   "cell_type": "markdown",
   "metadata": {},
   "source": [
    "see <a href=\"https://docs.python.org/2/library/stdtypes.html#set\">https://docs.python.org/2/library/stdtypes.html#set</a> for more details"
   ]
  },
  {
   "cell_type": "code",
   "execution_count": 45,
   "metadata": {},
   "outputs": [],
   "source": [
    "## Create a set using the set() function\n",
    "s1 = set(['blue', 'yellow', 'red'])\n",
    "s2 = set(['orange', 'green', 'blue'])\n",
    "\n",
    "## Curly braces can also be used\n",
    "s3 = {'pink', 'purple'}"
   ]
  },
  {
   "cell_type": "code",
   "execution_count": 46,
   "metadata": {},
   "outputs": [
    {
     "data": {
      "text/plain": [
       "{'blue'}"
      ]
     },
     "execution_count": 46,
     "metadata": {},
     "output_type": "execute_result"
    }
   ],
   "source": [
    "## Get the intersection of two sets\n",
    "s1 & s2"
   ]
  },
  {
   "cell_type": "markdown",
   "metadata": {},
   "source": [
    "### Tuples\n",
    "Tuples are immutable sequences. Tuples are similar to lists, but you can't change individual elements."
   ]
  },
  {
   "cell_type": "code",
   "execution_count": 47,
   "metadata": {},
   "outputs": [
    {
     "data": {
      "text/plain": [
       "(1, 2, 3, 4)"
      ]
     },
     "execution_count": 47,
     "metadata": {},
     "output_type": "execute_result"
    }
   ],
   "source": [
    "## Tuples are created by placing parentheses around \n",
    "## a sequence of values separated by commas\n",
    "t1 = (1,2,3,4)\n",
    "t1"
   ]
  },
  {
   "cell_type": "code",
   "execution_count": 48,
   "metadata": {},
   "outputs": [
    {
     "data": {
      "text/plain": [
       "('A',)"
      ]
     },
     "execution_count": 48,
     "metadata": {},
     "output_type": "execute_result"
    }
   ],
   "source": [
    "## To create a tuple with a single value, place a comma at the end\n",
    "t2 = ('A',)\n",
    "t2"
   ]
  },
  {
   "cell_type": "code",
   "execution_count": 49,
   "metadata": {},
   "outputs": [
    {
     "ename": "TypeError",
     "evalue": "'tuple' object does not support item assignment",
     "output_type": "error",
     "traceback": [
      "\u001b[0;31m---------------------------------------------------------------------------\u001b[0m",
      "\u001b[0;31mTypeError\u001b[0m                                 Traceback (most recent call last)",
      "Cell \u001b[0;32mIn [49], line 2\u001b[0m\n\u001b[1;32m      1\u001b[0m \u001b[38;5;66;03m## You can't change the elements of a tuple\u001b[39;00m\n\u001b[0;32m----> 2\u001b[0m \u001b[43mt1\u001b[49m\u001b[43m[\u001b[49m\u001b[38;5;241;43m0\u001b[39;49m\u001b[43m]\u001b[49m \u001b[38;5;241m=\u001b[39m \u001b[38;5;241m3\u001b[39m\n",
      "\u001b[0;31mTypeError\u001b[0m: 'tuple' object does not support item assignment"
     ]
    }
   ],
   "source": [
    "## You can't change the elements of a tuple\n",
    "t1[0] = 3"
   ]
  },
  {
   "cell_type": "markdown",
   "metadata": {},
   "source": [
    "### Strings\n",
    "\n",
    "Strings are immutable sequences of characters, and can be accessed much like lists. There are, of course, numerous methods that are specific to strings. Below are a few useful string methods\n",
    "\n",
    "#### String Methods\n",
    "<table align=\"left\">\n",
    "<tr><td style=\"text-align:center\"><b>Operation</b></td><td><b>Description</b></td></tr>\n",
    "<tr><td style=\"text-align:center\"><code>str.find(sub)</code></td><td>Returns the lowest index where substring<code>sub</code>is found in<code>str</code></td></tr>\n",
    "<tr><td style=\"text-align:center\"><code>str.replace(old, new)</code></td><td>Returns a copy of<code>str</code>with all occurences of substring<code>old</code>replaced by<code>new</code>.</td></tr>\n",
    "<tr><td style=\"text-align:center\"><code>str.split([sep])</code></td><td>Returns a list containing substrings of<code>str</code>using<code>sep</code>as the delimiter.</td></tr>\n",
    "<tr><td style=\"text-align:center\"><code>str.join(iterable)</code></td><td>Returns a string that is a concatenation of the elements in<br /><code>iterable</code>. The separator between elements is<code>str</code>.</td></tr>\n",
    "<tr><td style=\"text-align:center\"><code>str.strip([chars])</code></td><td>Returns a copy of <code>str</code> with leading and trailing<code>chars</code>removed. <br />If<code>chars</code>is not specified, whitespace will be removed.</td></tr>\n",
    "</table>"
   ]
  },
  {
   "cell_type": "markdown",
   "metadata": {},
   "source": [
    "see [https://docs.python.org/2/library/stdtypes.html#string-methods](https://docs.python.org/2/library/stdtypes.html#string-methods) for more details"
   ]
  },
  {
   "cell_type": "code",
   "execution_count": 50,
   "metadata": {},
   "outputs": [
    {
     "data": {
      "text/plain": [
       "'hello'"
      ]
     },
     "execution_count": 50,
     "metadata": {},
     "output_type": "execute_result"
    }
   ],
   "source": [
    "## Define a string by placing quotes around a sequence of characters\n",
    "s1 = \"hello\"\n",
    "s1"
   ]
  },
  {
   "cell_type": "code",
   "execution_count": 51,
   "metadata": {},
   "outputs": [
    {
     "data": {
      "text/plain": [
       "'5'"
      ]
     },
     "execution_count": 51,
     "metadata": {},
     "output_type": "execute_result"
    }
   ],
   "source": [
    "## Use the str() function to convert values to string\n",
    "str(5)"
   ]
  },
  {
   "cell_type": "code",
   "execution_count": 52,
   "metadata": {},
   "outputs": [],
   "source": [
    "## Modify the string by replacing a substring\n",
    "s2 = s1.replace('h', 'H')"
   ]
  },
  {
   "cell_type": "code",
   "execution_count": 53,
   "metadata": {},
   "outputs": [
    {
     "data": {
      "text/plain": [
       "'Hello'"
      ]
     },
     "execution_count": 53,
     "metadata": {},
     "output_type": "execute_result"
    }
   ],
   "source": [
    "s2"
   ]
  },
  {
   "cell_type": "code",
   "execution_count": 54,
   "metadata": {},
   "outputs": [
    {
     "data": {
      "text/plain": [
       "['h', 'e', 'l', 'l', 'o']"
      ]
     },
     "execution_count": 54,
     "metadata": {},
     "output_type": "execute_result"
    }
   ],
   "source": [
    "## Create a list containing a string's characters\n",
    "list(s1)"
   ]
  },
  {
   "cell_type": "markdown",
   "metadata": {},
   "source": [
    "### Operations for Sequence Data Types\n",
    "\n",
    "<table align=\"left\">\n",
    "<tr><td style=\"text-align:center\"><b>Operation</b></td><td><b>Description</b></td></tr>\n",
    "<tr><td style=\"text-align:center\"><code>s + y</code></td><td>Concatenates <code>s</code> and <code>y</code></td></tr>\n",
    "<tr><td style=\"text-align:center\"><code>s * n</code></td><td>Returns <code>n</code> copies of <code>s</code></td></tr>\n",
    "<tr><td style=\"text-align:center\"><code>v1, v2, v3 = s</code></td><td>Variable unpacking</td></tr>\n",
    "<tr><td style=\"text-align:center\"><code>x in s</code> <br /> <code>x not in s</code></td><td>Determine membership. Returns <code>True</code> or <code>False</code>.</td></tr>\n",
    "<tr><td style=\"text-align:center\"><code>len(s)</code></td><td>Returns the length of <code>s</code>.</td></tr>\n",
    "<tr><td style=\"text-align:center\"><code>min(s)</code></td><td>Returns the minimum value in <code>s</code>.</td></tr>\n",
    "<tr><td style=\"text-align:center\"><code>max(s)</code></td><td>Returns the maximum value in <code>s</code>.</td></tr>\n",
    "<tr><td style=\"text-align:center\"><code>sum(s)</code></td><td>Returns the sum of <code>s</code> (elements of <code>s</code> must be numeric).</td></tr>\n",
    "</table>"
   ]
  },
  {
   "cell_type": "code",
   "execution_count": 55,
   "metadata": {},
   "outputs": [
    {
     "data": {
      "text/plain": [
       "'hello Hello'"
      ]
     },
     "execution_count": 55,
     "metadata": {},
     "output_type": "execute_result"
    }
   ],
   "source": [
    "## Concatenate multiple strings together\n",
    "s1 + ' ' + s2"
   ]
  },
  {
   "cell_type": "code",
   "execution_count": 56,
   "metadata": {},
   "outputs": [
    {
     "data": {
      "text/plain": [
       "True"
      ]
     },
     "execution_count": 56,
     "metadata": {},
     "output_type": "execute_result"
    }
   ],
   "source": [
    "## Does s1 contain the letter A?\n",
    "'e' in s1"
   ]
  },
  {
   "cell_type": "markdown",
   "metadata": {},
   "source": [
    "### String Formatting"
   ]
  },
  {
   "cell_type": "markdown",
   "metadata": {},
   "source": [
    "The </code>%</code> operator can be used to control the formatting of string. This is useful for making output more human-readable. The format is as follows:\n",
    "\n",
    "    \"<some-string> %<modifier><conversion-specifier>\" % (<a tuple of values>)\n",
    "\n",
    "#### Conversion Specifiers\n",
    "<table align=\"left\">\n",
    "<tr><td style=\"text-align:center\"><b>Character</b></td><td><b>Output Format</b></td></tr>\n",
    "<tr><td style=\"text-align:center\"><code>d</code> or <code>i</code></td><td>Integer decimal</td></tr>\n",
    "<tr><td style=\"text-align:center\"><code>o</code></td><td>Octal</td></tr>\n",
    "<tr><td style=\"text-align:center\"><code>x</code></td><td>Hexadecimal</td></tr>\n",
    "<tr><td style=\"text-align:center\"><code>f</code></td><td>Floating point decimal</td></tr>\n",
    "<tr><td style=\"text-align:center\"><code>e</code></td><td>Floating point exponential format</td></tr>\n",
    "<tr><td style=\"text-align:center\"><code>s</code></td><td>String</td></tr>\n",
    "</table>"
   ]
  },
  {
   "cell_type": "markdown",
   "metadata": {},
   "source": [
    "#### Formatting Modifiers\n",
    "1. A number specifying minimum field width\n",
    "2. A `.` separating the field width from the precision number\n",
    "3. A precision number specifying the number of characters to be printed from a string (or the number of digits after the decimal point for a floating point number)"
   ]
  },
  {
   "cell_type": "code",
   "execution_count": 57,
   "metadata": {},
   "outputs": [
    {
     "data": {
      "text/plain": [
       "'My favorite number is 5'"
      ]
     },
     "execution_count": 57,
     "metadata": {},
     "output_type": "execute_result"
    }
   ],
   "source": [
    "## Create a string using the % operator\n",
    "s2 = \"My favorite number is %d\" % (5,)\n",
    "s2"
   ]
  },
  {
   "cell_type": "code",
   "execution_count": 58,
   "metadata": {},
   "outputs": [
    {
     "data": {
      "text/plain": [
       "\"This is pi displayed to 5 decimal points: '   3.14159'\""
      ]
     },
     "execution_count": 58,
     "metadata": {},
     "output_type": "execute_result"
    }
   ],
   "source": [
    "## More complicated formatting\n",
    "s3 = \"This is %s displayed to 5 decimal points: '%10.5f'\" % (\"pi\", 3.14159265359)\n",
    "s3"
   ]
  },
  {
   "cell_type": "markdown",
   "metadata": {},
   "source": [
    "#### Another Way to Format Strings\n",
    "\n",
    "The `str.format()` method can also be used to format strings, using similar specifiers and modifiers as described above. In this case, however, placeholders in your string are denoted by curly braces (`{}`), and `'%'` is replaced with `':'`. The general format for the placeholder (or replacement field) is as follows:\n",
    "\n",
    "    { [field_name] [! conversion] [: format_spec] }\n",
    "\n",
    "[https://docs.python.org/3/library/string.html#formatstrings](https://docs.python.org/3/library/string.html#formatstrings)\n",
    "\n",
    "[https://docs.python.org/3/library/string.html#formatspec](https://docs.python.org/3/library/string.html#formatspec)"
   ]
  },
  {
   "cell_type": "code",
   "execution_count": 59,
   "metadata": {},
   "outputs": [
    {
     "data": {
      "text/plain": [
       "\"This is pi displayed to 5 decimal points: '   3.14159'\""
      ]
     },
     "execution_count": 59,
     "metadata": {},
     "output_type": "execute_result"
    }
   ],
   "source": [
    "## Format a string using the format() method\n",
    "pi = 3.14159265359\n",
    "s4 = \"This is {name} displayed to 5 decimal points: '{pi:10.5f}'\"\n",
    "s4.format(name=\"pi\", pi=pi)"
   ]
  },
  {
   "cell_type": "markdown",
   "metadata": {},
   "source": [
    "#### The newest way to format strings: f-strings\n",
    "\n",
    "[https://peps.python.org/pep-0498/](https://peps.python.org/pep-0498/)\n",
    "\n",
    "[https://docs.python.org/3/library/datetime.html#strftime-and-strptime-format-codes](https://docs.python.org/3/library/datetime.html#strftime-and-strptime-format-codes)"
   ]
  },
  {
   "cell_type": "code",
   "execution_count": 60,
   "metadata": {},
   "outputs": [
    {
     "data": {
      "text/plain": [
       "'My name is Bob and my birthdate is Tuesday, January 02, 1990'"
      ]
     },
     "execution_count": 60,
     "metadata": {},
     "output_type": "execute_result"
    }
   ],
   "source": [
    "import datetime\n",
    "name=\"Bob\"\n",
    "birthday = datetime.date(1990, 1, 2)\n",
    "msg = f\"My name is {name} and my birthdate is {birthday:%A, %B %d, %Y}\"\n",
    "msg"
   ]
  },
  {
   "cell_type": "markdown",
   "metadata": {},
   "source": [
    "#### Escape Characters\n",
    "<table align=\"left\">\n",
    "<tr><td style=\"text-align:center\"><b>Character</b></td><td><b>Output</b></td></tr>\n",
    "<tr><td style=\"text-align:center\"><code>\\\\</code></td><td>Backslash</td></tr>\n",
    "<tr><td style=\"text-align:center\"><code>\\'</code></td><td>Single quote</td></tr>\n",
    "<tr><td style=\"text-align:center\"><code>\\\"</code></td><td>Double quote</td></tr>\n",
    "<tr><td style=\"text-align:center\"><code>\\n</code></td><td>Newline</td></tr>\n",
    "<tr><td style=\"text-align:center\"><code>\\t</code></td><td>Tab</td></tr>\n",
    "</table>"
   ]
  },
  {
   "cell_type": "code",
   "execution_count": 61,
   "metadata": {},
   "outputs": [
    {
     "name": "stdout",
     "output_type": "stream",
     "text": [
      "Line1\n",
      "Line2\n"
     ]
    }
   ],
   "source": [
    "print(\"Line1\\nLine2\")"
   ]
  },
  {
   "cell_type": "markdown",
   "metadata": {},
   "source": [
    "## Mapping Data Types"
   ]
  },
  {
   "cell_type": "markdown",
   "metadata": {},
   "source": [
    "Dictionaries are unordered collections of<code>key:value</code> pairs. Keys must be hashable values (immutable data types). \n",
    "\n",
    "#### Dictionary Methods\n",
    "<table align=\"left\">\n",
    "<tr><td style=\"text-align:center\"><b>Method</b></td><td><b>Description</b></td></tr>\n",
    "<tr><td style=\"text-align:center\"><code>d.get(key[, default])</code></td><td>Returns the value associated with<code>key</code> in<code>d</code>. If<code>key</code> doesn't exist, returns<code>default</code>, or<code>None</code> if<code>default</code> is not specified.</td></tr>\n",
    "<tr><td style=\"text-align:center\"><code>d.keys()</code></td><td>Returns a list of the keys of<code>d</code></td></tr>\n",
    "<tr><td style=\"text-align:center\"><code>d.values()</code></td><td>Returns a list of the values of<code>d</code></td></tr>\n",
    "<tr><td style=\"text-align:center\"><code>d.items()</code></td><td>Returns a list of the keys:value pairs as tuples.</td></tr>\n",
    "<tr><td style=\"text-align:center\"><code>d.iteritems()</code></td><td>Returns an iterator over the dictionary's<code>(key, value)</code> pairs.</td></tr>\n",
    "<tr><td style=\"text-align:center\"><code>d.update(y)</code></td><td>Updates<code>d</code> with key:value pairs of<code>y</code> overwriting existing keys</td></tr>\n",
    "<tr><td style=\"text-align:center\"><code>d.pop(key[,default])</code></td><td>If<code>key</code> is in<code>d</code> remove it and return its value. If the key does not exist, returns<code>default</code>, if provided, otherwise an error.</td></tr>\n",
    "</table>"
   ]
  },
  {
   "cell_type": "markdown",
   "metadata": {},
   "source": [
    "See [https://docs.python.org/2/library/stdtypes.html#mapping-types-dict](https://docs.python.org/2/library/stdtypes.html#mapping-types-dict) for more details"
   ]
  },
  {
   "cell_type": "code",
   "execution_count": 62,
   "metadata": {},
   "outputs": [
    {
     "data": {
      "text/plain": [
       "{'A': 'blue', 'B': 'red'}"
      ]
     },
     "execution_count": 62,
     "metadata": {},
     "output_type": "execute_result"
    }
   ],
   "source": [
    "## Create a dictionary by placing curly brackets {}\n",
    "## around a comma delimited list of key:value pairs\n",
    "d1 = {'A':'blue', 'B':'red'}\n",
    "d1"
   ]
  },
  {
   "cell_type": "code",
   "execution_count": 63,
   "metadata": {},
   "outputs": [
    {
     "name": "stdout",
     "output_type": "stream",
     "text": [
      "{'A': 'blue', 'B': 'red'}\n"
     ]
    }
   ],
   "source": [
    "print(d1)"
   ]
  },
  {
   "cell_type": "code",
   "execution_count": 64,
   "metadata": {},
   "outputs": [
    {
     "data": {
      "text/plain": [
       "True"
      ]
     },
     "execution_count": 64,
     "metadata": {},
     "output_type": "execute_result"
    }
   ],
   "source": [
    "## Or call the dict() function on a list of tuples\n",
    "d2 = dict([('A', 'blue'), ('B', 'red')])\n",
    "d2 == d1"
   ]
  },
  {
   "cell_type": "code",
   "execution_count": 65,
   "metadata": {},
   "outputs": [
    {
     "data": {
      "text/plain": [
       "dict_items([('A', 'blue'), ('B', 'red')])"
      ]
     },
     "execution_count": 65,
     "metadata": {},
     "output_type": "execute_result"
    }
   ],
   "source": [
    "## Get all keys and values as a list of tuples\n",
    "d1.items()"
   ]
  },
  {
   "cell_type": "code",
   "execution_count": 66,
   "metadata": {},
   "outputs": [
    {
     "data": {
      "text/plain": [
       "'blue'"
      ]
     },
     "execution_count": 66,
     "metadata": {},
     "output_type": "execute_result"
    }
   ],
   "source": [
    "## Access the dictionary's values\n",
    "d1['A']"
   ]
  },
  {
   "cell_type": "code",
   "execution_count": 67,
   "metadata": {},
   "outputs": [
    {
     "data": {
      "text/plain": [
       "'blue'"
      ]
     },
     "execution_count": 67,
     "metadata": {},
     "output_type": "execute_result"
    }
   ],
   "source": [
    "d1.get('A')"
   ]
  },
  {
   "cell_type": "markdown",
   "metadata": {},
   "source": [
    "## Python 2.7 vs. Python 3\n",
    "\n",
    "For the most part, the code you see in the course materials should be compatible with both Python 2.7 and Python 3. Python 2.7 is still the default version installed on many systems and some third-party packages may not yet be available for Python 3. However, Python 3 is over five years old now and is being used more and more. It's important to understand the differences, so you'll be ready for the future.\n",
    "\n",
    "A good way to start getting your code ready for Python 3, while still using 2.7, is to make use of the [future compatibility package](http://python-future.org/index.html). For example, the following code imports two features that make Python 3 different from Python 2.7: the print function (no longer a print statement), and the division operator (no longer integer division)."
   ]
  },
  {
   "cell_type": "code",
   "execution_count": 68,
   "metadata": {},
   "outputs": [],
   "source": [
    "from __future__ import print_function, division"
   ]
  },
  {
   "cell_type": "markdown",
   "metadata": {},
   "source": [
    "#### ** I suggest that you use the `__future__` package, as in the examples above, to make your code compatible with both Python 2.7 and Python 3. And please make it clear (use comments to document your code) what version of Python you are using for your assignments."
   ]
  },
  {
   "cell_type": "markdown",
   "metadata": {},
   "source": [
    "## References"
   ]
  },
  {
   "cell_type": "markdown",
   "metadata": {},
   "source": [
    "- <u>Programming Languages</u>, Ravi Sethi, 2nd Edition, Addison‐Wesley (1996)\n",
    "- <u>Problem Solving, Abstraction and Design Using C++</u>, Frank Friedman, Elliot Koffman, 4th Edition, Addison-Wesley (2004)\n",
    "- <u>Python for Bioinformatics</u>, Sebastian Bassi, CRC Press (2010)\n",
    "\n",
    "#### Last Updated: 14-Sep-2022"
   ]
  }
 ],
 "metadata": {
  "anaconda-cloud": {},
  "kernelspec": {
   "display_name": "Python 3 (ipykernel)",
   "language": "python",
   "name": "python3"
  },
  "language_info": {
   "codemirror_mode": {
    "name": "ipython",
    "version": 3
   },
   "file_extension": ".py",
   "mimetype": "text/x-python",
   "name": "python",
   "nbconvert_exporter": "python",
   "pygments_lexer": "ipython3",
   "version": "3.10.6"
  }
 },
 "nbformat": 4,
 "nbformat_minor": 1
}
