{
 "cells": [
  {
   "cell_type": "markdown",
   "metadata": {},
   "source": [
    "# BMI565: Bioinformatics Programming & Scripting\n",
    "\n",
    "#### (C) Michael Mooney (mooneymi@ohsu.edu)\n",
    "\n",
    "## Week 7: Error Handling, Exceptions, and Code Testing\n",
    "\n",
    "1. Exceptions\n",
    "    - try/except statements\n",
    "    - Custom exceptions\n",
    "2. Error Handling\n",
    "    - Assert statements\n",
    "3. Code Testing\n",
    "    - `doctest` module\n",
    "    - Test cases\n",
    "\n",
    "#### Requirements\n",
    "- Python 2.7 or 3.x"
   ]
  },
  {
   "cell_type": "code",
   "execution_count": 1,
   "metadata": {},
   "outputs": [],
   "source": [
    "from __future__ import print_function, division"
   ]
  },
  {
   "cell_type": "markdown",
   "metadata": {},
   "source": [
    "## Exceptions\n",
    "\n",
    "An exception is a signal that an error has occured during code execution. A traceback message will be displayed giving information about the particular error, including the type and location of the error. Normally, an exception will cause a program to halt, but we can plan ahead to detect and manage errors in a more useful way.\n",
    "\n",
    "Python will automatically detect errors and <i>raise</i> exceptions, but we can also raise exceptions manually.\n",
    "\n",
    "    raise RuntimeError(\"Halt program!\")\n",
    "\n",
    "List of built-in Python exceptions: [http://docs.python.org/library/exceptions.html](http://docs.python.org/library/exceptions.html)"
   ]
  },
  {
   "cell_type": "markdown",
   "metadata": {},
   "source": [
    "### try/except statements\n",
    "\n",
    "Try/except statements allow us to detect errors and take some sort of corrective action (or provide a more informative message to the user), rather than simply halting the program.\n",
    "\n",
    "    try:\n",
    "        # error prone code\n",
    "    except:\n",
    "        # code in case an exception is raised\n",
    "    else:\n",
    "        # code in case no exception is raised\n",
    "    finally:\n",
    "        # code executed with or without exception"
   ]
  },
  {
   "cell_type": "code",
   "execution_count": 2,
   "metadata": {},
   "outputs": [
    {
     "name": "stdout",
     "output_type": "stream",
     "text": [
      "Error Detected!\n"
     ]
    }
   ],
   "source": [
    "## Use a try/except block to catch possible errors\n",
    "try:\n",
    "    a = 0\n",
    "    print(3/a)\n",
    "    fh = open(\"foo.txt\")\n",
    "except:\n",
    "    print(\"Error Detected!\")"
   ]
  },
  {
   "cell_type": "code",
   "execution_count": 3,
   "metadata": {},
   "outputs": [
    {
     "name": "stdout",
     "output_type": "stream",
     "text": [
      "You can't divide by zero!\n"
     ]
    },
    {
     "ename": "ZeroDivisionError",
     "evalue": "'a' = 0",
     "output_type": "error",
     "traceback": [
      "\u001b[0;31m---------------------------------------------------------------------------\u001b[0m",
      "\u001b[0;31mZeroDivisionError\u001b[0m                         Traceback (most recent call last)",
      "Cell \u001b[0;32mIn [3], line 4\u001b[0m\n\u001b[1;32m      3\u001b[0m a \u001b[38;5;241m=\u001b[39m \u001b[38;5;241m0\u001b[39m\n\u001b[0;32m----> 4\u001b[0m \u001b[38;5;28mprint\u001b[39m(\u001b[38;5;241;43m3\u001b[39;49m\u001b[38;5;241;43m/\u001b[39;49m\u001b[43ma\u001b[49m)\n\u001b[1;32m      5\u001b[0m fh \u001b[38;5;241m=\u001b[39m \u001b[38;5;28mopen\u001b[39m(\u001b[38;5;124m\"\u001b[39m\u001b[38;5;124mfoo.txt\u001b[39m\u001b[38;5;124m\"\u001b[39m)\n",
      "\u001b[0;31mZeroDivisionError\u001b[0m: division by zero",
      "\nDuring handling of the above exception, another exception occurred:\n",
      "\u001b[0;31mZeroDivisionError\u001b[0m                         Traceback (most recent call last)",
      "Cell \u001b[0;32mIn [3], line 8\u001b[0m\n\u001b[1;32m      6\u001b[0m \u001b[38;5;28;01mexcept\u001b[39;00m \u001b[38;5;167;01mZeroDivisionError\u001b[39;00m:\n\u001b[1;32m      7\u001b[0m     \u001b[38;5;28mprint\u001b[39m(\u001b[38;5;124m\"\u001b[39m\u001b[38;5;124mYou can\u001b[39m\u001b[38;5;124m'\u001b[39m\u001b[38;5;124mt divide by zero!\u001b[39m\u001b[38;5;124m\"\u001b[39m)\n\u001b[0;32m----> 8\u001b[0m     \u001b[38;5;28;01mraise\u001b[39;00m \u001b[38;5;167;01mZeroDivisionError\u001b[39;00m(\u001b[38;5;124m\"\u001b[39m\u001b[38;5;124m'\u001b[39m\u001b[38;5;124ma\u001b[39m\u001b[38;5;124m'\u001b[39m\u001b[38;5;124m = 0\u001b[39m\u001b[38;5;124m\"\u001b[39m)\n\u001b[1;32m      9\u001b[0m \u001b[38;5;28;01mexcept\u001b[39;00m \u001b[38;5;167;01mIOError\u001b[39;00m:\n\u001b[1;32m     10\u001b[0m     \u001b[38;5;28mprint\u001b[39m(\u001b[38;5;124m\"\u001b[39m\u001b[38;5;124mProblem opening file!\u001b[39m\u001b[38;5;124m\"\u001b[39m)\n",
      "\u001b[0;31mZeroDivisionError\u001b[0m: 'a' = 0"
     ]
    }
   ],
   "source": [
    "## Use a try/except block to catch specific errors\n",
    "try:\n",
    "    a = 0\n",
    "    print(3/a)\n",
    "    fh = open(\"foo.txt\")\n",
    "except ZeroDivisionError:\n",
    "    print(\"You can't divide by zero!\")\n",
    "    raise ZeroDivisionError(\"'a' = 0\")\n",
    "except IOError:\n",
    "    print(\"Problem opening file!\")\n",
    "\n",
    "print(\"Other code\")"
   ]
  },
  {
   "cell_type": "code",
   "execution_count": 4,
   "metadata": {},
   "outputs": [
    {
     "name": "stdout",
     "output_type": "stream",
     "text": [
      "2\n",
      "No such file or directory\n",
      "[Errno 2] No such file or directory: 'foo.txt'\n",
      "foo.txt\n"
     ]
    }
   ],
   "source": [
    "## Access information about errors\n",
    "try:\n",
    "    x = 4/1\n",
    "    fh = open(\"foo.txt\")\n",
    "except ZeroDivisionError as err:\n",
    "    print(str(err))\n",
    "except IOError as err:\n",
    "    print(err.errno)\n",
    "    print(err.strerror)\n",
    "    print(str(err))\n",
    "    print(err.filename)"
   ]
  },
  {
   "cell_type": "code",
   "execution_count": 5,
   "metadata": {},
   "outputs": [
    {
     "name": "stdout",
     "output_type": "stream",
     "text": [
      "Help on class OSError in module builtins:\n",
      "\n",
      "class OSError(Exception)\n",
      " |  Base class for I/O related errors.\n",
      " |  \n",
      " |  Method resolution order:\n",
      " |      OSError\n",
      " |      Exception\n",
      " |      BaseException\n",
      " |      object\n",
      " |  \n",
      " |  Built-in subclasses:\n",
      " |      BlockingIOError\n",
      " |      ChildProcessError\n",
      " |      ConnectionError\n",
      " |      FileExistsError\n",
      " |      ... and 7 other subclasses\n",
      " |  \n",
      " |  Methods defined here:\n",
      " |  \n",
      " |  __init__(self, /, *args, **kwargs)\n",
      " |      Initialize self.  See help(type(self)) for accurate signature.\n",
      " |  \n",
      " |  __reduce__(...)\n",
      " |      Helper for pickle.\n",
      " |  \n",
      " |  __str__(self, /)\n",
      " |      Return str(self).\n",
      " |  \n",
      " |  ----------------------------------------------------------------------\n",
      " |  Static methods defined here:\n",
      " |  \n",
      " |  __new__(*args, **kwargs) from builtins.type\n",
      " |      Create and return a new object.  See help(type) for accurate signature.\n",
      " |  \n",
      " |  ----------------------------------------------------------------------\n",
      " |  Data descriptors defined here:\n",
      " |  \n",
      " |  characters_written\n",
      " |  \n",
      " |  errno\n",
      " |      POSIX exception code\n",
      " |  \n",
      " |  filename\n",
      " |      exception filename\n",
      " |  \n",
      " |  filename2\n",
      " |      second exception filename\n",
      " |  \n",
      " |  strerror\n",
      " |      exception strerror\n",
      " |  \n",
      " |  ----------------------------------------------------------------------\n",
      " |  Methods inherited from BaseException:\n",
      " |  \n",
      " |  __delattr__(self, name, /)\n",
      " |      Implement delattr(self, name).\n",
      " |  \n",
      " |  __getattribute__(self, name, /)\n",
      " |      Return getattr(self, name).\n",
      " |  \n",
      " |  __repr__(self, /)\n",
      " |      Return repr(self).\n",
      " |  \n",
      " |  __setattr__(self, name, value, /)\n",
      " |      Implement setattr(self, name, value).\n",
      " |  \n",
      " |  __setstate__(...)\n",
      " |  \n",
      " |  with_traceback(...)\n",
      " |      Exception.with_traceback(tb) --\n",
      " |      set self.__traceback__ to tb and return self.\n",
      " |  \n",
      " |  ----------------------------------------------------------------------\n",
      " |  Data descriptors inherited from BaseException:\n",
      " |  \n",
      " |  __cause__\n",
      " |      exception cause\n",
      " |  \n",
      " |  __context__\n",
      " |      exception context\n",
      " |  \n",
      " |  __dict__\n",
      " |  \n",
      " |  __suppress_context__\n",
      " |  \n",
      " |  __traceback__\n",
      " |  \n",
      " |  args\n",
      "\n"
     ]
    }
   ],
   "source": [
    "help(IOError)"
   ]
  },
  {
   "cell_type": "markdown",
   "metadata": {},
   "source": [
    "### Custom Exceptions\n",
    "\n",
    "We can create custom exceptions to detect errors, halt the program, and inform the user."
   ]
  },
  {
   "cell_type": "code",
   "execution_count": 6,
   "metadata": {},
   "outputs": [],
   "source": [
    "## Inherit from the Exception class to create a custom exception\n",
    "class NotEvenNumberError(Exception):\n",
    "    def __init__(self, num):\n",
    "        self.num = num\n",
    "        Exception.__init__(self, num)\n",
    "    def __str__(self):\n",
    "        return str(self.num) + \" is not an even number!\""
   ]
  },
  {
   "cell_type": "code",
   "execution_count": 7,
   "metadata": {},
   "outputs": [
    {
     "ename": "NotEvenNumberError",
     "evalue": "3 is not an even number!",
     "output_type": "error",
     "traceback": [
      "\u001b[0;31m---------------------------------------------------------------------------\u001b[0m",
      "\u001b[0;31mNotEvenNumberError\u001b[0m                        Traceback (most recent call last)",
      "Cell \u001b[0;32mIn [7], line 4\u001b[0m\n\u001b[1;32m      2\u001b[0m n \u001b[38;5;241m=\u001b[39m \u001b[38;5;241m3\u001b[39m\n\u001b[1;32m      3\u001b[0m \u001b[38;5;28;01mif\u001b[39;00m n \u001b[38;5;241m%\u001b[39m \u001b[38;5;241m2\u001b[39m \u001b[38;5;241m!=\u001b[39m \u001b[38;5;241m0\u001b[39m:\n\u001b[0;32m----> 4\u001b[0m     \u001b[38;5;28;01mraise\u001b[39;00m NotEvenNumberError(n)\n\u001b[1;32m      5\u001b[0m \u001b[38;5;28;01melse\u001b[39;00m:\n\u001b[1;32m      6\u001b[0m     \u001b[38;5;28mprint\u001b[39m(\u001b[38;5;124m\"\u001b[39m\u001b[38;5;124mEven number!\u001b[39m\u001b[38;5;124m\"\u001b[39m)\n",
      "\u001b[0;31mNotEvenNumberError\u001b[0m: 3 is not an even number!"
     ]
    }
   ],
   "source": [
    "## Detect and raise the exception\n",
    "n = 3\n",
    "if n % 2 != 0:\n",
    "    raise NotEvenNumberError(n)\n",
    "else:\n",
    "    print(\"Even number!\")"
   ]
  },
  {
   "cell_type": "markdown",
   "metadata": {},
   "source": [
    "## Error Handling\n",
    "\n",
    "- Syntax Errors\n",
    "    - Invalid Python syntax will result in an error before the code is executed\n",
    "- Run-time Errors\n",
    "    - An error detected during execution (such as dividing by zero, or a missing file) results in an exception being raised\n",
    "- Logic Errors\n",
    "    - These errors are not detected by Python and may result in faulty output\n",
    "    \n",
    "To avoid errors and debug code use the following techniques:\n",
    "\n",
    "1. Give clear instructions/documentation regarding expected input\n",
    "2. Check input \n",
    "3. Use assert statements\n",
    "4. Use print statements to monitor results of code\n",
    "5. Use test cases\n",
    "\n",
    "### Assert Statements\n",
    "\n",
    "Assert statements are a convinient way to insert debugging tests into a program:\n",
    "\n",
    "    assert test, \"message\"  ## message is displayed if test is False"
   ]
  },
  {
   "cell_type": "code",
   "execution_count": 8,
   "metadata": {},
   "outputs": [
    {
     "ename": "AssertionError",
     "evalue": "'a' is not an even number!",
     "output_type": "error",
     "traceback": [
      "\u001b[0;31m---------------------------------------------------------------------------\u001b[0m",
      "\u001b[0;31mAssertionError\u001b[0m                            Traceback (most recent call last)",
      "Cell \u001b[0;32mIn [8], line 2\u001b[0m\n\u001b[1;32m      1\u001b[0m a \u001b[38;5;241m=\u001b[39m \u001b[38;5;241m3\u001b[39m\n\u001b[0;32m----> 2\u001b[0m \u001b[38;5;28;01massert\u001b[39;00m a \u001b[38;5;241m%\u001b[39m \u001b[38;5;241m2\u001b[39m \u001b[38;5;241m==\u001b[39m \u001b[38;5;241m0\u001b[39m, \u001b[38;5;124m\"\u001b[39m\u001b[38;5;124m'\u001b[39m\u001b[38;5;124ma\u001b[39m\u001b[38;5;124m'\u001b[39m\u001b[38;5;124m is not an even number!\u001b[39m\u001b[38;5;124m\"\u001b[39m\n",
      "\u001b[0;31mAssertionError\u001b[0m: 'a' is not an even number!"
     ]
    }
   ],
   "source": [
    "a = 3\n",
    "assert a % 2 == 0, \"'a' is not an even number!\""
   ]
  },
  {
   "cell_type": "markdown",
   "metadata": {},
   "source": [
    "#### Assert Examples\n",
    "    \n",
    "    ## Use assert statements to test function output\n",
    "    \n",
    "    ## Example 1.\n",
    "    expected = 41000\n",
    "    agilent_probes = read_probes(“data.txt”)\n",
    "    assert len(agilent_probes) == expected, \"Only %d of %d probes read.\" % (len(agilent_probes), expected)\n",
    "    \n",
    "    ## Example 2.\n",
    "    prob = run_analysis(data)\n",
    "    assert 0 <= prob <= 1, \"Error: invalid probability\""
   ]
  },
  {
   "cell_type": "markdown",
   "metadata": {},
   "source": [
    "## Code Testing\n",
    "\n",
    "The `doctest` module allows you to put code tests within the docstrings of a module, function definition, etc. These tests can then be run to determine if your code is running as expected. \n",
    "\n",
    "[https://docs.python.org/2.7/library/doctest.html](https://docs.python.org/2.7/library/doctest.html)\n",
    "\n",
    "[https://docs.python.org/3/library/doctest.html](https://docs.python.org/3/library/doctest.html)\n",
    "\n",
    "Tests are added to a docstring by placing `>>>` before the code to run (additional lines of a test can be specified by `...`). The line following the test should contain the expected output. For example:\n",
    "\n",
    "    \"\"\"\n",
    "    >>> len(range(10))\n",
    "    10\n",
    "    \"\"\"\n",
    "\n",
    "A common way to test the functionality of a module is to run the tests when the module is run from the command-line (rather than being imported):\n",
    "\n",
    "    if __name__ == \"__main__\":\n",
    "        import doctest\n",
    "        doctest.testmod()\n"
   ]
  },
  {
   "cell_type": "markdown",
   "metadata": {},
   "source": [
    "Let's say we've created a module named `shapes` containing the following:\n",
    "\n",
    "    def squareArea(sideLength):\n",
    "        \"\"\"\n",
    "        This function calculates the area of a square with a given length.\n",
    "        \n",
    "        Code tests:\n",
    "        >>> squareArea(2)\n",
    "        4\n",
    "        \n",
    "        >>> squareArea(10)  # This test should fail\n",
    "        99\n",
    "        \"\"\"\n",
    "        return sideLength*sideLength\n",
    "    \n",
    "    \n",
    "    if __name__ == \"__main__\":\n",
    "        import doctest\n",
    "        doctest.testmod()\n"
   ]
  },
  {
   "cell_type": "markdown",
   "metadata": {},
   "source": [
    "If we have many tests to run, including them in the docstrings may make our code cluttered. We can also put tests in a separate text file and run them as follows:\n",
    "\n",
    "    import doctest\n",
    "    doctest.testfile(\"tests.txt\")"
   ]
  },
  {
   "cell_type": "markdown",
   "metadata": {},
   "source": [
    "### Writing Code Tests\n",
    "\n",
    "It is good practice to write tests before you code. This ensures code modularity (important when working on a larger project), and traceability when code is modified.\n",
    "\n",
    "#### Example\n",
    "We need to write a function called `matchCATA()`, which searches a sequence for 'CATA' and returns the number of matches.\n",
    "\n",
    "What tests would we want the function to pass? When should we return an error?\n",
    "\n",
    "- `matchCATA(\"ATCCATA\")` = ?\n",
    "- `matchCATA(\"\")` = ?\n",
    "- `matchCATA(\"12345\")` = ?"
   ]
  },
  {
   "cell_type": "markdown",
   "metadata": {},
   "source": [
    "### Test Cases\n",
    "- Isolate a small part of a real dataset to use for testing\n",
    "- Make sure that the test data is representative of real data (not just a trivial case)\n",
    "- Test data can be real or simulated.\n",
    "- Test cases are important for communicating with stakeholders and running example code (demos)\n",
    "\n",
    "#### Rigorous testing is how code improves\n",
    "\n",
    "- Many software projects incorporate a testing framework to ensure each software component works as expected\n",
    "- There are many different type of tests: unit tests for a single component, integrative tests for multiple components\n",
    "- Test are run regularly to ensure code is not broken as changes are made\n",
    "- Versioning systems are very useful when working on larger projects, particularly when working collaboratively\n",
    "\n",
    "Dr. Cohen's Software Engineering course (BMI546) covers software testing in more detail."
   ]
  },
  {
   "cell_type": "markdown",
   "metadata": {},
   "source": [
    "## In-Class Exercises"
   ]
  },
  {
   "cell_type": "code",
   "execution_count": null,
   "metadata": {},
   "outputs": [],
   "source": [
    "## Exercise 1.\n",
    "## Create a custom exception 'MissingFileError' that prints \n",
    "## the current directory and the directory contents when \n",
    "## a file can't be opened.\n",
    "## Hint: use os.getcwd() and os.listdir()\n"
   ]
  },
  {
   "cell_type": "markdown",
   "metadata": {},
   "source": [
    "## References\n",
    "\n",
    "- <u>Python for Bioinformatics</u>, Sebastian Bassi, CRC Press (2010)\n",
    "- <u>Python Essential Reference</u>, David Beazley, 4th Edition, Addison‐Wesley (2008)\n",
    "- [http://docs.python.org/](http://docs.python.org/)\n",
    "\n",
    "#### Last Updated: 15-Sep-2022"
   ]
  }
 ],
 "metadata": {
  "anaconda-cloud": {},
  "kernelspec": {
   "display_name": "Python 3 (ipykernel)",
   "language": "python",
   "name": "python3"
  },
  "language_info": {
   "codemirror_mode": {
    "name": "ipython",
    "version": 3
   },
   "file_extension": ".py",
   "mimetype": "text/x-python",
   "name": "python",
   "nbconvert_exporter": "python",
   "pygments_lexer": "ipython3",
   "version": "3.10.6"
  }
 },
 "nbformat": 4,
 "nbformat_minor": 1
}
