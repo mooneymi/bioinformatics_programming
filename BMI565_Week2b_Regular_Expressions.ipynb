{
 "cells": [
  {
   "cell_type": "markdown",
   "metadata": {},
   "source": [
    "# BMI565: Bioinformatics Programming & Scripting\n",
    "\n",
    "#### (C) Michael Mooney (mooneymi@ohsu.edu)\n",
    "\n",
    "## Week 2: Regular Expressions\n",
    "\n",
    "1. What are Regular Expressions?\n",
    "    - Special Characters\n",
    "2. Matching and Modifying Strings\n",
    "    - The `re` Module\n",
    "    - The Match Object\n",
    "    - Sets and Groups\n",
    "    - Compiling RegEx Patterns\n",
    "3. PROSITE Patterns\n",
    "\n",
    "#### Requirements\n",
    "- Python 2.7 or 3.x\n",
    "- Miscellaneous Files\n",
    "    - `./images/central_dogma.jpg`\n",
    "    - `./images/codon_table.jpg`"
   ]
  },
  {
   "cell_type": "code",
   "execution_count": 1,
   "metadata": {},
   "outputs": [],
   "source": [
    "from __future__ import print_function, division"
   ]
  },
  {
   "cell_type": "markdown",
   "metadata": {},
   "source": [
    "## What are Regular Expressions?\n",
    "\n",
    "Regular expression are patterns containing text and special characters. They are used as a concise and flexible way to match strings. Regular expressions are used in many computer science applications:\n",
    "\n",
    "- Bioinformatics Applications\n",
    "    - Sequence Analysis: Identifying promoter sequences, DNA binding sites, gene structure\n",
    "- Other Applications\n",
    "    - Information Retrieval: Parsing and searching text\n",
    "    - Natural Language Processing\n",
    "    - SQL\n",
    "        \n",
    "Let's say we want to search a string called `text`:\n",
    "\n",
    "    text = \"hello DNA!! ATTTTCGCGCAT\"\n",
    "\n",
    "### RE Special Characters\n",
    "<table align=\"left\">\n",
    "<tr><td style=\"text-align:center\"><b>Pattern</b></td><td><b>Description</b></td><td><b>Example</b></td><td><b>Matches</b></td></tr>\n",
    "<tr><td style=\"text-align:center\">`simple text`</td><td>Matches exact text</td><td style=\"text-align:center\">`\"DNA\"`</td><td style=\"text-align:center\">`[\"DNA\"]`</td></tr>\n",
    "<tr><td style=\"text-align:center\">`.`</td><td>Matches any single character</td><td style=\"text-align:center\">`\"h.\"`</td><td style=\"text-align:center\">`[\"he\"]`</td></tr>\n",
    "<tr><td style=\"text-align:center\">`^`</td><td>Matches the beginning of the string</td><td style=\"text-align:center\">`\"^hello\"`</td><td style=\"text-align:center\">`[\"hello\"]`</td></tr>\n",
    "<tr><td style=\"text-align:center\">`$`</td><td>Matches the end of a string</td><td style=\"text-align:center\">`\"CAT$\"`</td><td style=\"text-align:center\">`[\"CAT\"]`</td></tr>\n",
    "<tr><td style=\"text-align:center\">`*`</td><td>Matches zero or more of the preceding pattern</td><td style=\"text-align:center\">`\"AT*\"`</td><td style=\"text-align:center\">`[\"A\", \"ATTTT\", \"AT\"]`</td></tr>\n",
    "<tr><td style=\"text-align:center\">`+`</td><td>Matches one or more of the preceding pattern</td><td style=\"text-align:center\">`\"G+\"`</td><td style=\"text-align:center\">`[\"G\", \"G\"]`</td></tr>\n",
    "<tr><td style=\"text-align:center\">`?`</td><td>Matches zero or one of the preceding pattern</td><td style=\"text-align:center\">`\"CG?\"`</td><td style=\"text-align:center\">`[\"CG\", \"CG\", \"C\"]`</td></tr>\n",
    "</table>"
   ]
  },
  {
   "cell_type": "markdown",
   "metadata": {},
   "source": [
    "## Matching and Modifying Strings"
   ]
  },
  {
   "cell_type": "code",
   "execution_count": 2,
   "metadata": {},
   "outputs": [
    {
     "data": {
      "text/plain": [
       "['ATTTT', 'AT']"
      ]
     },
     "execution_count": 2,
     "metadata": {},
     "output_type": "execute_result"
    }
   ],
   "source": [
    "## Import the re module\n",
    "import re\n",
    "\n",
    "## Define the text to search\n",
    "text = \"hello DNA!! ATTTTCGCGCAT\"\n",
    "\n",
    "## The re.findall() function will return a list of all matches\n",
    "re.findall(r\"AT+\", text)"
   ]
  },
  {
   "cell_type": "code",
   "execution_count": 3,
   "metadata": {},
   "outputs": [
    {
     "data": {
      "text/plain": [
       "<re.Match object; span=(8, 9), match='A'>"
      ]
     },
     "execution_count": 3,
     "metadata": {},
     "output_type": "execute_result"
    }
   ],
   "source": [
    "## The re.search() function will return a match object\n",
    "## for the first match only\n",
    "mo = re.search(r\"AT*\", text)\n",
    "mo"
   ]
  },
  {
   "cell_type": "code",
   "execution_count": 4,
   "metadata": {},
   "outputs": [
    {
     "name": "stdout",
     "output_type": "stream",
     "text": [
      "A\n",
      "(8, 9)\n",
      "8\n",
      "9\n"
     ]
    }
   ],
   "source": [
    "## Match objects contain multiple pieces of info about the match\n",
    "print(mo.group())\n",
    "print(mo.span())\n",
    "print(mo.start())\n",
    "print(mo.end())"
   ]
  },
  {
   "cell_type": "code",
   "execution_count": 5,
   "metadata": {},
   "outputs": [
    {
     "name": "stdout",
     "output_type": "stream",
     "text": [
      "A starts at index 8\n",
      "ATTTT starts at index 12\n",
      "AT starts at index 22\n"
     ]
    }
   ],
   "source": [
    "## The re.finditer() function will return an iterator\n",
    "## with a match object for each match\n",
    "mo_iter = re.finditer(r\"AT*\", text)\n",
    "for m in mo_iter:\n",
    "    print(m.group(), \"starts at index\", m.start())"
   ]
  },
  {
   "cell_type": "code",
   "execution_count": 6,
   "metadata": {},
   "outputs": [
    {
     "data": {
      "text/plain": [
       "['hello DNA', ' ATTTTCGCGCAT']"
      ]
     },
     "execution_count": 6,
     "metadata": {},
     "output_type": "execute_result"
    }
   ],
   "source": [
    "## The re.split() function\n",
    "re.split(r\"!!\", text)"
   ]
  },
  {
   "cell_type": "code",
   "execution_count": 7,
   "metadata": {},
   "outputs": [
    {
     "data": {
      "text/plain": [
       "'hello DNA?? ATTTTCGCGCAT'"
      ]
     },
     "execution_count": 7,
     "metadata": {},
     "output_type": "execute_result"
    }
   ],
   "source": [
    "## The re.sub()\n",
    "re.sub(r\"!!\", \"??\", text)"
   ]
  },
  {
   "cell_type": "code",
   "execution_count": 8,
   "metadata": {},
   "outputs": [
    {
     "data": {
      "text/plain": [
       "'hello DNA?? ATTTTCGCGCAT'"
      ]
     },
     "execution_count": 8,
     "metadata": {},
     "output_type": "execute_result"
    }
   ],
   "source": [
    "text2 = re.sub(r\"!!\", \"??\", text)\n",
    "text2"
   ]
  },
  {
   "cell_type": "code",
   "execution_count": 9,
   "metadata": {},
   "outputs": [
    {
     "data": {
      "text/plain": [
       "('hello DNA!! AttttCGCGCAt', 5)"
      ]
     },
     "execution_count": 9,
     "metadata": {},
     "output_type": "execute_result"
    }
   ],
   "source": [
    "## The re.subn() method returns a tuple containing the \n",
    "## updated string and the number of replacements\n",
    "re.subn(r\"T\", \"t\", text)"
   ]
  },
  {
   "cell_type": "markdown",
   "metadata": {},
   "source": [
    "### Repetitions, Sets, and Groups\n",
    "\n",
    "    text = \"hello DNA!! ATTTTCGCGCAT\"\n",
    "\n",
    "<table align=\"left\">\n",
    "<tr><td style=\"text-align:center\"><b>Pattern</b></td><td><b>Description</b></td><td><b>Example</b></td><td><b>Matches</b></td></tr>\n",
    "<tr><td style=\"text-align:center\">`{m}`</td><td>Matches exactly `m` repetitions of the preceding</td><td style=\"text-align:center\">`\"C{2}\"`</td><td style=\"text-align:center\">`[\"CC\"]`</td></tr>\n",
    "<tr><td style=\"text-align:center\">`{m,n}`</td><td>Matches from `m` to `n` repetitions of the preceding</td><td style=\"text-align:center\">`\"T{1,3}\"`</td><td style=\"text-align:center\">`[\"TTT, T, T\"]`</td></tr>\n",
    "<tr><td style=\"text-align:center\">`[]`</td><td>Matches any of a set of characters (character ranges can be used)</td><td style=\"text-align:center\">`\"[hDN]\"`</td><td style=\"text-align:center\">`[\"h\", \"D\", \"N\"]`</td></tr>\n",
    "<tr><td style=\"text-align:center\">`[^]`</td><td>Matches anything other than the set of characters specified</td><td style=\"text-align:center\">`\"[^a-zA-Z]\"`</td><td style=\"text-align:center\">`[\"!\", \"!\"]`</td></tr>\n",
    "<tr><td style=\"text-align:center\">`A|B`</td><td>Matches pattern `A` or pattern `B`</td><td style=\"text-align:center\">`\"l{2}|AT+\"`</td><td style=\"text-align:center\">`[\"ll\", \"ATTTT\", \"AT\"]`</td></tr>\n",
    "<tr><td style=\"text-align:center\">`()`</td><td>Parentheses are used to group a pattern into a single entity</td><td style=\"text-align:center\">`\"(CG)+\"`</td><td style=\"text-align:center\">`[\"CGCG\"]`</td></tr>\n",
    "</table>"
   ]
  },
  {
   "cell_type": "markdown",
   "metadata": {},
   "source": [
    "\\*Note: Within `[]` special characters (e.g. `., +, *`) are interpreted literally."
   ]
  },
  {
   "cell_type": "markdown",
   "metadata": {},
   "source": [
    "#### More Examples"
   ]
  },
  {
   "cell_type": "code",
   "execution_count": 10,
   "metadata": {},
   "outputs": [
    {
     "data": {
      "text/plain": [
       "['!', '!']"
      ]
     },
     "execution_count": 10,
     "metadata": {},
     "output_type": "execute_result"
    }
   ],
   "source": [
    "re.findall(r\"[^a-zA-Z ]\", text)"
   ]
  },
  {
   "cell_type": "code",
   "execution_count": 11,
   "metadata": {},
   "outputs": [
    {
     "name": "stdout",
     "output_type": "stream",
     "text": [
      "ATGCGCGCGCGCGC\n",
      "(8, 22)\n",
      "ATGCGCGCGC\n",
      "(24, 34)\n"
     ]
    }
   ],
   "source": [
    "## Use groups to find repetitions\n",
    "seq = \"ATAATAAGATGCGCGCGCGCGCTTATGCGCGCGCA\"\n",
    "seq_iter = re.finditer(r\"(AT)(GC)+\", seq)\n",
    "for x in seq_iter:\n",
    "    print(x.group())\n",
    "    print(x.span())"
   ]
  },
  {
   "cell_type": "code",
   "execution_count": 12,
   "metadata": {},
   "outputs": [
    {
     "name": "stdout",
     "output_type": "stream",
     "text": [
      "AT\n",
      "(8, 10)\n",
      "AT\n",
      "(24, 26)\n"
     ]
    }
   ],
   "source": [
    "## You can access the individual groups by number.\n",
    "## 0 is the default and will return the entire match\n",
    "## Individual groups can be accessed starting with 1\n",
    "seq = \"ATAATAAGATGCGCGCGCGCGCTTATGCGCGCGCA\"\n",
    "seq_iter = re.finditer(r\"(AT)((GC)+)\", seq)\n",
    "for x in seq_iter:\n",
    "    print(x.group(1))\n",
    "    print(x.span(1))"
   ]
  },
  {
   "cell_type": "markdown",
   "metadata": {},
   "source": [
    "### Capturing and Labeling Groups\n",
    "\n",
    "Groups are captured so that you can refer to them later, both within the pattern itself and in the match result (as seen above). To reference a group in the pattern itself use a `\\` followed by the number of the group (e.g. `\\1` or `\\2`) Groups can also be labeled so they can be referenced by name. To label a group, insert `?P<group_name>` inside the parentheses just before the group pattern. You can also specify that a group NOT be captured by placing `?:` inside the parentheses before the group pattern. \n",
    "\n",
    "\\*Note: Remember that `\\` is an escape character. If you don't use a raw string (`r\"\"`), you'll have to use a double backslash `\\\\`."
   ]
  },
  {
   "cell_type": "code",
   "execution_count": 13,
   "metadata": {},
   "outputs": [
    {
     "data": {
      "text/plain": [
       "[('A', 'G', 'A'),\n",
       " ('C', 'G', 'C'),\n",
       " ('C', 'G', 'C'),\n",
       " ('C', 'G', 'C'),\n",
       " ('C', 'G', 'C'),\n",
       " ('C', 'G', 'C')]"
      ]
     },
     "execution_count": 13,
     "metadata": {},
     "output_type": "execute_result"
    }
   ],
   "source": [
    "## When a pattern contains groups, re.findall() will\n",
    "## only return the captured groups\n",
    "re.findall(r\"(A|C)(G)(\\1)\", seq)"
   ]
  },
  {
   "cell_type": "code",
   "execution_count": 14,
   "metadata": {},
   "outputs": [
    {
     "data": {
      "text/plain": [
       "'ATAATAAGATGCGCGCGCGCGCTTATGCGCGCGCA'"
      ]
     },
     "execution_count": 14,
     "metadata": {},
     "output_type": "execute_result"
    }
   ],
   "source": [
    "seq"
   ]
  },
  {
   "cell_type": "code",
   "execution_count": 15,
   "metadata": {},
   "outputs": [
    {
     "name": "stdout",
     "output_type": "stream",
     "text": [
      "AGA\n",
      "CGC\n",
      "CGC\n",
      "CGC\n",
      "CGC\n",
      "CGC\n"
     ]
    }
   ],
   "source": [
    "seq_iter2 = re.finditer(r\"(A|C)(G)\\1\", seq)\n",
    "for x in seq_iter2:\n",
    "    print(x.group())"
   ]
  },
  {
   "cell_type": "code",
   "execution_count": 16,
   "metadata": {},
   "outputs": [
    {
     "name": "stdout",
     "output_type": "stream",
     "text": [
      "user@domain.edu\n",
      "user\n",
      "domain.edu\n"
     ]
    }
   ],
   "source": [
    "## Match an email address using labeled groups\n",
    "email = \"user@domain.edu\"\n",
    "mo2 = re.search(r\"(?P<username>[a-zA-Z0-9_.]+)@(?P<domain>[a-zA-Z0-9_.]+\\.(com|edu|org))\", email)\n",
    "print(mo2.group())\n",
    "print(mo2.group(\"username\"))\n",
    "print(mo2.group(\"domain\"))"
   ]
  },
  {
   "cell_type": "code",
   "execution_count": 17,
   "metadata": {},
   "outputs": [
    {
     "data": {
      "text/plain": [
       "'domain.edu'"
      ]
     },
     "execution_count": 17,
     "metadata": {},
     "output_type": "execute_result"
    }
   ],
   "source": [
    "mo2.group(2)"
   ]
  },
  {
   "cell_type": "code",
   "execution_count": 18,
   "metadata": {},
   "outputs": [
    {
     "data": {
      "text/plain": [
       "'edu'"
      ]
     },
     "execution_count": 18,
     "metadata": {},
     "output_type": "execute_result"
    }
   ],
   "source": [
    "mo2.group(3)"
   ]
  },
  {
   "cell_type": "markdown",
   "metadata": {},
   "source": [
    "### Compiling RegEx Patterns\n",
    "\n",
    "A regex pattern can be compiled to help speed up a search. This is useful when searching a large amount of text.\n",
    "\n"
   ]
  },
  {
   "cell_type": "code",
   "execution_count": 19,
   "metadata": {},
   "outputs": [
    {
     "data": {
      "text/plain": [
       "['Hello', 'hello']"
      ]
     },
     "execution_count": 19,
     "metadata": {},
     "output_type": "execute_result"
    }
   ],
   "source": [
    "## Use the re.compile() method to compile a pattern\n",
    "rgx = re.compile(r\"[Hh]ello\")\n",
    "text2 = \"Hello, world. hello, Python!\"\n",
    "rgx.findall(text2)"
   ]
  },
  {
   "cell_type": "markdown",
   "metadata": {},
   "source": [
    "## PROSITE Patterns\n",
    "\n",
    "### The Central Dogma of Biology\n",
    "\n",
    "<img src=\"./images/central_dogma.jpg\" width=\"400\" height=\"400\" align=\"left\" />"
   ]
  },
  {
   "cell_type": "markdown",
   "metadata": {},
   "source": [
    "1. DNA is transcribed to messenger RNA (mRNA)\n",
    "2. mRNA is translated to amino acids\n",
    "3. Amino acids are the building blocks of proteins"
   ]
  },
  {
   "cell_type": "markdown",
   "metadata": {},
   "source": [
    "### RNA Codon Table\n",
    "\n",
    "The following table shows the standard genetic code: mRNA codons (triplets) and the amino acids they specify. Also shown are the three-letter codes and IUPAC single-letter codes for each amino acid.\n",
    "\n",
    "<img src=\"./images/codon_table.jpg\" height=\"500\" align=\"left\" />"
   ]
  },
  {
   "cell_type": "markdown",
   "metadata": {},
   "source": [
    "#### Types of Protein Structure\n",
    "\n",
    "1. Primary Structure: amino acid (AA) sequence\n",
    "2. Secondary Structure: AA sequence interacts with itself to form local structures (e.g. beta sheets, alpha helices)\n",
    "3. Tertiary Structure: Secondary structures interact to form the 3D protein structure\n",
    "4. Quaternary Structure: Protein complexes (multiple proteins interact)\n",
    "\n",
    "### The PROSITE Database\n",
    "\n",
    "- A collection of amino acid sequences associated with protein domains (e.g. structural and/or functional)\n",
    "    - Useful for analysis of know sequences\n",
    "    - A tool for analyzing function conservation across biological systems\n",
    "    - Prediction of function of a novel sequence\n",
    "- Patterns are similar to regular expressions, with the following syntax:\n",
    "    - Every amino acid position is separated by a hyphen (`-`)\n",
    "    - Amino acids are specified by their IUPAC codes ([http://www.bioinformatics.org/sms/iupac.html](http://www.bioinformatics.org/sms/iupac.html))\n",
    "    - Ambiguous positions are specified by placing all acceptable AAs in `[]`\n",
    "    - Ambiguous positions are also specified by placing unacceptable AAs in `{}`\n",
    "    - An `x` is used if any AA is accepted\n",
    "    - Repititions are indicated by following an element with a numerical value (or range for `x`) in parentheses.\n",
    "    - [http://prosite.expasy.org/scanprosite/scanprosite_doc.html](http://prosite.expasy.org/scanprosite/scanprosite_doc.html)\n",
    "\n",
    "#### An Example PROSITE Pattern:\n",
    "\n",
    "    K(2)‐{KR}‐C‐G‐H-[LMQR]"
   ]
  },
  {
   "cell_type": "markdown",
   "metadata": {},
   "source": [
    "## In-Class Exercises"
   ]
  },
  {
   "cell_type": "code",
   "execution_count": null,
   "metadata": {},
   "outputs": [],
   "source": [
    "## Exercise 1.\n",
    "## K(2)‐{KR}‐C‐G‐H-[LMQR]\n",
    "## Using the rules mentioned above, translate this PROSITE Pattern to a RegEx\n"
   ]
  },
  {
   "cell_type": "code",
   "execution_count": null,
   "metadata": {},
   "outputs": [],
   "source": [
    "## Exercise 2.\n",
    "## seq_ex2 = \"ATTTTATAACGATGCGGGCGCG\"\n",
    "## Write a regular expression to search for cases \n",
    "## where there are repeat bases\n",
    "## \"AA\", \"TTTT\", \"GGG\", ...\n",
    "seq_ex2 = \"ATTTTATAACGATGCGGGCGCG\"\n"
   ]
  },
  {
   "cell_type": "code",
   "execution_count": null,
   "metadata": {},
   "outputs": [],
   "source": [
    "## Exercise 3.\n",
    "## Write a regular expression to search for an 'A' or 'T' \n",
    "## preceded by \"CC\" or \"GG\" or \"CG\" or \"GC\"\n",
    "## \"CGA\", \"CCT\", \"GCT\", ...\n"
   ]
  },
  {
   "cell_type": "markdown",
   "metadata": {},
   "source": [
    "## References"
   ]
  },
  {
   "cell_type": "markdown",
   "metadata": {},
   "source": [
    "- <u>Python for Bioinformatics</u>, Sebastian Bassi, CRC Press (2010)\n",
    "- <u>Python Essential Reference</u>, David Beazley, 4th Edition, Addison‐Wesley (2008)\n",
    "- [http://docs.python.org/](http://docs.python.org/)\n",
    "- [http://www.regular-expressions.info/](http://www.regular-expressions.info/)\n",
    "\n",
    "#### Last Updated: 15-Sep-2022"
   ]
  }
 ],
 "metadata": {
  "anaconda-cloud": {},
  "kernelspec": {
   "display_name": "Python 3 (ipykernel)",
   "language": "python",
   "name": "python3"
  },
  "language_info": {
   "codemirror_mode": {
    "name": "ipython",
    "version": 3
   },
   "file_extension": ".py",
   "mimetype": "text/x-python",
   "name": "python",
   "nbconvert_exporter": "python",
   "pygments_lexer": "ipython3",
   "version": "3.10.6"
  }
 },
 "nbformat": 4,
 "nbformat_minor": 1
}
