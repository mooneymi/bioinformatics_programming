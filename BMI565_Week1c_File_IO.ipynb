{
 "cells": [
  {
   "cell_type": "markdown",
   "metadata": {},
   "source": [
    "# BMI 565: Bioinformatics Programming & Scripting\n",
    "\n",
    "#### (C) Michael Mooney (mooneymi@ohsu.edu)\n",
    "\n",
    "## Week 1: File Input/Output\n",
    "\n",
    "1. Basic File I/O\n",
    "    * Methods for Reading from Files\n",
    "    * Writing to Files\n",
    "    * The `with` Statement\n",
    "2. Parsing Data Files\n",
    "3. The `csv` Module\n",
    "4. The `cPickle` Module\n",
    "\n",
    "#### Requirements\n",
    "- Python 2.7 or 3.x\n",
    "- `csv` module\n",
    "- `cPickle` module\n",
    "\n",
    "- Data Files\n",
    "    - `./data/P00533.fasta`\n",
    "    - `./data/annot_test.txt`"
   ]
  },
  {
   "cell_type": "markdown",
   "metadata": {},
   "source": [
    "## Basic File I/O"
   ]
  },
  {
   "cell_type": "markdown",
   "metadata": {},
   "source": [
    "### Opening Files"
   ]
  },
  {
   "cell_type": "code",
   "execution_count": 1,
   "metadata": {},
   "outputs": [],
   "source": [
    "## Use the open() function to create a file handle object\n",
    "## The two parameters are the file path and the mode: \n",
    "## 'r' = read (default), 'w' = write, 'a' = append\n",
    "fh = open('./data/P00533.fasta', 'r')"
   ]
  },
  {
   "cell_type": "code",
   "execution_count": 2,
   "metadata": {},
   "outputs": [
    {
     "data": {
      "text/plain": [
       "<_io.TextIOWrapper name='./data/P00533.fasta' mode='r' encoding='UTF-8'>"
      ]
     },
     "execution_count": 2,
     "metadata": {},
     "output_type": "execute_result"
    }
   ],
   "source": [
    "fh"
   ]
  },
  {
   "cell_type": "markdown",
   "metadata": {},
   "source": [
    "### Methods for Reading from Files"
   ]
  },
  {
   "cell_type": "markdown",
   "metadata": {},
   "source": [
    "<table align=\"left\">\n",
    "<tr><td style=\"text-align:center\"><b>Method</b></td><td><b>Description</b></td></tr>\n",
    "    <tr><td style=\"text-align:center\"><code>fh.read([size])</code></td><td>Will read the file up to <code>size</code> bytes. If <code>size</code> is not specified the <br />entire file will be read. Returns a string.</td></tr>\n",
    "<tr><td style=\"text-align:center\"><code>fh.readline([size])</code></td><td>Will read a single line up to <code>size</code> bytes. If <code>size</code> is not specified the <br />entire line is read. Returns a string.</td></tr>\n",
    "<tr><td style=\"text-align:center\"><code>fh.readlines([sizehint])</code></td><td>Will read multiple lines and return a list containing each line.</td></tr>\n",
    "</table>"
   ]
  },
  {
   "cell_type": "code",
   "execution_count": 3,
   "metadata": {},
   "outputs": [
    {
     "name": "stdout",
     "output_type": "stream",
     "text": [
      ">sp|P00533|EGFR_HUMAN Epidermal growth factor receptor OS=Homo sapiens GN=EGFR PE=1 SV=2\n",
      "MRPSGTAGAALLALLAALCPASRALEEKKVCQGTSNKLTQLGTFEDHFLSLQRMFNNCEV\n",
      "VLGNLEITYVQRNYDLSFLKTIQEVAGYVLIALNTVERIPLENLQIIRGNMYYENSYALA\n",
      "VLSNYDANKTGLKELPMRNLQEILHGAVRFSNNPALCNVESIQWRDIVSSDFLSNMSMDF\n",
      "QNHLGSCQKCDPSCPNGSCWGAGEENCQKLTKIICAQQCSGRCRGKSPSDCCHNQCAAGC\n",
      "TGPRESDCLVCRKFRDEATCKDTCPPLMLYNPTTYQMDVNPEGKYSFGATCVKKCPRNYV\n",
      "VTDHGSCVRACGADSYEMEEDGVRKCKKCEGPCRKVCNGIGIGEFKDSLSINATNIKHFK\n",
      "NCTSISGDLHILPVAFRGDSFTHTPPLDPQELDILKTVKEITGFLLIQAWPENRTDLHAF\n",
      "ENLEIIRGRTKQHGQFSLAVVSLNITSLGLRSLKEISDGDVIISGNKNLCYANTINWKKL\n",
      "FGTSGQKTKIISNRGENSCKATGQVCHALCSPEGCWGPEPRDCVSCRNVSRGRECVDKCN\n",
      "LLEGEPREFVENSECIQCHPECLPQAMNITCTGRGPDNCIQCAHYIDGPHCVKTCPAGVM\n",
      "GENNTLVWKYADAGHVCHLCHPNCTYGCTGPGLEGCPTNGPKIPSIATGMVGALLLLLVV\n",
      "ALGIGLFMRRRHIVRKRTLRRLLQERELVEPLTPSGEAPNQALLRILKETEFKKIKVLGS\n",
      "GAFGTVYKGLWIPEGEKVKIPVAIKELREATSPKANKEILDEAYVMASVDNPHVCRLLGI\n",
      "CLTSTVQLITQLMPFGCLLDYVREHKDNIGSQYLLNWCVQIAKGMNYLEDRRLVHRDLAA\n",
      "RNVLVKTPQHVKITDFGLAKLLGAEEKEYHAEGGKVPIKWMALESILHRIYTHQSDVWSY\n",
      "GVTVWELMTFGSKPYDGIPASEISSILEKGERLPQPPICTIDVYMIMVKCWMIDADSRPK\n",
      "FRELIIEFSKMARDPQRYLVIQGDERMHLPSPTDSNFYRALMDEEDMDDVVDADEYLIPQ\n",
      "QGFFSSPSTSRTPLLSSLSATSNNSTVACIDRNGLQSCPIKEDSFLQRYSSDPTGALTED\n",
      "SIDDTFLPVPEYINQSVPKRPAGSVQNPVYHNQPLNPAPSRDPHYQDPHSTAVGNPEYLN\n",
      "TVQPTCVNSTFDSPAHWAQKGSHQISLDNPDYQQDFFPKEAKPNGIFKGSTAENAEYLRV\n",
      "APQSSEFIGA\n",
      "\n"
     ]
    }
   ],
   "source": [
    "## Read the entire fasta file\n",
    "data = fh.read()\n",
    "print(data)"
   ]
  },
  {
   "cell_type": "markdown",
   "metadata": {},
   "source": [
    "### Closing the File"
   ]
  },
  {
   "cell_type": "code",
   "execution_count": 4,
   "metadata": {},
   "outputs": [],
   "source": [
    "fh.close()"
   ]
  },
  {
   "cell_type": "code",
   "execution_count": 5,
   "metadata": {},
   "outputs": [
    {
     "ename": "ValueError",
     "evalue": "I/O operation on closed file.",
     "output_type": "error",
     "traceback": [
      "\u001b[0;31m---------------------------------------------------------------------------\u001b[0m",
      "\u001b[0;31mValueError\u001b[0m                                Traceback (most recent call last)",
      "Cell \u001b[0;32mIn [5], line 1\u001b[0m\n\u001b[0;32m----> 1\u001b[0m \u001b[43mfh\u001b[49m\u001b[38;5;241;43m.\u001b[39;49m\u001b[43mread\u001b[49m\u001b[43m(\u001b[49m\u001b[43m)\u001b[49m\n",
      "\u001b[0;31mValueError\u001b[0m: I/O operation on closed file."
     ]
    }
   ],
   "source": [
    "fh.read()"
   ]
  },
  {
   "cell_type": "markdown",
   "metadata": {},
   "source": [
    "### Methods for Writing to Files\n",
    "\n",
    "<table align=\"left\">\n",
    "<tr><td style=\"text-align:center\"><b>Method</b></td><td><b>Description</b></td></tr>\n",
    "    <tr><td style=\"text-align:center\"><code>file.write(str)</code></td><td>Writes the string <code>str</code> to the file.</td></tr>\n",
    "<tr><td style=\"text-align:center\"><code>fh.writelines(iterable)</code></td><td>Writes each element of an iterable object (that produces strings)<br />to the file. It does not add line separators.</td></tr>\n",
    "</table>"
   ]
  },
  {
   "cell_type": "code",
   "execution_count": 6,
   "metadata": {},
   "outputs": [],
   "source": [
    "## Use the open() function to create a file handle object\n",
    "## For writing use the 'a' or 'w' mode\n",
    "## Note: using the 'w' mode will overwrite an existing file\n",
    "fh = open('./data/new_file.txt', 'w')"
   ]
  },
  {
   "cell_type": "code",
   "execution_count": 7,
   "metadata": {},
   "outputs": [],
   "source": [
    "lines = ['Hello\\n', 'World']\n",
    "fh.writelines(lines)"
   ]
  },
  {
   "cell_type": "code",
   "execution_count": 8,
   "metadata": {},
   "outputs": [],
   "source": [
    "fh.close()"
   ]
  },
  {
   "cell_type": "markdown",
   "metadata": {},
   "source": [
    "### The 'with' Statement: A Context Manager"
   ]
  },
  {
   "cell_type": "markdown",
   "metadata": {},
   "source": [
    "The `with` statement implements a context manager. Special `__enter__()` and `__exit__()` methods are called when entering and exiting the `with` block of code. For a file handle, the `__exit__()` method is `fh.close()`, which ensures that the file is closed after exiting the block. The `__enter__()` and `__exit__()` methods will be different depending on the context. For example, if a `with` statement were used with a database connection, the `__exit__()` method might execute a commit statement (saving the changes made to the database)."
   ]
  },
  {
   "cell_type": "code",
   "execution_count": 9,
   "metadata": {},
   "outputs": [
    {
     "data": {
      "text/plain": [
       "'>sp|P00533|EGFR_HUMAN Epidermal growth factor receptor OS=Homo sapiens GN=EGFR PE=1 SV=2'"
      ]
     },
     "execution_count": 9,
     "metadata": {},
     "output_type": "execute_result"
    }
   ],
   "source": [
    "## Using a context manager ensures the file is closed\n",
    "## at the end of the 'with' block\n",
    "with open('./data/P00533.fasta') as fh:\n",
    "    lines = []\n",
    "    for line in fh:\n",
    "        lines.append(line.rstrip())\n",
    "\n",
    "## Show the first line\n",
    "lines[0]"
   ]
  },
  {
   "cell_type": "code",
   "execution_count": 10,
   "metadata": {},
   "outputs": [
    {
     "data": {
      "text/plain": [
       "'MRPSGTAGAALLALLAALCPASRALEEKKVCQGTSNKLTQLGTFEDHFLSLQRMFNNCEV'"
      ]
     },
     "execution_count": 10,
     "metadata": {},
     "output_type": "execute_result"
    }
   ],
   "source": [
    "## Show the second line\n",
    "lines[1]"
   ]
  },
  {
   "cell_type": "markdown",
   "metadata": {},
   "source": [
    "## Parsing Data Files"
   ]
  },
  {
   "cell_type": "markdown",
   "metadata": {},
   "source": [
    "### Example 1:  Fasta File"
   ]
  },
  {
   "cell_type": "code",
   "execution_count": 11,
   "metadata": {},
   "outputs": [
    {
     "data": {
      "text/plain": [
       "'>sp|P00533|EGFR_HUMAN Epidermal growth factor receptor OS=Homo sapiens GN=EGFR PE=1 SV=2\\n'"
      ]
     },
     "execution_count": 11,
     "metadata": {},
     "output_type": "execute_result"
    }
   ],
   "source": [
    "## Open the fasta file\n",
    "fh = open('./data/P00533.fasta', 'r')\n",
    "## Read the first line of the file\n",
    "seq_description = fh.readline()\n",
    "seq_description"
   ]
  },
  {
   "cell_type": "code",
   "execution_count": 12,
   "metadata": {},
   "outputs": [
    {
     "data": {
      "text/plain": [
       "'sp|P00533|EGFR_HUMAN Epidermal growth factor receptor OS=Homo sapiens GN=EGFR PE=1 SV=2'"
      ]
     },
     "execution_count": 12,
     "metadata": {},
     "output_type": "execute_result"
    }
   ],
   "source": [
    "## Clean up the first line to get the sequence description\n",
    "seq_description = seq_description.rstrip()[1:]\n",
    "seq_description"
   ]
  },
  {
   "cell_type": "code",
   "execution_count": 13,
   "metadata": {},
   "outputs": [
    {
     "data": {
      "text/plain": [
       "'MRPSGTAGAALLALLAALCPASRALEEKKVCQGTSNKLTQLGTFEDHFLSLQRMFNNCEV'"
      ]
     },
     "execution_count": 13,
     "metadata": {},
     "output_type": "execute_result"
    }
   ],
   "source": [
    "## The file handle object is an iterable object and can\n",
    "## be used to iterate through the lines of a file.\n",
    "## The list comprehension below creates a list containing\n",
    "## each line of the file with the trailing newline \n",
    "## character removed.\n",
    "seq_list = [line.rstrip() for line in fh]\n",
    "seq_list[0]"
   ]
  },
  {
   "cell_type": "code",
   "execution_count": 14,
   "metadata": {},
   "outputs": [
    {
     "data": {
      "text/plain": [
       "['MRPSGTAGAALLALLAALCPASRALEEKKVCQGTSNKLTQLGTFEDHFLSLQRMFNNCEV',\n",
       " 'VLGNLEITYVQRNYDLSFLKTIQEVAGYVLIALNTVERIPLENLQIIRGNMYYENSYALA']"
      ]
     },
     "execution_count": 14,
     "metadata": {},
     "output_type": "execute_result"
    }
   ],
   "source": [
    "seq_list[0:2]"
   ]
  },
  {
   "cell_type": "code",
   "execution_count": 15,
   "metadata": {},
   "outputs": [
    {
     "data": {
      "text/plain": [
       "'MRPSGTAGAALLALLAALCPASRALEEKKVCQGTSNKLTQLGTFEDHFLSLQRMFNNCEVVLGNLEITYVQRNYDLSFLKTIQEVAGYVLIALNTVERIPLENLQIIRGNMYYENSYALAVLSNYDANKTGLKELPMRNLQEILHGAVRFSNNPALCNVESIQWRDIVSSDFLSNMSMDFQNHLGSCQKCDPSCPNGSCWGAGEENCQKLTKIICAQQCSGRCRGKSPSDCCHNQCAAGCTGPRESDCLVCRKFRDEATCKDTCPPLMLYNPTTYQMDVNPEGKYSFGATCVKKCPRNYVVTDHGSCVRACGADSYEMEEDGVRKCKKCEGPCRKVCNGIGIGEFKDSLSINATNIKHFKNCTSISGDLHILPVAFRGDSFTHTPPLDPQELDILKTVKEITGFLLIQAWPENRTDLHAFENLEIIRGRTKQHGQFSLAVVSLNITSLGLRSLKEISDGDVIISGNKNLCYANTINWKKLFGTSGQKTKIISNRGENSCKATGQVCHALCSPEGCWGPEPRDCVSCRNVSRGRECVDKCNLLEGEPREFVENSECIQCHPECLPQAMNITCTGRGPDNCIQCAHYIDGPHCVKTCPAGVMGENNTLVWKYADAGHVCHLCHPNCTYGCTGPGLEGCPTNGPKIPSIATGMVGALLLLLVVALGIGLFMRRRHIVRKRTLRRLLQERELVEPLTPSGEAPNQALLRILKETEFKKIKVLGSGAFGTVYKGLWIPEGEKVKIPVAIKELREATSPKANKEILDEAYVMASVDNPHVCRLLGICLTSTVQLITQLMPFGCLLDYVREHKDNIGSQYLLNWCVQIAKGMNYLEDRRLVHRDLAARNVLVKTPQHVKITDFGLAKLLGAEEKEYHAEGGKVPIKWMALESILHRIYTHQSDVWSYGVTVWELMTFGSKPYDGIPASEISSILEKGERLPQPPICTIDVYMIMVKCWMIDADSRPKFRELIIEFSKMARDPQRYLVIQGDERMHLPSPTDSNFYRALMDEEDMDDVVDADEYLIPQQGFFSSPSTSRTPLLSSLSATSNNSTVACIDRNGLQSCPIKEDSFLQRYSSDPTGALTEDSIDDTFLPVPEYINQSVPKRPAGSVQNPVYHNQPLNPAPSRDPHYQDPHSTAVGNPEYLNTVQPTCVNSTFDSPAHWAQKGSHQISLDNPDYQQDFFPKEAKPNGIFKGSTAENAEYLRVAPQSSEFIGA'"
      ]
     },
     "execution_count": 15,
     "metadata": {},
     "output_type": "execute_result"
    }
   ],
   "source": [
    "## Join the elements of the list to get the entire sequence\n",
    "seq = ''.join(seq_list)\n",
    "seq"
   ]
  },
  {
   "cell_type": "code",
   "execution_count": 16,
   "metadata": {},
   "outputs": [],
   "source": [
    "fh.close()"
   ]
  },
  {
   "cell_type": "markdown",
   "metadata": {},
   "source": [
    "\\* Note: Ideally you would put all the above commands for Example 1 (excluding the `fh.close()`) inside a `with` block. Same for the other examples below."
   ]
  },
  {
   "cell_type": "markdown",
   "metadata": {},
   "source": [
    "### Example 2: Microarray Annotations"
   ]
  },
  {
   "cell_type": "code",
   "execution_count": 17,
   "metadata": {},
   "outputs": [],
   "source": [
    "## Open the file\n",
    "fh = open('./data/annot_test.txt')"
   ]
  },
  {
   "cell_type": "code",
   "execution_count": 18,
   "metadata": {},
   "outputs": [
    {
     "data": {
      "text/plain": [
       "'ProbeID\\tPrimaryAccession\\tRefSeqAccession\\tGenbankAccession\\tUniGeneID\\tEntrezGeneID\\tGeneSymbol\\tGeneName\\tEnsemblID\\tTIGRID\\tGO\\tDescription\\tGenomicCoordinates\\tCytoband'"
      ]
     },
     "execution_count": 18,
     "metadata": {},
     "output_type": "execute_result"
    }
   ],
   "source": [
    "## Get the first line and remove the newline character\n",
    "first_line = fh.readline()\n",
    "first_line = first_line.rstrip()\n",
    "first_line"
   ]
  },
  {
   "cell_type": "code",
   "execution_count": 19,
   "metadata": {},
   "outputs": [
    {
     "data": {
      "text/plain": [
       "['ProbeID',\n",
       " 'PrimaryAccession',\n",
       " 'RefSeqAccession',\n",
       " 'GenbankAccession',\n",
       " 'UniGeneID',\n",
       " 'EntrezGeneID',\n",
       " 'GeneSymbol',\n",
       " 'GeneName',\n",
       " 'EnsemblID',\n",
       " 'TIGRID',\n",
       " 'GO',\n",
       " 'Description',\n",
       " 'GenomicCoordinates',\n",
       " 'Cytoband']"
      ]
     },
     "execution_count": 19,
     "metadata": {},
     "output_type": "execute_result"
    }
   ],
   "source": [
    "## Get the column names\n",
    "column_names = first_line.split('\\t')\n",
    "column_names"
   ]
  },
  {
   "cell_type": "code",
   "execution_count": 20,
   "metadata": {},
   "outputs": [
    {
     "data": {
      "text/plain": [
       "['A_23_P253586',\n",
       " 'NM_005128',\n",
       " 'NM_005128',\n",
       " 'NM_005128',\n",
       " 'Hs.204575',\n",
       " '9980',\n",
       " 'DOPEY2',\n",
       " 'dopey family member 2',\n",
       " 'ENST00000270190',\n",
       " 'THC2471394',\n",
       " 'GO:0000139(Golgi membrane)|GO:0003674(molecular_function)|GO:0006895(Golgi to endosome transport)|GO:0007029(endoplasmic reticulum organization and biogenesis)|GO:0007275(multicellular organismal development)',\n",
       " 'Homo sapiens dopey family member 2 (DOPEY2), mRNA [NM_005128]',\n",
       " 'chr21:36586364-36587509',\n",
       " 'hs|21q22.12']"
      ]
     },
     "execution_count": 20,
     "metadata": {},
     "output_type": "execute_result"
    }
   ],
   "source": [
    "## Read the rest of the file and create a list of lists.\n",
    "## For each line of the file, remove the newline character\n",
    "## and split the line to get the data in each column.\n",
    "data = [line.rstrip().split('\\t') for line in fh]\n",
    "data[0]"
   ]
  },
  {
   "cell_type": "code",
   "execution_count": 21,
   "metadata": {},
   "outputs": [
    {
     "data": {
      "text/plain": [
       "['A_23_P217507',\n",
       " 'NM_004729',\n",
       " 'NM_004729',\n",
       " 'NM_004729',\n",
       " 'Hs.131452',\n",
       " '9189',\n",
       " 'ZBED1',\n",
       " 'zinc finger, BED-type containing 1',\n",
       " 'ENST00000381222',\n",
       " 'THC2461273',\n",
       " 'GO:0000228(nuclear chromosome)|GO:0003677(DNA binding)|GO:0004803(transposase activity)|GO:0005634(nucleus)|GO:0008270(zinc ion binding)|GO:0046872(metal ion binding)|GO:0046983(protein dimerization activity)',\n",
       " 'Homo sapiens zinc finger, BED-type containing 1 (ZBED1), mRNA [NM_004729]',\n",
       " 'chrY:2415173-2415114',\n",
       " 'hs|Yp11.31']"
      ]
     },
     "execution_count": 21,
     "metadata": {},
     "output_type": "execute_result"
    }
   ],
   "source": [
    "data[1]"
   ]
  },
  {
   "cell_type": "code",
   "execution_count": 22,
   "metadata": {},
   "outputs": [
    {
     "data": {
      "text/plain": [
       "'A_23_P253586'"
      ]
     },
     "execution_count": 22,
     "metadata": {},
     "output_type": "execute_result"
    }
   ],
   "source": [
    "data[0][0]"
   ]
  },
  {
   "cell_type": "code",
   "execution_count": 23,
   "metadata": {},
   "outputs": [],
   "source": [
    "## Close the file\n",
    "fh.close()"
   ]
  },
  {
   "cell_type": "markdown",
   "metadata": {},
   "source": [
    "## The csv Module"
   ]
  },
  {
   "cell_type": "markdown",
   "metadata": {},
   "source": [
    "The `csv` module can be used to read and parse delimited files."
   ]
  },
  {
   "cell_type": "code",
   "execution_count": 24,
   "metadata": {},
   "outputs": [],
   "source": [
    "import csv\n",
    "\n",
    "## Open the file for reading\n",
    "fh = open('./data/annot_test.txt')"
   ]
  },
  {
   "cell_type": "code",
   "execution_count": 25,
   "metadata": {},
   "outputs": [
    {
     "data": {
      "text/plain": [
       "['ProbeID',\n",
       " 'PrimaryAccession',\n",
       " 'RefSeqAccession',\n",
       " 'GenbankAccession',\n",
       " 'UniGeneID',\n",
       " 'EntrezGeneID',\n",
       " 'GeneSymbol',\n",
       " 'GeneName',\n",
       " 'EnsemblID',\n",
       " 'TIGRID',\n",
       " 'GO',\n",
       " 'Description',\n",
       " 'GenomicCoordinates',\n",
       " 'Cytoband']"
      ]
     },
     "execution_count": 25,
     "metadata": {},
     "output_type": "execute_result"
    }
   ],
   "source": [
    "## Read the file with the csv.reader() method.\n",
    "## The csv.reader object is a generator and will split\n",
    "## each line of the file (using the specified delimiter), \n",
    "## and return a list.\n",
    "## The command below will read the entire file into a list of lists\n",
    "data = list(csv.reader(fh, delimiter='\\t'))\n",
    "\n",
    "## Show the list created from the first line of the file\n",
    "data[0]"
   ]
  },
  {
   "cell_type": "code",
   "execution_count": 26,
   "metadata": {},
   "outputs": [
    {
     "data": {
      "text/plain": [
       "['A_23_P253586',\n",
       " 'NM_005128',\n",
       " 'NM_005128',\n",
       " 'NM_005128',\n",
       " 'Hs.204575',\n",
       " '9980',\n",
       " 'DOPEY2',\n",
       " 'dopey family member 2',\n",
       " 'ENST00000270190',\n",
       " 'THC2471394',\n",
       " 'GO:0000139(Golgi membrane)|GO:0003674(molecular_function)|GO:0006895(Golgi to endosome transport)|GO:0007029(endoplasmic reticulum organization and biogenesis)|GO:0007275(multicellular organismal development)',\n",
       " 'Homo sapiens dopey family member 2 (DOPEY2), mRNA [NM_005128]',\n",
       " 'chr21:36586364-36587509',\n",
       " 'hs|21q22.12']"
      ]
     },
     "execution_count": 26,
     "metadata": {},
     "output_type": "execute_result"
    }
   ],
   "source": [
    "## Show the list created from the second line of the file\n",
    "data[1]"
   ]
  },
  {
   "cell_type": "code",
   "execution_count": 27,
   "metadata": {},
   "outputs": [],
   "source": [
    "## Close the file\n",
    "fh.close()"
   ]
  },
  {
   "cell_type": "markdown",
   "metadata": {},
   "source": [
    "### The csv.DictReader() Method"
   ]
  },
  {
   "cell_type": "code",
   "execution_count": 28,
   "metadata": {},
   "outputs": [],
   "source": [
    "fh = open('./data/annot_test.txt')"
   ]
  },
  {
   "cell_type": "code",
   "execution_count": 29,
   "metadata": {},
   "outputs": [
    {
     "data": {
      "text/plain": [
       "{'ProbeID': 'A_23_P253586',\n",
       " 'PrimaryAccession': 'NM_005128',\n",
       " 'RefSeqAccession': 'NM_005128',\n",
       " 'GenbankAccession': 'NM_005128',\n",
       " 'UniGeneID': 'Hs.204575',\n",
       " 'EntrezGeneID': '9980',\n",
       " 'GeneSymbol': 'DOPEY2',\n",
       " 'GeneName': 'dopey family member 2',\n",
       " 'EnsemblID': 'ENST00000270190',\n",
       " 'TIGRID': 'THC2471394',\n",
       " 'GO': 'GO:0000139(Golgi membrane)|GO:0003674(molecular_function)|GO:0006895(Golgi to endosome transport)|GO:0007029(endoplasmic reticulum organization and biogenesis)|GO:0007275(multicellular organismal development)',\n",
       " 'Description': 'Homo sapiens dopey family member 2 (DOPEY2), mRNA [NM_005128]',\n",
       " 'GenomicCoordinates': 'chr21:36586364-36587509',\n",
       " 'Cytoband': 'hs|21q22.12'}"
      ]
     },
     "execution_count": 29,
     "metadata": {},
     "output_type": "execute_result"
    }
   ],
   "source": [
    "## Read the file with the csv.DictReader() method.\n",
    "## csv.DictReader() will split each line of the file\n",
    "## using the specified delimiter, and will return a\n",
    "## dictionary for each line, where the dictionary keys\n",
    "## are the column names.\n",
    "data = list(csv.DictReader(fh, delimiter='\\t'))\n",
    "\n",
    "## Show the dictionary created from the first line of data\n",
    "data[0]"
   ]
  },
  {
   "cell_type": "code",
   "execution_count": 30,
   "metadata": {},
   "outputs": [
    {
     "data": {
      "text/plain": [
       "'DOPEY2'"
      ]
     },
     "execution_count": 30,
     "metadata": {},
     "output_type": "execute_result"
    }
   ],
   "source": [
    "## You can access individual values by the column name\n",
    "## Here is the cytoband value for the first row of data\n",
    "data[0]['GeneSymbol']"
   ]
  },
  {
   "cell_type": "code",
   "execution_count": 31,
   "metadata": {},
   "outputs": [
    {
     "data": {
      "text/plain": [
       "'ZBED1'"
      ]
     },
     "execution_count": 31,
     "metadata": {},
     "output_type": "execute_result"
    }
   ],
   "source": [
    "data[1]['GeneSymbol']"
   ]
  },
  {
   "cell_type": "code",
   "execution_count": 32,
   "metadata": {},
   "outputs": [],
   "source": [
    "fh.close()"
   ]
  },
  {
   "cell_type": "markdown",
   "metadata": {},
   "source": [
    "### Writing to Files with csv"
   ]
  },
  {
   "cell_type": "code",
   "execution_count": 33,
   "metadata": {},
   "outputs": [],
   "source": [
    "## First, get the data\n",
    "fh = open('./data/annot_test.txt')\n",
    "data = list(csv.reader(fh, delimiter='\\t'))\n",
    "fh.close()\n",
    "\n",
    "## Open a file for writing\n",
    "fh = open('./data/new_file.txt', 'w')"
   ]
  },
  {
   "cell_type": "code",
   "execution_count": 34,
   "metadata": {},
   "outputs": [],
   "source": [
    "## Create a csv.writer() object\n",
    "w = csv.writer(fh, delimiter='\\t')\n",
    "## The writerow() method will create delimited string \n",
    "## from a list and will write that string to the file\n",
    "w.writerow(data[0])\n",
    "## The writerows() will do the same as above, but requires\n",
    "## a list of lists and will write mulitple lines\n",
    "w.writerows(data[1:])"
   ]
  },
  {
   "cell_type": "code",
   "execution_count": 35,
   "metadata": {},
   "outputs": [],
   "source": [
    "fh.close()"
   ]
  },
  {
   "cell_type": "markdown",
   "metadata": {},
   "source": [
    "### A Useful Function: `zip()`\n",
    "`zip(x, y)` takes two lists and returns a list of tuples where the ith tuple represents the ith value from each original list. Note: in Python 3, `zip()` returns an iterable, so we wrap it in list() for compatibility."
   ]
  },
  {
   "cell_type": "code",
   "execution_count": 36,
   "metadata": {},
   "outputs": [
    {
     "data": {
      "text/plain": [
       "[(1, 4), (2, 8), (3, 10)]"
      ]
     },
     "execution_count": 36,
     "metadata": {},
     "output_type": "execute_result"
    }
   ],
   "source": [
    "x = [1,2,3]\n",
    "y = [4,8,10]\n",
    "z = list(zip(x, y))\n",
    "z"
   ]
  },
  {
   "cell_type": "markdown",
   "metadata": {},
   "source": [
    "## Saving Python Objects to File with Pickle"
   ]
  },
  {
   "cell_type": "code",
   "execution_count": 37,
   "metadata": {},
   "outputs": [],
   "source": [
    "import pickle\n",
    "\n",
    "## Open a file in binary write mode\n",
    "fh = open('./data/pickle_data.dat', 'wb')\n",
    "\n",
    "## Save a python object to the file\n",
    "pickle.dump(z, fh)\n",
    "\n",
    "## Close the file\n",
    "fh.close()"
   ]
  },
  {
   "cell_type": "code",
   "execution_count": 38,
   "metadata": {},
   "outputs": [],
   "source": [
    "## Load a python object from a pickle data file\n",
    "fh = open('./data/pickle_data.dat', 'rb')\n",
    "dat = pickle.load(fh)\n",
    "\n",
    "## Close the file\n",
    "fh.close()"
   ]
  },
  {
   "cell_type": "code",
   "execution_count": 39,
   "metadata": {},
   "outputs": [
    {
     "data": {
      "text/plain": [
       "[(1, 4), (2, 8), (3, 10)]"
      ]
     },
     "execution_count": 39,
     "metadata": {},
     "output_type": "execute_result"
    }
   ],
   "source": [
    "dat"
   ]
  },
  {
   "cell_type": "markdown",
   "metadata": {},
   "source": [
    "## In-Class Exercises"
   ]
  },
  {
   "cell_type": "code",
   "execution_count": null,
   "metadata": {},
   "outputs": [],
   "source": [
    "## Exercise 1.\n",
    "## Parse the microarray annotation file and create \n",
    "## lists of Probe IDs and Gene Symbols\n",
    "## The 'annot_test.txt' file is in the 'data' directory\n"
   ]
  },
  {
   "cell_type": "code",
   "execution_count": null,
   "metadata": {},
   "outputs": [],
   "source": [
    "## Exercise 2.\n",
    "## Iterate through the microarray annotations and\n",
    "## write, to a new file, only annotations for genes (Gene Symbols)\n",
    "## that start with 'D'.\n",
    "## The 'annot_test.txt' file is in the 'data' directory\n"
   ]
  },
  {
   "cell_type": "markdown",
   "metadata": {},
   "source": [
    "## References"
   ]
  },
  {
   "cell_type": "markdown",
   "metadata": {},
   "source": [
    "- <u>Python Essential Reference</u>, David Beazley, 4th Edition, Addison‐Wesley (2008)\n",
    "- <u>Python for Bioinformatics</u>, Sebastian Bassi, CRC Press (2010)\n",
    "- [http://docs.python.org/](http://docs.python.org/)\n",
    "\n",
    "#### Last Updated: 15-Sep-2022"
   ]
  }
 ],
 "metadata": {
  "anaconda-cloud": {},
  "kernelspec": {
   "display_name": "Python 3 (ipykernel)",
   "language": "python",
   "name": "python3"
  },
  "language_info": {
   "codemirror_mode": {
    "name": "ipython",
    "version": 3
   },
   "file_extension": ".py",
   "mimetype": "text/x-python",
   "name": "python",
   "nbconvert_exporter": "python",
   "pygments_lexer": "ipython3",
   "version": "3.10.6"
  }
 },
 "nbformat": 4,
 "nbformat_minor": 1
}
